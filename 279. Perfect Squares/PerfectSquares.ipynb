{
 "cells": [
  {
   "cell_type": "markdown",
   "metadata": {},
   "source": [
    "# Problem"
   ]
  },
  {
   "cell_type": "code",
   "execution_count": null,
   "metadata": {},
   "outputs": [],
   "source": [
    "Given a positive integer n, find the least number of perfect square numbers (for example, 1, 4, 9, 16, ...) which sum to n."
   ]
  },
  {
   "cell_type": "code",
   "execution_count": null,
   "metadata": {},
   "outputs": [],
   "source": [
    "class Solution:\n",
    "    def numSquares(self, n: int) -> int:\n",
    "        "
   ]
  },
  {
   "cell_type": "markdown",
   "metadata": {},
   "source": [
    "# Examples"
   ]
  },
  {
   "cell_type": "code",
   "execution_count": null,
   "metadata": {},
   "outputs": [],
   "source": [
    "# Example 1:\n",
    "Input: n = 12\n",
    "Output: 3 \n",
    "Explanation: 12 = 4 + 4 + 4.\n",
    "\n",
    "\n",
    "# Example 2:\n",
    "Input: n = 13\n",
    "Output: 2\n",
    "Explanation: 13 = 4 + 9."
   ]
  },
  {
   "cell_type": "markdown",
   "metadata": {},
   "source": [
    "# My Algorithms"
   ]
  },
  {
   "cell_type": "code",
   "execution_count": null,
   "metadata": {},
   "outputs": [],
   "source": [
    "def numSquares(n: int) -> int:\n",
    "    dp = [1]*(n+1)\n",
    "    dp[0]=0\n",
    "    # dp[0]=1\n",
    "    for num in range(2,n+1):\n",
    "        ans =[]\n",
    "        square=1\n",
    "        base=1\n",
    "        while(square <= num):\n",
    "            ans.append(dp[num-square]+1)\n",
    "            base+=1\n",
    "            square=base**2\n",
    "        # print(\"Num : \", num , ' ==> ', ans)\n",
    "        dp[num] = min(ans)\n",
    "    # print([x for x in range(n+1)])\n",
    "    print(dp)\n",
    "    # print(list(zip([x for x in range(n+1)],dp)))\n",
    "    return dp[n]\n"
   ]
  },
  {
   "cell_type": "code",
   "execution_count": null,
   "metadata": {},
   "outputs": [],
   "source": [
    "def numSquares(n: int) -> int:\n",
    "    dp = [1]*(n+1)\n",
    "    dp[0]=0\n",
    "    for num in range(2,n+1):\n",
    "        minSquare =dp[num-1]+1\n",
    "        square=4\n",
    "        base=2\n",
    "        while(square <= num):\n",
    "            minSquare = min (minSquare, dp[num-square]+1)\n",
    "            base+=1\n",
    "            square=base**2\n",
    "        dp[num] = minSquare\n",
    "    return dp[n]\n"
   ]
  },
  {
   "cell_type": "markdown",
   "metadata": {},
   "source": [
    "# Alternative algorithms"
   ]
  },
  {
   "cell_type": "code",
   "execution_count": null,
   "metadata": {},
   "outputs": [],
   "source": [
    "'''\n",
    "# 四平方和定理\n",
    "Four-squre and three-square theorem:\n",
    "\n",
    "According to Lagrange's four-square theorem(please wiki/google), any positive number can be represented as 4(at most) square number sum. \n",
    "1. divide by 4, notice that, 2 and 8, 3 and 12, 4 and 16 has the same number of square factors.\n",
    "2. if number%8==7, this result in a square factors 2^2 + 1 +1 +1, which is four.\n",
    "3. if any two numbers can suqare sum to n, return 1 or 2.\n",
    "4. otherwise result is 3.\n",
    "\n",
    "'''\n",
    "\n",
    "# 四平方和定理\n",
    "def numSquares(n: int) -> int:\n",
    "    while n % 4 == 0:\n",
    "        n /= 4\n",
    "    if n % 8 == 7:\n",
    "        return 4\n",
    "    \n",
    "    base = 0\n",
    "    square = 0\n",
    "    while square < n:\n",
    "        sqrtNum = int((n - square)**0.5)\n",
    "        if square + sqrtNum**2 == n:\n",
    "            return (base>0)+(sqrtNum>0)\n",
    "        base += 1\n",
    "        square = base**2\n",
    "    return 3"
   ]
  },
  {
   "cell_type": "markdown",
   "metadata": {},
   "source": [
    "# Sample Input and Test"
   ]
  },
  {
   "cell_type": "code",
   "execution_count": null,
   "metadata": {
    "tags": []
   },
   "outputs": [],
   "source": [
    "# Example 1:\n",
    "n = 12\n",
    "# Output: 3 \n",
    "# Explanation: 12 = 4 + 4 + 4.\n",
    "numSquares(n)\n"
   ]
  },
  {
   "cell_type": "code",
   "execution_count": null,
   "metadata": {
    "tags": []
   },
   "outputs": [],
   "source": [
    "# Example 1:\n",
    "n = 12\n",
    "# Output: 3 \n",
    "# Explanation: 12 = 4 + 4 + 4.\n",
    "numSquares(n)\n"
   ]
  },
  {
   "cell_type": "code",
   "execution_count": null,
   "metadata": {
    "tags": []
   },
   "outputs": [],
   "source": [
    "# Example 2:\n",
    "n = 13\n",
    "# Output: 2\n",
    "# Explanation: 13 = 4 + 9.\n",
    "numSquares(n)"
   ]
  },
  {
   "cell_type": "code",
   "execution_count": null,
   "metadata": {
    "tags": []
   },
   "outputs": [],
   "source": [
    "n = 1\n",
    "# Output: 1\n",
    "numSquares(n)\n",
    "\n",
    "# n = 2\n",
    "# # Output: 2\n",
    "# numSquares(n)\n",
    "\n",
    "# n = 30\n",
    "# # Output: 3\n",
    "# numSquares(n)\n"
   ]
  }
 ],
 "metadata": {
  "kernelspec": {
   "display_name": "Python 3.8.2 64-bit",
   "language": "python",
   "name": "python38264bit579c7998837c475ba0e81c984a932003"
  },
  "language_info": {
   "codemirror_mode": {
    "name": "ipython",
    "version": 3
   },
   "file_extension": ".py",
   "mimetype": "text/x-python",
   "name": "python",
   "nbconvert_exporter": "python",
   "pygments_lexer": "ipython3",
   "version": "3.8.2-final"
  }
 },
 "nbformat": 4,
 "nbformat_minor": 2
}