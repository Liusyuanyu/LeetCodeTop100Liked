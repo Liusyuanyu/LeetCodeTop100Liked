{
 "cells": [
  {
   "cell_type": "markdown",
   "metadata": {},
   "source": [
    "# Problem"
   ]
  },
  {
   "cell_type": "code",
   "execution_count": null,
   "metadata": {},
   "outputs": [],
   "source": [
    "Given a binary tree, you need to compute the length of the diameter of the tree. The diameter of a binary tree is the length of the longest path between any two nodes in a tree. This path may or may not pass through the root. "
   ]
  },
  {
   "cell_type": "code",
   "execution_count": null,
   "metadata": {},
   "outputs": [],
   "source": [
    "# Definition for a binary tree node.\n",
    "# class TreeNode:\n",
    "#     def __init__(self, val=0, left=None, right=None):\n",
    "#         self.val = val\n",
    "#         self.left = left\n",
    "#         self.right = right\n",
    "class Solution:\n",
    "    def diameterOfBinaryTree(self, root: TreeNode) -> int:\n",
    "        "
   ]
  },
  {
   "cell_type": "markdown",
   "metadata": {},
   "source": [
    "# Examples"
   ]
  },
  {
   "cell_type": "code",
   "execution_count": null,
   "metadata": {},
   "outputs": [],
   "source": [
    "Example:\n",
    "Given a binary tree \n",
    "          1\n",
    "         / \\\n",
    "        2   3\n",
    "       / \\     \n",
    "      4   5    \n",
    "\n",
    "Return 3, which is the length of the path [4,2,1,3] or [5,2,1,3]. "
   ]
  },
  {
   "cell_type": "code",
   "execution_count": null,
   "metadata": {},
   "outputs": [],
   "source": [
    "class TreeNode:\n",
    "    def __init__(self, val=0, left=None, right=None):\n",
    "        self.val = val\n",
    "        self.left = left\n",
    "        self.right = right"
   ]
  },
  {
   "cell_type": "markdown",
   "metadata": {},
   "source": [
    "# My Algorithms"
   ]
  },
  {
   "cell_type": "code",
   "execution_count": null,
   "metadata": {},
   "outputs": [],
   "source": [
    "def diameterOfBinaryTree(root: TreeNode) -> int:\n",
    "    if not root:\n",
    "        return 0\n",
    "    def dfsHelper(node):\n",
    "        if not node:\n",
    "            return 0,0\n",
    "        right, rightNode = dfsHelper(node.right)\n",
    "        left, leftNode = dfsHelper(node.left)\n",
    "        return max(right, left)+1, max(right+left+1, rightNode, leftNode)\n",
    "    return max(dfsHelper(root))-1"
   ]
  },
  {
   "cell_type": "markdown",
   "metadata": {},
   "source": [
    "# Alternative algorithms"
   ]
  },
  {
   "cell_type": "code",
   "execution_count": null,
   "metadata": {},
   "outputs": [],
   "source": [
    "def diameterOfBinaryTree(root: TreeNode) -> int:\n",
    "    ans = 1\n",
    "    def dfsHelper(node):\n",
    "        nonlocal ans\n",
    "        if not node:\n",
    "            return 0\n",
    "        right = dfsHelper(node.right)\n",
    "        left = dfsHelper(node.left)\n",
    "        ans = max(ans, left+right+1)\n",
    "        return max(right, left)+1\n",
    "    dfsHelper(root)\n",
    "    return ans-1"
   ]
  },
  {
   "cell_type": "code",
   "execution_count": null,
   "metadata": {},
   "outputs": [],
   "source": []
  },
  {
   "cell_type": "markdown",
   "metadata": {},
   "source": [
    "# Sample Input and Test"
   ]
  },
  {
   "cell_type": "code",
   "execution_count": null,
   "metadata": {
    "tags": []
   },
   "outputs": [],
   "source": []
  },
  {
   "cell_type": "code",
   "execution_count": null,
   "metadata": {
    "tags": []
   },
   "outputs": [],
   "source": [
    "# Input: [3,4,5,1,3,null,1]\n",
    "\n",
    "#      3\n",
    "#     / \\\n",
    "#    4   5\n",
    "#   / \\    \n",
    "#  1   3   \n",
    "\n",
    "# Output: 3\n",
    "\n",
    "root = TreeNode(3)\n",
    "root.left = TreeNode(4)\n",
    "root.right = TreeNode(5)\n",
    "root.left.right = TreeNode(3)\n",
    "root.left.left = TreeNode(1)\n",
    "printLevelOrder(root)\n",
    "\n",
    "diameterOfBinaryTree(root)\n",
    "\n"
   ]
  },
  {
   "cell_type": "code",
   "execution_count": null,
   "metadata": {
    "tags": []
   },
   "outputs": [],
   "source": [
    "#      3\n",
    "#     / \\\n",
    "#    4   5\n",
    "#   / \\   \\\n",
    "#  1   3   1 \n",
    "# Output: 4\n",
    "\n",
    "root = TreeNode(3)\n",
    "root.left = TreeNode(4)\n",
    "root.right = TreeNode(5)\n",
    "root.right.right = TreeNode(1)\n",
    "root.left.right = TreeNode(3)\n",
    "root.left.left = TreeNode(1)\n",
    "printLevelOrder(root)\n",
    "\n",
    "diameterOfBinaryTree(root)\n",
    "\n"
   ]
  },
  {
   "cell_type": "code",
   "execution_count": null,
   "metadata": {
    "tags": []
   },
   "outputs": [],
   "source": [
    "#      3\n",
    "#     / \\\n",
    "#    4   5\n",
    "#   / \\    \n",
    "#  1   3   \n",
    "#   ...\n",
    "# Output: 7\n",
    "\n",
    "root = TreeNode(3)\n",
    "root.left = TreeNode(4)\n",
    "root.right = TreeNode(5)\n",
    "# root.right.right = TreeNode(1)\n",
    "root.left.right = TreeNode(3)\n",
    "root.left.left = TreeNode(1)\n",
    "\n",
    "root.left.right.right = TreeNode(3)\n",
    "root.left.right.right.right = TreeNode(3)\n",
    "root.left.left.left = TreeNode(1)\n",
    "root.left.left.left.left = TreeNode(1)\n",
    "printLevelOrder(root)\n",
    "\n",
    "diameterOfBinaryTree(root)\n",
    "\n"
   ]
  },
  {
   "cell_type": "code",
   "execution_count": null,
   "metadata": {
    "tags": []
   },
   "outputs": [],
   "source": [
    "# [1,2,3,4,5]\n",
    "\n",
    "#      1\n",
    "#     / \\\n",
    "#    2   3\n",
    "#   / \\  \n",
    "#  4   5  \n",
    "\n",
    "# Output: 3\n",
    "\n",
    "root = TreeNode(1)\n",
    "root.left = TreeNode(2)\n",
    "root.right = TreeNode(3)\n",
    "root.left.right = TreeNode(5)\n",
    "root.left.left = TreeNode(4)\n",
    "printLevelOrder(root)\n",
    "\n",
    "diameterOfBinaryTree(root)\n",
    "\n",
    "diameterOfBinaryTree([]) # 0\n",
    "# diameterOfBinaryTree(TreeNode(2)) # 0\n"
   ]
  },
  {
   "cell_type": "markdown",
   "metadata": {},
   "source": [
    "# Print TreeNode"
   ]
  },
  {
   "cell_type": "code",
   "execution_count": null,
   "metadata": {},
   "outputs": [],
   "source": [
    "# Function to  print level order traversal of tree \n",
    "def printLevelOrder(root): \n",
    "    h = height(root) \n",
    "    for i in range(1, h+1): \n",
    "        printGivenLevel(root, i) \n",
    "    print()\n",
    "    \n",
    "  \n",
    "# Print nodes at a given level \n",
    "def printGivenLevel(root , level): \n",
    "    if root is None:\n",
    "        print('Null', end=\" \")\n",
    "        return\n",
    "    if level == 1: \n",
    "        print (\"%d\" %(root.val), end=\" \") \n",
    "    elif level > 1 : \n",
    "        printGivenLevel(root.left , level-1) \n",
    "        printGivenLevel(root.right , level-1) \n",
    "\n",
    "def height(node): \n",
    "    if node is None: \n",
    "        return 0 \n",
    "    else : \n",
    "        # Compute the height of each subtree  \n",
    "        lheight = height(node.left) \n",
    "        rheight = height(node.right) \n",
    "  \n",
    "        #Use the larger one \n",
    "        if lheight > rheight : \n",
    "            return lheight+1\n",
    "        else: \n",
    "            return rheight+1"
   ]
  }
 ],
 "metadata": {
  "kernelspec": {
   "display_name": "Python 3.8.2 64-bit",
   "language": "python",
   "name": "python38264bit579c7998837c475ba0e81c984a932003"
  },
  "language_info": {
   "codemirror_mode": {
    "name": "ipython",
    "version": 3
   },
   "file_extension": ".py",
   "mimetype": "text/x-python",
   "name": "python",
   "nbconvert_exporter": "python",
   "pygments_lexer": "ipython3",
   "version": "3.8.2-final"
  }
 },
 "nbformat": 4,
 "nbformat_minor": 2
}