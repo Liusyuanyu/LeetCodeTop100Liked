{
 "cells": [
  {
   "cell_type": "markdown",
   "metadata": {},
   "source": [
    "# Problem"
   ]
  },
  {
   "cell_type": "markdown",
   "metadata": {},
   "source": [
    "Given a binary tree, find its maximum depth.\n",
    "The maximum depth is the number of nodes along the longest path from the root node down to the farthest leaf node.\n",
    "Note: A leaf is a node with no children."
   ]
  },
  {
   "cell_type": "code",
   "execution_count": null,
   "metadata": {},
   "outputs": [],
   "source": [
    "# Definition for a binary tree node.\n",
    "# class TreeNode:\n",
    "#     def __init__(self, val=0, left=None, right=None):\n",
    "#         self.val = val\n",
    "#         self.left = left\n",
    "#         self.right = right\n",
    "class Solution:\n",
    "    def maxDepth(self, root: TreeNode) -> int:\n",
    "        "
   ]
  },
  {
   "cell_type": "markdown",
   "metadata": {},
   "source": [
    "# Examples"
   ]
  },
  {
   "cell_type": "code",
   "execution_count": null,
   "metadata": {},
   "outputs": [],
   "source": [
    "Given binary tree [3,9,20,null,null,15,7],\n",
    "    3\n",
    "   / \\\n",
    "  9  20\n",
    "    /  \\\n",
    "   15   7\n",
    "return its depth = 3."
   ]
  },
  {
   "cell_type": "code",
   "execution_count": null,
   "metadata": {},
   "outputs": [],
   "source": [
    "class TreeNode:\n",
    "    def __init__(self, val=0, left=None, right=None):\n",
    "        self.val = val\n",
    "        self.left = left\n",
    "        self.right = right\n"
   ]
  },
  {
   "cell_type": "markdown",
   "metadata": {},
   "source": [
    "# My Algorithm"
   ]
  },
  {
   "cell_type": "code",
   "execution_count": null,
   "metadata": {},
   "outputs": [],
   "source": [
    "def maxDepth(root: TreeNode) -> int:\n",
    "    def height(node): \n",
    "        if node is None: \n",
    "            return 0 \n",
    "        else : \n",
    "            lheight = height(node.left) \n",
    "            rheight = height(node.right) \n",
    "    \n",
    "            if lheight > rheight : \n",
    "                return lheight+1\n",
    "            else: \n",
    "                return rheight+1\n",
    "    return height(root)"
   ]
  },
  {
   "cell_type": "markdown",
   "metadata": {},
   "source": [
    "# Alternative algorithms"
   ]
  },
  {
   "cell_type": "code",
   "execution_count": null,
   "metadata": {},
   "outputs": [],
   "source": [
    "def maxDepth(root: TreeNode) -> int:\n",
    "    def height(node): \n",
    "        if node is None: \n",
    "            return 0 \n",
    "        else : \n",
    "            return max(height(node.left), height(node.right))+1\n",
    "    return height(root)"
   ]
  },
  {
   "cell_type": "code",
   "execution_count": null,
   "metadata": {},
   "outputs": [],
   "source": [
    "def maxDepth(root: TreeNode) -> int:\n",
    "    def height(node): \n",
    "        if node is None: \n",
    "            return 0 \n",
    "        else : \n",
    "            return max(height(node.left), height(node.right))+1\n",
    "    return height(root)"
   ]
  },
  {
   "cell_type": "markdown",
   "metadata": {},
   "source": [
    "# Sample Input and Test"
   ]
  },
  {
   "cell_type": "code",
   "execution_count": null,
   "metadata": {},
   "outputs": [],
   "source": [
    "root=TreeNode(3)\n",
    "root.left=TreeNode(9)\n",
    "root.right=TreeNode(20)\n",
    "root.right.left=TreeNode(15)\n",
    "root.right.right=TreeNode(7)\n",
    "\n",
    "printLevelOrder(root)\n",
    "# 3\n",
    "maxDepth(root)\n"
   ]
  },
  {
   "cell_type": "code",
   "execution_count": null,
   "metadata": {},
   "outputs": [],
   "source": [
    "root=TreeNode(3)\n",
    "\n",
    "printLevelOrder(root)\n",
    "# 1\n",
    "maxDepth(root)\n"
   ]
  },
  {
   "cell_type": "code",
   "execution_count": null,
   "metadata": {},
   "outputs": [],
   "source": [
    "root=TreeNode(1)\n",
    "root.left=TreeNode(2)\n",
    "root.right=TreeNode(2)\n",
    "\n",
    "root.right.right=TreeNode(3)\n",
    "\n",
    "root.left.right=TreeNode(4)\n",
    "\n",
    "printLevelOrder(root)\n",
    "maxDepth(root)\n",
    "# 3"
   ]
  },
  {
   "cell_type": "code",
   "execution_count": null,
   "metadata": {},
   "outputs": [],
   "source": [
    "root=TreeNode(1)\n",
    "root.left=TreeNode(2)\n",
    "root.right=TreeNode(2)\n",
    "\n",
    "root.left.left=TreeNode(2)\n",
    "root.right.left=TreeNode(2)\n",
    "root.right.left.right=TreeNode(2)\n",
    "\n",
    "printLevelOrder(root)\n",
    "maxDepth(root)\n",
    "# 4"
   ]
  },
  {
   "cell_type": "markdown",
   "metadata": {},
   "source": [
    "# Print BST"
   ]
  },
  {
   "cell_type": "code",
   "execution_count": null,
   "metadata": {},
   "outputs": [],
   "source": [
    "# Function to  print level order traversal of tree \n",
    "def printLevelOrder(root): \n",
    "    h = height(root) \n",
    "    for i in range(1, h+1): \n",
    "        printGivenLevel(root, i) \n",
    "  \n",
    "# Print nodes at a given level \n",
    "def printGivenLevel(root , level): \n",
    "    if root is None:\n",
    "        print('Null', end=\" \")\n",
    "        return\n",
    "    if level == 1: \n",
    "        print (\"%d\" %(root.val), end=\" \") \n",
    "    elif level > 1 : \n",
    "        printGivenLevel(root.left , level-1) \n",
    "        printGivenLevel(root.right , level-1) \n",
    "\n",
    "def height(node): \n",
    "    if node is None: \n",
    "        return 0 \n",
    "    else : \n",
    "        # Compute the height of each subtree  \n",
    "        lheight = height(node.left) \n",
    "        rheight = height(node.right) \n",
    "  \n",
    "        #Use the larger one \n",
    "        if lheight > rheight : \n",
    "            return lheight+1\n",
    "        else: \n",
    "            return rheight+1"
   ]
  }
 ],
 "metadata": {
  "kernelspec": {
   "display_name": "Python 3",
   "language": "python",
   "name": "python3"
  },
  "language_info": {
   "codemirror_mode": {
    "name": "ipython",
    "version": 3
   },
   "file_extension": ".py",
   "mimetype": "text/x-python",
   "name": "python",
   "nbconvert_exporter": "python",
   "pygments_lexer": "ipython3",
   "version": "3.8.2-final"
  }
 },
 "nbformat": 4,
 "nbformat_minor": 2
}