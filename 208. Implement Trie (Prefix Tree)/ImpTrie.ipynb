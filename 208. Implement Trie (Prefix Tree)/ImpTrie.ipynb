{
 "cells": [
  {
   "cell_type": "markdown",
   "metadata": {},
   "source": [
    "# Problem"
   ]
  },
  {
   "cell_type": "code",
   "execution_count": null,
   "metadata": {},
   "outputs": [],
   "source": [
    "Implement a trie with insert, search, and startsWith methods."
   ]
  },
  {
   "cell_type": "code",
   "execution_count": null,
   "metadata": {},
   "outputs": [],
   "source": [
    "class Trie:\n",
    "    def __init__(self):\n",
    "        \"\"\"\n",
    "        Initialize your data structure here.\n",
    "        \"\"\"\n",
    "        \n",
    "    def insert(self, word: str) -> None:\n",
    "        \"\"\"\n",
    "        Inserts a word into the trie.\n",
    "        \"\"\"\n",
    "\n",
    "    def search(self, word: str) -> bool:\n",
    "        \"\"\"\n",
    "        Returns if the word is in the trie.\n",
    "        \"\"\"\n",
    "\n",
    "    def startsWith(self, prefix: str) -> bool:\n",
    "        \"\"\"\n",
    "        Returns if there is any word in the trie that starts with the given prefix.\n",
    "        \"\"\"\n",
    "\n",
    "\n",
    "# Your Trie object will be instantiated and called as such:\n",
    "# obj = Trie()\n",
    "# obj.insert(word)\n",
    "# param_2 = obj.search(word)\n",
    "# param_3 = obj.startsWith(prefix)"
   ]
  },
  {
   "cell_type": "markdown",
   "metadata": {},
   "source": [
    "# Examples"
   ]
  },
  {
   "cell_type": "code",
   "execution_count": null,
   "metadata": {},
   "outputs": [],
   "source": [
    "Trie trie = new Trie();\n",
    "\n",
    "trie.insert(\"apple\");\n",
    "trie.search(\"apple\");   // returns true\n",
    "trie.search(\"app\");     // returns false\n",
    "trie.startsWith(\"app\"); // returns true\n",
    "trie.insert(\"app\");   \n",
    "trie.search(\"app\");     // returns true\n"
   ]
  },
  {
   "cell_type": "markdown",
   "metadata": {},
   "source": [
    "# My Algorithm"
   ]
  },
  {
   "cell_type": "markdown",
   "metadata": {},
   "source": [
    "# Alternative algorithms"
   ]
  },
  {
   "cell_type": "code",
   "execution_count": null,
   "metadata": {},
   "outputs": [],
   "source": [
    "class charNode:\n",
    "    def __init__(self):\n",
    "        self.nextChar = [None]*26\n",
    "        self.isEnd = False\n",
    "    def isMatch(self, achar):\n",
    "        return self.nextChar[achar]\n",
    "class Trie:\n",
    "    def __init__(self):\n",
    "        \"\"\"\n",
    "        Initialize your data structure here.\n",
    "        \"\"\"\n",
    "        # self.data = [None]*26\n",
    "        self.data = charNode()\n",
    "\n",
    "    def insert(self, word: str) -> None:\n",
    "        \"\"\"\n",
    "        Inserts a word into the trie.\n",
    "        \"\"\"\n",
    "        cur_data = self.data\n",
    "        for achar in word:\n",
    "            asciiCode = ord(achar) -97\n",
    "            if not cur_data.nextChar[asciiCode]:\n",
    "                cur_data.nextChar[asciiCode] = charNode()\n",
    "            cur_data = cur_data.nextChar[asciiCode]\n",
    "        cur_data.isEnd=True\n",
    "\n",
    "    def search(self, word: str) -> bool:\n",
    "        \"\"\"\n",
    "        Returns if the word is in the trie.\n",
    "        \"\"\"\n",
    "        cur_data = self.data\n",
    "        for achar in word:\n",
    "            asciiCode = ord(achar) -97\n",
    "            if not cur_data.nextChar[asciiCode]:\n",
    "                return False\n",
    "            cur_data = cur_data.nextChar[asciiCode]\n",
    "        return cur_data.isEnd\n",
    "\n",
    "    def startsWith(self, prefix: str) -> bool:\n",
    "        \"\"\"\n",
    "        Returns if there is any word in the trie that starts with the given prefix.\n",
    "        \"\"\"\n",
    "        cur_data = self.data\n",
    "        for achar in prefix:\n",
    "            asciiCode = ord(achar) -97\n",
    "            if not cur_data.nextChar[asciiCode]:\n",
    "                return False\n",
    "            cur_data = cur_data.nextChar[asciiCode]\n",
    "        return True\n"
   ]
  },
  {
   "cell_type": "code",
   "execution_count": null,
   "metadata": {},
   "outputs": [],
   "source": [
    "class Trie:\n",
    "    def __init__(self):\n",
    "        self.wordBank = {'isEnd':False}\n",
    "\n",
    "    def insert(self, word: str) -> None:\n",
    "        cur_data = self.wordBank\n",
    "        for achar in word:\n",
    "            if not cur_data.get(achar):\n",
    "                cur_data[achar] = {'isEnd':False}\n",
    "            cur_data = cur_data[achar]\n",
    "        cur_data['isEnd']=True\n",
    "\n",
    "    def search(self, word: str) -> bool:\n",
    "        cur_data = self.wordBank\n",
    "        for achar in word:\n",
    "            if not cur_data.get(achar):\n",
    "                return False\n",
    "            cur_data = cur_data[achar]\n",
    "        return cur_data['isEnd']\n",
    "\n",
    "    def startsWith(self, prefix: str) -> bool:\n",
    "        \"\"\"\n",
    "        Returns if there is any word in the trie that starts with the given prefix.\n",
    "        \"\"\"\n",
    "        cur_data = self.wordBank\n",
    "        for achar in prefix:\n",
    "            if not cur_data.get(achar):\n",
    "                return False\n",
    "            cur_data = cur_data[achar]\n",
    "        return True\n"
   ]
  },
  {
   "cell_type": "markdown",
   "metadata": {},
   "source": [
    "# Sample Input and Test"
   ]
  },
  {
   "cell_type": "code",
   "execution_count": null,
   "metadata": {},
   "outputs": [],
   "source": [
    "class Trie:\n",
    "    def __init__(self):\n",
    "        self.wordBank = {}\n",
    "\n",
    "    def insert(self, word: str) -> None:\n",
    "        cur_data = self.wordBank\n",
    "        for achar in word:\n",
    "            if achar not in cur_data:\n",
    "                cur_data[achar] = {}\n",
    "            cur_data = cur_data[achar]\n",
    "        cur_data['+']=True\n",
    "\n",
    "    def search(self, word: str) -> bool:\n",
    "        cur_data = self.wordBank\n",
    "        for achar in word:\n",
    "            if achar not in cur_data:\n",
    "                return False\n",
    "            cur_data = cur_data[achar]\n",
    "        return '+' in cur_data\n",
    "\n",
    "    def startsWith(self, prefix: str) -> bool:\n",
    "        cur_data = self.wordBank\n",
    "        for achar in prefix:\n",
    "            if achar not in cur_data:\n",
    "                return False\n",
    "            cur_data = cur_data[achar]\n",
    "        return True\n"
   ]
  },
  {
   "cell_type": "code",
   "execution_count": null,
   "metadata": {},
   "outputs": [],
   "source": [
    "trie = Trie()\n",
    "\n",
    "trie.insert(\"apple\")\n",
    "trie.search(\"apple\")\n",
    "#  // returns true\n",
    "\n",
    "# trie.search(\"app\")\n",
    "# #  // returns false\n",
    "\n",
    "# trie.startsWith(\"app\")\n",
    "# #  // returns true\n",
    "\n",
    "# trie.insert(\"app\")\n",
    "# trie.search(\"app\")\n",
    "# #  // returns true\n"
   ]
  },
  {
   "cell_type": "code",
   "execution_count": null,
   "metadata": {},
   "outputs": [],
   "source": [
    "trie = Trie()\n",
    "\n",
    "trie.search(\"apple\")\n",
    "#  // returns False\n"
   ]
  },
  {
   "cell_type": "code",
   "execution_count": null,
   "metadata": {},
   "outputs": [],
   "source": [
    "# [\"Trie\",\"insert\",\"search\",\"search\",\"search\",\"startsWith\",\"startsWith\",\"startsWith\"]\n",
    "# [[],[\"hello\"],[\"hell\"],[\"helloa\"],[\"hello\"],[\"hell\"],[\"helloa\"],[\"hello\"]]\n",
    "\n",
    "trie = Trie()\n",
    "trie.insert(\"hello\")\n",
    "trie.search(\"hell\")\n",
    "#  // returns False\n",
    "\n",
    "trie.search(\"helloa\")\n",
    "# #  // returns false\n",
    "\n",
    "trie.search(\"hello\")\n",
    "#  // returns true\n",
    "\n",
    "trie.startsWith(\"hell\")\n",
    "#  // returns true\n",
    "\n",
    "trie.startsWith(\"helloa\")\n",
    "#  // returns False\n",
    "\n",
    "trie.startsWith(\"hello\")\n",
    "#  // returns true\n"
   ]
  },
  {
   "cell_type": "code",
   "execution_count": null,
   "metadata": {},
   "outputs": [],
   "source": [
    "# [\"Trie\",\"insert\",\"insert\",\"insert\",\"insert\",\"insert\",\"insert\",\"search\",\"search\",\"search\",\"search\",\"search\",\"search\",\"search\",\"search\",\"search\",\"startsWith\",\"startsWith\",\"startsWith\",\"startsWith\",\"startsWith\",\"startsWith\",\"startsWith\",\"startsWith\",\"startsWith\"]\n",
    "# [[],[\"app\"],[\"apple\"],[\"beer\"],[\"add\"],[\"jam\"],[\"rental\"],[\"apps\"],[\"app\"],[\"ad\"],[\"applepie\"],[\"rest\"],[\"jan\"],[\"rent\"],[\"beer\"],[\"jam\"],[\"apps\"],[\"app\"],[\"ad\"],[\"applepie\"],[\"rest\"],[\"jan\"],[\"rent\"],[\"beer\"],[\"jam\"]]\n",
    "\n",
    "\n",
    "trie = Trie()\n",
    "trie.insert(\"app\")\n",
    "trie.insert(\"apple\")\n",
    "trie.insert(\"beer\")\n",
    "trie.insert(\"add\")\n",
    "trie.insert(\"jam\")\n",
    "trie.insert(\"rental\")\n",
    "\n",
    "# trie.search(\"apps\")\n",
    "# #  // returns false\n",
    "\n",
    "# trie.search(\"app\")\n",
    "# #  // returns True\n",
    "\n",
    "# trie.search(\"ad\")\n",
    "# #  // returns false\n",
    "\n",
    "# trie.search(\"applepie\")\n",
    "# #  // returns false\n",
    "\n",
    "# trie.search(\"rest\")\n",
    "# #  // returns false\n",
    "\n",
    "trie.startsWith(\"jam\")\n",
    "#  // returns True\n",
    "\n",
    "# trie.search(\"jam\")\n",
    "# #  // returns false\n",
    "\n"
   ]
  },
  {
   "cell_type": "code",
   "execution_count": null,
   "metadata": {},
   "outputs": [],
   "source": [
    "wordBank ={'a':1}\n",
    "wordBank.get('a')"
   ]
  }
 ],
 "metadata": {
  "kernelspec": {
   "display_name": "Python 3.8.2 64-bit",
   "language": "python",
   "name": "python38264bit579c7998837c475ba0e81c984a932003"
  },
  "language_info": {
   "codemirror_mode": {
    "name": "ipython",
    "version": 3
   },
   "file_extension": ".py",
   "mimetype": "text/x-python",
   "name": "python",
   "nbconvert_exporter": "python",
   "pygments_lexer": "ipython3",
   "version": "3.8.2-final"
  }
 },
 "nbformat": 4,
 "nbformat_minor": 2
}