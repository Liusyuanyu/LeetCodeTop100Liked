{
 "cells": [
  {
   "cell_type": "markdown",
   "metadata": {},
   "source": [
    "# Problem"
   ]
  },
  {
   "cell_type": "code",
   "execution_count": null,
   "metadata": {},
   "outputs": [],
   "source": [
    "You are given coins of different denominations and a total amount of money amount. Write a function to compute the fewest number of coins that you need to make up that amount. If that amount of money cannot be made up by any combination of the coins, return -1."
   ]
  },
  {
   "cell_type": "code",
   "execution_count": null,
   "metadata": {},
   "outputs": [],
   "source": [
    "class Solution:\n",
    "    def coinChange(self, coins: List[int], amount: int) -> int:\n",
    "        "
   ]
  },
  {
   "cell_type": "markdown",
   "metadata": {},
   "source": [
    "# Examples"
   ]
  },
  {
   "cell_type": "code",
   "execution_count": null,
   "metadata": {},
   "outputs": [],
   "source": [
    "# Example 1:\n",
    "Input: coins = [1, 2, 5], amount = 11\n",
    "Output: 3 \n",
    "Explanation: 11 = 5 + 5 + 1\n",
    "\n",
    "\n",
    "# Example 2:\n",
    "Input: coins = [2], amount = 3\n",
    "Output: -1"
   ]
  },
  {
   "cell_type": "markdown",
   "metadata": {},
   "source": [
    "# My Algorithms"
   ]
  },
  {
   "cell_type": "markdown",
   "metadata": {},
   "source": [
    "## Time Limit Exceeded"
   ]
  },
  {
   "cell_type": "code",
   "execution_count": null,
   "metadata": {},
   "outputs": [],
   "source": [
    "# def coinChange( coins: [int], amount: int) -> int:\n",
    "#     def findComb(balance):\n",
    "#         if balance in coins:\n",
    "#             return 1\n",
    "#         elif balance < 0:\n",
    "#             return float('inf')\n",
    "#         elif balance==0:\n",
    "#             return 0\n",
    "#         else:\n",
    "#             fewest = float('inf')\n",
    "#             for coin in coins:\n",
    "#                 res = findComb(balance-coin)+1\n",
    "#                 fewest = min(fewest, res)\n",
    "#             return fewest\n",
    "#     fewest = findComb(amount)\n",
    "#     if fewest == float('inf'):\n",
    "#         return -1\n",
    "#     else:\n",
    "#         return fewest         \n"
   ]
  },
  {
   "cell_type": "code",
   "execution_count": null,
   "metadata": {},
   "outputs": [],
   "source": []
  },
  {
   "cell_type": "code",
   "execution_count": null,
   "metadata": {},
   "outputs": [],
   "source": [
    "# Pass algorithm\n",
    "def coinChange( coins: [int], amount: int) -> int:\n",
    "    if amount ==0:\n",
    "        return 0\n",
    "    dp=[float('inf')]*(amount+1)\n",
    "    for num in range(1, amount+1):\n",
    "        fewest = float('inf')\n",
    "        for coin in coins:\n",
    "            if num ==coin:\n",
    "                fewest=min(fewest, 1)\n",
    "            elif num - coin >0:\n",
    "                fewest=min(fewest, dp[num-coin]+1)\n",
    "        dp[num] = fewest\n",
    "    if dp[amount] == float('inf'):\n",
    "        return -1\n",
    "    else:\n",
    "        return dp[amount]\n"
   ]
  },
  {
   "cell_type": "markdown",
   "metadata": {},
   "source": [
    "# Alternative algorithms"
   ]
  },
  {
   "cell_type": "code",
   "execution_count": null,
   "metadata": {},
   "outputs": [],
   "source": [
    "def coinChange( coins: [int], amount: int) -> int:\n",
    "    coins.sort(reverse=True)\n",
    "    length = len(coins)\n",
    "    def findComb(balance, coinIdx,  count, curFewest):\n",
    "        if coinIdx >= length:\n",
    "            return curFewest\n",
    "        if balance==0:\n",
    "            return min(curFewest, count)\n",
    "        if count+balance//coins[coinIdx] >= curFewest:\n",
    "            return curFewest\n",
    "        if balance%coins[coinIdx]==0:\n",
    "            return min(curFewest, count+balance//coins[coinIdx])\n",
    "        coinNum = balance//coins[coinIdx]\n",
    "        for num in range(coinNum, -1, -1):\n",
    "            if count+num < curFewest:\n",
    "                curFewest = findComb(balance-coins[coinIdx]*num, coinIdx+1, count+num, curFewest)\n",
    "        return curFewest\n",
    "    ans = findComb(amount,0,0,float('inf'))\n",
    "    return -1 if ans == float('inf') else ans\n"
   ]
  },
  {
   "cell_type": "code",
   "execution_count": null,
   "metadata": {},
   "outputs": [],
   "source": [
    "def coinChange( coins: [int], amount: int) -> int:\n",
    "    coins.sort(reverse=True)\n",
    "    length = len(coins)\n",
    "    curFewest = [float('inf')]\n",
    "    def findComb(balance, coinIdx,  count):\n",
    "        if coinIdx >= length:\n",
    "            return\n",
    "        if count+balance//coins[coinIdx] >= curFewest[0]:\n",
    "            return\n",
    "        if balance==0:\n",
    "            curFewest[0] =min(curFewest[0], count)\n",
    "            return\n",
    "        if balance%coins[coinIdx]==0:\n",
    "            curFewest[0] =min(curFewest[0], count+balance//coins[coinIdx])\n",
    "            return\n",
    "        for coinNum in range(balance//coins[coinIdx], -1,-1):\n",
    "            if count+coinNum < curFewest[0]:\n",
    "                findComb(balance-coins[coinIdx]*coinNum, coinIdx+1, count+coinNum)\n",
    "    findComb(amount,0,0)\n",
    "    return -1 if curFewest[0] == float('inf') else curFewest[0]"
   ]
  },
  {
   "cell_type": "markdown",
   "metadata": {},
   "source": [
    "# Sample and reference code"
   ]
  },
  {
   "cell_type": "code",
   "execution_count": null,
   "metadata": {},
   "outputs": [],
   "source": [
    "# class Solution:\n",
    "#     def coinChange(self, c: [int], a: int) -> int:\n",
    "#         c.sort(reverse=True)\n",
    "#         n,r=len(c),a+1\n",
    "#         def dfs(x,t,cn):\n",
    "#             nonlocal r\n",
    "#             if cn+(t//c[x])>=r:\n",
    "#                 return \n",
    "#             if t%c[x]==0:\n",
    "#                 r=cn+t//c[x]\n",
    "#                 return\n",
    "#             if x==n-1:\n",
    "#                 return\n",
    "#             for i in range(t//c[x],-1,-1):\n",
    "#                 dfs(x+1,t-c[x]*i,cn+i)\n",
    "#         dfs(0,a,0)\n",
    "#         return -1 if r>a else r\n",
    "\n",
    "# coins = [3,7,405,436]\n",
    "# amount = 8839\n",
    "# sol = Solution()\n",
    "# sol.coinChange(coins, amount)\n"
   ]
  },
  {
   "cell_type": "markdown",
   "metadata": {},
   "source": [
    "# Sample Input and Test"
   ]
  },
  {
   "cell_type": "code",
   "execution_count": null,
   "metadata": {
    "tags": []
   },
   "outputs": [],
   "source": [
    "coins = [1, 2, 5]\n",
    "amount = 11\n",
    "# Output: 3 \n",
    "coinChange(coins, amount)\n"
   ]
  },
  {
   "cell_type": "code",
   "execution_count": null,
   "metadata": {
    "tags": []
   },
   "outputs": [],
   "source": [
    "# coins = [2]\n",
    "# amount = 3\n",
    "# # Output: -1 \n",
    "# coinChange(coins, amount)\n",
    "\n",
    "coins = [186,419,83,408]\n",
    "amount = 6249\n",
    "# Output: 20\n",
    "coinChange(coins, amount)"
   ]
  },
  {
   "cell_type": "code",
   "execution_count": null,
   "metadata": {},
   "outputs": [],
   "source": [
    "# coins = [3,7,405,436]\n",
    "# amount = 8839\n",
    "# # Output: 25\n",
    "# coinChange(coins, amount)\n",
    "\n",
    "coins = [470,18,66,301,403,112,360]\n",
    "amount = 8235\n",
    "# Output: 20\n",
    "coinChange(coins, amount)"
   ]
  },
  {
   "cell_type": "code",
   "execution_count": null,
   "metadata": {},
   "outputs": [],
   "source": [
    "coins = []\n",
    "amount = 11\n",
    "# Output: -1\n",
    "coinChange(coins, amount)\n",
    "\n",
    "coins = [10]\n",
    "amount = 0\n",
    "# Output: 0\n",
    "coinChange(coins, amount)\n",
    "\n",
    "coins = [1, 2, 5]\n",
    "amount = 100\n",
    "# Output: 20\n",
    "coinChange(coins, amount)\n"
   ]
  }
 ],
 "metadata": {
  "kernelspec": {
   "display_name": "Python 3.8.2 64-bit",
   "language": "python",
   "name": "python38264bit579c7998837c475ba0e81c984a932003"
  },
  "language_info": {
   "codemirror_mode": {
    "name": "ipython",
    "version": 3
   },
   "file_extension": ".py",
   "mimetype": "text/x-python",
   "name": "python",
   "nbconvert_exporter": "python",
   "pygments_lexer": "ipython3",
   "version": "3.8.2-final"
  }
 },
 "nbformat": 4,
 "nbformat_minor": 2
}