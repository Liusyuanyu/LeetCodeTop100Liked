{
 "cells": [
  {
   "cell_type": "markdown",
   "metadata": {},
   "source": [
    "# Problem"
   ]
  },
  {
   "cell_type": "code",
   "execution_count": null,
   "metadata": {},
   "outputs": [],
   "source": [
    "Design a stack that supports push, pop, top, and retrieving the minimum element in constant time.\n",
    "\n",
    "    push(x) -- Push element x onto stack.\n",
    "    pop() -- Removes the element on top of the stack.\n",
    "    top() -- Get the top element.\n",
    "    getMin() -- Retrieve the minimum element in the stack.\n"
   ]
  },
  {
   "cell_type": "code",
   "execution_count": null,
   "metadata": {},
   "outputs": [],
   "source": [
    "class MinStack:\n",
    "\n",
    "    def __init__(self):\n",
    "        \"\"\"\n",
    "        initialize your data structure here.\n",
    "        \"\"\"\n",
    "        \n",
    "\n",
    "    def push(self, x: int) -> None:\n",
    "        \n",
    "\n",
    "    def pop(self) -> None:\n",
    "        \n",
    "\n",
    "    def top(self) -> int:\n",
    "        \n",
    "\n",
    "    def getMin(self) -> int:\n",
    "        \n",
    "\n",
    "\n",
    "# Your MinStack object will be instantiated and called as such:\n",
    "# obj = MinStack()\n",
    "# obj.push(x)\n",
    "# obj.pop()\n",
    "# param_3 = obj.top()\n",
    "# param_4 = obj.getMin()"
   ]
  },
  {
   "cell_type": "markdown",
   "metadata": {},
   "source": [
    "# Examples"
   ]
  },
  {
   "cell_type": "code",
   "execution_count": null,
   "metadata": {},
   "outputs": [],
   "source": [
    "Example 1:\n",
    "Input\n",
    "[\"MinStack\",\"push\",\"push\",\"push\",\"getMin\",\"pop\",\"top\",\"getMin\"]\n",
    "[[],[-2],[0],[-3],[],[],[],[]]\n",
    "\n",
    "Output\n",
    "[null,null,null,null,-3,null,0,-2]\n",
    "\n",
    "Explanation\n",
    "MinStack minStack = new MinStack();\n",
    "minStack.push(-2);\n",
    "minStack.push(0);\n",
    "minStack.push(-3);\n",
    "minStack.getMin(); // return -3\n",
    "minStack.pop();\n",
    "minStack.top();    // return 0\n",
    "minStack.getMin(); // return -2"
   ]
  },
  {
   "cell_type": "markdown",
   "metadata": {},
   "source": [
    "# My Algorithms"
   ]
  },
  {
   "cell_type": "code",
   "execution_count": null,
   "metadata": {},
   "outputs": [],
   "source": [
    "class MinStack:\n",
    "\n",
    "    def __init__(self):\n",
    "        self.data=[]\n",
    "        self.minVal = [float('inf')]\n",
    "\n",
    "    def push(self, x: int) -> None:\n",
    "        self.data.append(x)\n",
    "        if self.minVal[-1] > x:\n",
    "            self.minVal.append(x)\n",
    "        else:\n",
    "            self.minVal.append(self.minVal[-1])\n",
    "\n",
    "    def pop(self) -> None:\n",
    "        self.data.pop()\n",
    "        self.minVal.pop()\n",
    "\n",
    "    def top(self) -> int:\n",
    "        if not self.data:\n",
    "            return None\n",
    "        return self.data[-1]                \n",
    "\n",
    "    def getMin(self) -> int:\n",
    "        return self.minVal[-1]\n"
   ]
  },
  {
   "cell_type": "markdown",
   "metadata": {},
   "source": [
    "# Alternative algorithms"
   ]
  },
  {
   "cell_type": "code",
   "execution_count": null,
   "metadata": {},
   "outputs": [],
   "source": [
    "class MinStack:\n",
    "\n",
    "    def __init__(self):\n",
    "        self.data=[(None, float('inf'))]\n",
    "\n",
    "    def push(self, x: int) -> None:\n",
    "        curMin = self.getMin()\n",
    "        if curMin > x:\n",
    "            self.data.append((x,x))\n",
    "        else:\n",
    "            self.data.append((x,curMin))\n",
    "\n",
    "    def pop(self) -> None:\n",
    "        self.data.pop()\n",
    "\n",
    "    def top(self) -> int:\n",
    "        return self.data[-1][0]                \n",
    "\n",
    "    def getMin(self) -> int:\n",
    "        return self.data[-1][1]                \n"
   ]
  },
  {
   "cell_type": "markdown",
   "metadata": {},
   "source": [
    "# Sample Input and Test"
   ]
  },
  {
   "cell_type": "code",
   "execution_count": null,
   "metadata": {
    "tags": []
   },
   "outputs": [],
   "source": [
    "minStack = MinStack()\n",
    "minStack.push(-2)\n",
    "minStack.push(0)\n",
    "minStack.push(-3)\n",
    "\n",
    "minStack.getMin()\n",
    "#  return -3\n",
    "\n",
    "minStack.pop();\n",
    "\n",
    "minStack.top()\n",
    "#  return 0\n",
    "\n",
    "# minStack.getMin()\n",
    "# # return -2\n",
    "\n"
   ]
  }
 ],
 "metadata": {
  "kernelspec": {
   "display_name": "Python 3.8.2 64-bit",
   "language": "python",
   "name": "python38264bit579c7998837c475ba0e81c984a932003"
  },
  "language_info": {
   "codemirror_mode": {
    "name": "ipython",
    "version": 3
   },
   "file_extension": ".py",
   "mimetype": "text/x-python",
   "name": "python",
   "nbconvert_exporter": "python",
   "pygments_lexer": "ipython3",
   "version": "3.8.2-final"
  }
 },
 "nbformat": 4,
 "nbformat_minor": 2
}