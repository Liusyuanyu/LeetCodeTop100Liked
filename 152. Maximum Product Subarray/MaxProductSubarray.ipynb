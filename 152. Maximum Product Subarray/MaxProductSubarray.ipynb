{
 "cells": [
  {
   "cell_type": "markdown",
   "metadata": {},
   "source": [
    "# Problem"
   ]
  },
  {
   "cell_type": "code",
   "execution_count": null,
   "metadata": {},
   "outputs": [],
   "source": [
    "Given an integer array nums, find the contiguous subarray within an array (containing at least one number) which has the largest product."
   ]
  },
  {
   "cell_type": "code",
   "execution_count": null,
   "metadata": {},
   "outputs": [],
   "source": [
    "class Solution:\n",
    "    def maxProduct(self, nums: List[int]) -> int:\n",
    "        "
   ]
  },
  {
   "cell_type": "markdown",
   "metadata": {},
   "source": [
    "# Examples"
   ]
  },
  {
   "cell_type": "code",
   "execution_count": null,
   "metadata": {},
   "outputs": [],
   "source": [
    "Example 1:\n",
    "Input: [2,3,-2,4]\n",
    "Output: 6\n",
    "Explanation: [2,3] has the largest product 6.\n",
    "\n",
    "\n",
    "Example 2:\n",
    "Input: [-2,0,-1]\n",
    "Output: 0\n",
    "Explanation: The result cannot be 2, because [-2,-1] is not a subarray."
   ]
  },
  {
   "cell_type": "markdown",
   "metadata": {},
   "source": [
    "# My Algorithm"
   ]
  },
  {
   "cell_type": "markdown",
   "metadata": {},
   "source": [
    "## Brute Force"
   ]
  },
  {
   "cell_type": "code",
   "execution_count": null,
   "metadata": {},
   "outputs": [],
   "source": [
    "# def maxProduct(nums: [int]) -> int:\n",
    "#     if not nums: return 0\n",
    "#     if len(nums) == 1:\n",
    "#         return nums[0]\n",
    "\n",
    "#     res_max = -float('inf')\n",
    "#     cur_min = 0\n",
    "#     cur_max = 0\n",
    "\n",
    "#     for num in nums:\n",
    "#         new_max = max(num, max(cur_min*num, cur_max*num))\n",
    "#         cur_min = min(num, min(cur_min*num, cur_max*num))\n",
    "#         print(num, 'New : ', new_max,' Cur min :', cur_min, ' cur_max : ', cur_max)\n",
    "#         if new_max >= res_max:\n",
    "#             res_max=new_max\n",
    "#             cur_max = new_max \n",
    "#         else:\n",
    "#             cur_max = num \n",
    "#     return res_max\n",
    "\n",
    "\n",
    "def maxProduct(nums: [int]) -> int:\n",
    "    if not nums: return 0\n",
    "    if len(nums) == 1:\n",
    "        return nums[0]\n",
    "\n",
    "    res_max = -float('inf')\n",
    "    cur_min = 0\n",
    "    cur_max = 0\n",
    "\n",
    "    for num in nums:\n",
    "        tempOne = max(cur_min*num, cur_max*num)\n",
    "        tempTwo = min(cur_min*num, cur_max*num)\n",
    "\n",
    "        cur_max = max(num, max(tempOne, tempTwo))\n",
    "        cur_min = min(num, min(tempOne, tempTwo))\n",
    "        res_max = max(cur_max, res_max)        \n",
    "\n",
    "    return res_max\n"
   ]
  },
  {
   "cell_type": "markdown",
   "metadata": {},
   "source": [
    "# Alternative algorithms"
   ]
  },
  {
   "cell_type": "code",
   "execution_count": null,
   "metadata": {},
   "outputs": [],
   "source": [
    "def maxProduct(nums: [int]) -> int:\n",
    "    if not nums: return 0\n",
    "    if len(nums) == 1:\n",
    "        return nums[0]\n",
    "\n",
    "    res_max = -float('inf')\n",
    "    cur_min = 0\n",
    "    cur_max = 0\n",
    "\n",
    "    for num in nums:\n",
    "        if num < 0:\n",
    "           cur_max, cur_min = cur_min, cur_max \n",
    "        cur_max = max(cur_max*num, num)\n",
    "        cur_min = min(cur_max*num, num)\n",
    "        res_max = max(cur_max, res_max)        \n",
    "    return res_max\n"
   ]
  },
  {
   "cell_type": "code",
   "execution_count": null,
   "metadata": {},
   "outputs": [],
   "source": [
    "def maxProduct(nums: [int]) -> int:\n",
    "    if not nums: return 0\n",
    "    length = len(nums)\n",
    "    res_max = nums[0]\n",
    "    cur_min = nums[0]\n",
    "    cur_max = nums[0]\n",
    "\n",
    "    for idx in range(1, length):\n",
    "        if nums[idx] < 0:\n",
    "           cur_max, cur_min = cur_min, cur_max \n",
    "        cur_max = max(cur_max*nums[idx], nums[idx])\n",
    "        cur_min = min(cur_min*nums[idx], nums[idx])\n",
    "        res_max = max(cur_max, res_max)        \n",
    "    return res_max\n"
   ]
  },
  {
   "cell_type": "markdown",
   "metadata": {},
   "source": [
    "# Don't understand"
   ]
  },
  {
   "cell_type": "code",
   "execution_count": null,
   "metadata": {},
   "outputs": [],
   "source": [
    "def maxProduct(nums: [int]) -> int:\n",
    "    reversed_nums = nums[::-1]\n",
    "    for i in range(1, len(nums)):\n",
    "        nums[i] *= nums[i - 1]\n",
    "        reversed_nums[i] *= reversed_nums[i - 1]\n",
    "        print('Nums    : ', nums)\n",
    "        print('Reverse : ', reversed_nums,'\\n')\n",
    "    return max(nums + reversed_nums)"
   ]
  },
  {
   "cell_type": "markdown",
   "metadata": {},
   "source": [
    "# Sample Input and Test"
   ]
  },
  {
   "cell_type": "code",
   "execution_count": null,
   "metadata": {
    "tags": []
   },
   "outputs": [],
   "source": [
    "Input=[2,3,-2,4]\n",
    "# Output: 6\n",
    "maxProduct(Input)\n"
   ]
  },
  {
   "cell_type": "code",
   "execution_count": null,
   "metadata": {
    "tags": []
   },
   "outputs": [],
   "source": [
    "Input= [-2,0,-1]\n",
    "# Output: 0\n",
    "maxProduct(Input)\n"
   ]
  },
  {
   "cell_type": "code",
   "execution_count": null,
   "metadata": {},
   "outputs": [],
   "source": [
    "Input= [-2]\n",
    "# Output: 0\n",
    "maxProduct(Input)\n"
   ]
  },
  {
   "cell_type": "code",
   "execution_count": null,
   "metadata": {
    "tags": []
   },
   "outputs": [],
   "source": [
    "Input= [-2,3,-4]\n",
    "# Output: 24\n",
    "maxProduct(Input)\n"
   ]
  },
  {
   "cell_type": "code",
   "execution_count": null,
   "metadata": {
    "tags": []
   },
   "outputs": [],
   "source": [
    "Input=[2,-5,-2,-4,3]\n",
    "# Output: 24\n",
    "maxProduct(Input)\n"
   ]
  }
 ],
 "metadata": {
  "kernelspec": {
   "display_name": "Python 3.8.2 64-bit",
   "language": "python",
   "name": "python38264bit579c7998837c475ba0e81c984a932003"
  },
  "language_info": {
   "codemirror_mode": {
    "name": "ipython",
    "version": 3
   },
   "file_extension": ".py",
   "mimetype": "text/x-python",
   "name": "python",
   "nbconvert_exporter": "python",
   "pygments_lexer": "ipython3",
   "version": "3.8.2-final"
  }
 },
 "nbformat": 4,
 "nbformat_minor": 2
}