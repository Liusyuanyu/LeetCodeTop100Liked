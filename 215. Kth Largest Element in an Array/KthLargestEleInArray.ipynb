{
 "cells": [
  {
   "cell_type": "markdown",
   "metadata": {},
   "source": [
    "# Problem"
   ]
  },
  {
   "cell_type": "code",
   "execution_count": null,
   "metadata": {},
   "outputs": [],
   "source": [
    "Find the kth largest element in an unsorted array. Note that it is the kth largest element in the sorted order, not the kth distinct element."
   ]
  },
  {
   "cell_type": "code",
   "execution_count": null,
   "metadata": {},
   "outputs": [],
   "source": [
    "class Solution:\n",
    "    def findKthLargest(self, nums: List[int], k: int) -> int:\n",
    "        "
   ]
  },
  {
   "cell_type": "markdown",
   "metadata": {},
   "source": [
    "# Examples"
   ]
  },
  {
   "cell_type": "code",
   "execution_count": null,
   "metadata": {},
   "outputs": [],
   "source": [
    "Example 1:\n",
    "Input: [3,2,1,5,6,4] and k = 2\n",
    "Output: 5\n",
    "\n",
    "\n",
    "Example 2:\n",
    "Input: [3,2,3,1,2,4,5,5,6] and k = 4\n",
    "Output: 4"
   ]
  },
  {
   "cell_type": "markdown",
   "metadata": {},
   "source": [
    "# Alternative algorithms"
   ]
  },
  {
   "cell_type": "code",
   "execution_count": null,
   "metadata": {},
   "outputs": [],
   "source": [
    "import heapq\n",
    "def findKthLargest(nums: [int], k: int) -> int:\n",
    "    return heapq.nlargest(k, nums)[-1]"
   ]
  },
  {
   "cell_type": "code",
   "execution_count": null,
   "metadata": {},
   "outputs": [],
   "source": [
    "def findKthLargest(nums: [int], k: int) -> int:\n",
    "    def getPivot(start, end):\n",
    "        if start ==end:\n",
    "            return nums[start]\n",
    "        pivot = partition(start, end)\n",
    "        if pivot == kVal[0]:\n",
    "            return nums[pivot]\n",
    "        elif pivot < kVal[0]:\n",
    "            return getPivot(pivot+1, end)    \n",
    "        else:\n",
    "            return getPivot(start, pivot-1)    \n",
    "    \n",
    "    def partition(start , end):\n",
    "        pivot =(start+end)//2\n",
    "        value = nums[pivot]\n",
    "        nums[pivot], nums[end] =nums[end], nums[pivot]\n",
    "        part = start\n",
    "        for idx in range(start, end):\n",
    "            if nums[idx]<value:\n",
    "                nums[idx], nums[part] =nums[part], nums[idx]\n",
    "                part+=1\n",
    "        nums[part], nums[end] =nums[end], nums[part]\n",
    "        return part\n",
    "    kVal = [len(nums)-k]\n",
    "    return getPivot(0, len(nums)-1)\n"
   ]
  },
  {
   "cell_type": "markdown",
   "metadata": {},
   "source": [
    "# Sample Input and Test"
   ]
  },
  {
   "cell_type": "code",
   "execution_count": null,
   "metadata": {
    "tags": []
   },
   "outputs": [],
   "source": [
    "Input=[3,2,1,5,6,4]\n",
    "k = 2\n",
    "# Output: 5\n",
    "findKthLargest(Input, k)"
   ]
  },
  {
   "cell_type": "code",
   "execution_count": null,
   "metadata": {
    "tags": []
   },
   "outputs": [],
   "source": [
    "Input=[3,2,3,1,2,4,5,5,6]\n",
    "k = 4\n",
    "# Output: 4\n",
    "findKthLargest(Input, k)\n",
    "\n"
   ]
  },
  {
   "cell_type": "code",
   "execution_count": null,
   "metadata": {
    "tags": []
   },
   "outputs": [],
   "source": [
    "Input=[99,99]\n",
    "k = 1\n",
    "# Output: 99\n",
    "findKthLargest(Input, k)\n",
    "\n"
   ]
  }
 ],
 "metadata": {
  "kernelspec": {
   "display_name": "Python 3.8.2 64-bit",
   "language": "python",
   "name": "python38264bit579c7998837c475ba0e81c984a932003"
  },
  "language_info": {
   "codemirror_mode": {
    "name": "ipython",
    "version": 3
   },
   "file_extension": ".py",
   "mimetype": "text/x-python",
   "name": "python",
   "nbconvert_exporter": "python",
   "pygments_lexer": "ipython3",
   "version": "3.8.2-final"
  }
 },
 "nbformat": 4,
 "nbformat_minor": 2
}