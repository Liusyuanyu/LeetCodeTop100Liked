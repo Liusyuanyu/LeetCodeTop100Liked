{
 "cells": [
  {
   "cell_type": "markdown",
   "metadata": {},
   "source": [
    "# Problem"
   ]
  },
  {
   "cell_type": "code",
   "execution_count": null,
   "metadata": {},
   "outputs": [],
   "source": [
    "You are a professional robber planning to rob houses along a street. Each house has a certain amount of money stashed. All houses at this place are arranged in a circle. That means the first house is the neighbor of the last one. Meanwhile, adjacent houses have security system connected and it will automatically contact the police if two adjacent houses were broken into on the same night.\n",
    "Given a list of non-negative integers representing the amount of money of each house, determine the maximum amount of money you can rob tonight without alerting the police."
   ]
  },
  {
   "cell_type": "code",
   "execution_count": null,
   "metadata": {},
   "outputs": [],
   "source": [
    "class Solution:\n",
    "    def rob(self, nums: List[int]) -> int:\n",
    "        "
   ]
  },
  {
   "cell_type": "markdown",
   "metadata": {},
   "source": [
    "# Examples"
   ]
  },
  {
   "cell_type": "code",
   "execution_count": null,
   "metadata": {},
   "outputs": [],
   "source": [
    "# Example 1:\n",
    "Input: [2,3,2]\n",
    "Output: 3\n",
    "Explanation: You cannot rob house 1 (money = 2) and then rob house 3 (money = 2),\n",
    "             because they are adjacent houses.\n",
    "\n",
    "\n",
    "# Example 2:\n",
    "Input: [1,2,3,1]\n",
    "Output: 4\n",
    "Explanation: Rob house 1 (money = 1) and then rob house 3 (money = 3).\n",
    "             Total amount you can rob = 1 + 3 = 4."
   ]
  },
  {
   "cell_type": "markdown",
   "metadata": {},
   "source": [
    "# My Algorithms"
   ]
  },
  {
   "cell_type": "code",
   "execution_count": null,
   "metadata": {},
   "outputs": [],
   "source": [
    "def rob(nums: [int]) -> int:\n",
    "    if len(nums)==1:\n",
    "        return nums[0]\n",
    "    elif not nums:\n",
    "        return 0\n",
    "    def findMax(subNums):\n",
    "        maxVal, preMaxVal = 0, 0\n",
    "        for num in subNums:\n",
    "            maxVal, preMaxVal = max(preMaxVal+num, maxVal), maxVal\n",
    "        return max(maxVal,preMaxVal)\n",
    "    return max(findMax(nums[1:]),findMax(nums[:-1]))"
   ]
  },
  {
   "cell_type": "markdown",
   "metadata": {},
   "source": [
    "# Alternative algorithms"
   ]
  },
  {
   "cell_type": "code",
   "execution_count": null,
   "metadata": {},
   "outputs": [],
   "source": [
    "def rob(nums: [int]) -> int:\n",
    "    if not nums:\n",
    "        return 0\n",
    "    if len(nums)<=2:\n",
    "        return max(nums)\n",
    "    def findMax(subNums):\n",
    "        maxVal, preMaxVal = 0, 0\n",
    "        for num in subNums:\n",
    "            maxVal, preMaxVal = max(preMaxVal+num, maxVal), maxVal\n",
    "        return max(maxVal,preMaxVal)\n",
    "    return max(findMax(nums[1:]),findMax(nums[:-1]))"
   ]
  },
  {
   "cell_type": "code",
   "execution_count": null,
   "metadata": {},
   "outputs": [],
   "source": [
    "def rob(nums: [int]) -> int:\n",
    "    if not nums:\n",
    "        return 0\n",
    "    if len(nums)<=2:\n",
    "        return max(nums)\n",
    "\n",
    "    maxValSkipHead, preMaxVal = 0, 0\n",
    "    for num in nums[1:]:\n",
    "        maxValSkipHead, preMaxVal = max(preMaxVal+num, maxValSkipHead), maxValSkipHead\n",
    "\n",
    "    maxValSkipEnd, preMaxVal = 0, 0\n",
    "    for num in nums[:-1]:\n",
    "        maxValSkipEnd, preMaxVal = max(preMaxVal+num, maxValSkipEnd), maxValSkipEnd\n",
    "\n",
    "    return max(maxValSkipHead,maxValSkipEnd)"
   ]
  },
  {
   "cell_type": "markdown",
   "metadata": {},
   "source": [
    "# Sample Input and Test"
   ]
  },
  {
   "cell_type": "code",
   "execution_count": null,
   "metadata": {
    "tags": []
   },
   "outputs": [],
   "source": [
    "nums = [2,3,2]\n",
    "# Output: 3\n",
    "rob(nums)\n",
    "\n",
    "# nums = [1,2,3,2]\n",
    "# # Output: 4\n",
    "# rob(nums)\n"
   ]
  },
  {
   "cell_type": "code",
   "execution_count": null,
   "metadata": {
    "tags": []
   },
   "outputs": [],
   "source": [
    "# nums = [5,1,3,6]\n",
    "# # Output: 8\n",
    "# rob(nums)\n",
    "\n",
    "nums = []\n",
    "# Output: 0\n",
    "rob(nums)\n"
   ]
  },
  {
   "cell_type": "code",
   "execution_count": null,
   "metadata": {
    "tags": []
   },
   "outputs": [],
   "source": [
    "nums = [2,7,9,3,1]\n",
    "# Output: 11\n",
    "rob(nums)\n"
   ]
  },
  {
   "cell_type": "code",
   "execution_count": null,
   "metadata": {},
   "outputs": [],
   "source": [
    "nums = [2]\n",
    "# Output: 2\n",
    "rob(nums)\n"
   ]
  }
 ],
 "metadata": {
  "kernelspec": {
   "display_name": "Python 3.8.2 64-bit",
   "language": "python",
   "name": "python38264bit579c7998837c475ba0e81c984a932003"
  },
  "language_info": {
   "codemirror_mode": {
    "name": "ipython",
    "version": 3
   },
   "file_extension": ".py",
   "mimetype": "text/x-python",
   "name": "python",
   "nbconvert_exporter": "python",
   "pygments_lexer": "ipython3",
   "version": "3.8.2-final"
  }
 },
 "nbformat": 4,
 "nbformat_minor": 2
}