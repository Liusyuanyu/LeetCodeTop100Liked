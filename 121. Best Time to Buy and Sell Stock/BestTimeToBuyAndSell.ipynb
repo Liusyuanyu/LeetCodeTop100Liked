{
 "cells": [
  {
   "cell_type": "markdown",
   "metadata": {},
   "source": [
    "# Problem"
   ]
  },
  {
   "cell_type": "markdown",
   "metadata": {},
   "source": [
    "Say you have an array for which the ith element is the price of a given stock on day i.\n",
    "If you were only permitted to complete at most one transaction (i.e., buy one and sell one share of the stock), design an algorithm to find the maximum profit.\n",
    "Note that you cannot sell a stock before you buy one."
   ]
  },
  {
   "cell_type": "code",
   "execution_count": null,
   "metadata": {},
   "outputs": [],
   "source": [
    "class Solution:\n",
    "    def maxProfit(self, prices: List[int]) -> int:\n",
    "        "
   ]
  },
  {
   "cell_type": "markdown",
   "metadata": {},
   "source": [
    "# Examples"
   ]
  },
  {
   "cell_type": "code",
   "execution_count": null,
   "metadata": {},
   "outputs": [],
   "source": [
    "Example 1:\n",
    "Input: [7,1,5,3,6,4]\n",
    "Output: 5\n",
    "Explanation: Buy on day 2 (price = 1) and sell on day 5 (price = 6), profit = 6-1 = 5.\n",
    "             Not 7-1 = 6, as selling price needs to be larger than buying price.\n",
    "Example 2:\n",
    "Input: [7,6,4,3,1]\n",
    "Output: 0\n",
    "Explanation: In this case, no transaction is done, i.e. max profit = 0."
   ]
  },
  {
   "cell_type": "markdown",
   "metadata": {},
   "source": [
    "# My Algorithm"
   ]
  },
  {
   "cell_type": "markdown",
   "metadata": {},
   "source": [
    "## Time Limit Exceeded"
   ]
  },
  {
   "cell_type": "code",
   "execution_count": null,
   "metadata": {},
   "outputs": [],
   "source": [
    "def maxProfit(prices: [int]) -> int:\n",
    "    length = len(prices)\n",
    "    profit=0\n",
    "    for idxBuy in range(length):\n",
    "        for idxSell in range(idxBuy+1, length):\n",
    "            profit = max(profit, prices[idxSell] - prices[idxBuy])\n",
    "    return profit"
   ]
  },
  {
   "cell_type": "markdown",
   "metadata": {},
   "source": [
    "## Slow"
   ]
  },
  {
   "cell_type": "code",
   "execution_count": null,
   "metadata": {},
   "outputs": [],
   "source": [
    "def maxProfit(prices: [int]) -> int:\n",
    "    if not prices:\n",
    "        return 0\n",
    "    length = len(prices)\n",
    "    min_prices = [prices[0]]*length\n",
    "    for idx in range(1, length):\n",
    "        min_prices[idx]= min(min_prices[idx-1], prices[idx])\n",
    "        max_prices[idx]= max(prices[idx] - min_prices[idx], max_prices[idx-1])\n",
    "    return max_prices[length-1]"
   ]
  },
  {
   "cell_type": "markdown",
   "metadata": {},
   "source": [
    "# Alternative algorithms"
   ]
  },
  {
   "cell_type": "code",
   "execution_count": null,
   "metadata": {},
   "outputs": [],
   "source": [
    "def maxProfit(prices: [int]) -> int:\n",
    "    if not prices:\n",
    "        return 0\n",
    "    length = len(prices)\n",
    "    max_prices = 0\n",
    "    min_prices = float(\"inf\")\n",
    "    for idx in range(length):\n",
    "        min_prices= min(min_prices, prices[idx])\n",
    "        max_prices= max(prices[idx] - min_prices, max_prices)\n",
    "    return max_prices"
   ]
  },
  {
   "cell_type": "code",
   "execution_count": null,
   "metadata": {},
   "outputs": [],
   "source": [
    "def maxProfit(prices: [int]) -> int:\n",
    "    if not prices:\n",
    "        return 0\n",
    "    max_prices = 0\n",
    "    min_prices = 1<<15\n",
    "    for idx in range(len(prices)):\n",
    "        min_prices= min(min_prices, prices[idx])\n",
    "        max_prices= max(prices[idx] - min_prices, max_prices)\n",
    "    return max_prices"
   ]
  },
  {
   "cell_type": "markdown",
   "metadata": {},
   "source": [
    "# Sample Input and Test"
   ]
  },
  {
   "cell_type": "code",
   "execution_count": null,
   "metadata": {},
   "outputs": [],
   "source": [
    "Input=[7,1,5,3,6,4]\n",
    "# Output: 5\n",
    "maxProfit(Input)\n",
    "\n",
    "# Input=  [7,6,4,3,1]\n",
    "# # Output: 0\n",
    "# maxProfit(Input)\n"
   ]
  },
  {
   "cell_type": "code",
   "execution_count": null,
   "metadata": {},
   "outputs": [],
   "source": [
    "Input=[5,9]\n",
    "# Output: 4\n",
    "maxProfit(Input)\n",
    "\n",
    "Input=[5]\n",
    "# Output: 0\n",
    "maxProfit(Input)\n",
    "\n",
    "\n",
    "Input=[1,2]\n",
    "# Output: 1\n",
    "maxProfit(Input)\n"
   ]
  }
 ],
 "metadata": {
  "kernelspec": {
   "display_name": "Python 3",
   "language": "python",
   "name": "python3"
  },
  "language_info": {
   "codemirror_mode": {
    "name": "ipython",
    "version": 3
   },
   "file_extension": ".py",
   "mimetype": "text/x-python",
   "name": "python",
   "nbconvert_exporter": "python",
   "pygments_lexer": "ipython3",
   "version": "3.8.2-final"
  }
 },
 "nbformat": 4,
 "nbformat_minor": 2
}