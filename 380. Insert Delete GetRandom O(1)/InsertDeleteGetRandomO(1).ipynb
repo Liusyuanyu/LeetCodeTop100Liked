{
 "cells": [
  {
   "cell_type": "markdown",
   "metadata": {},
   "source": [
    "# Problem"
   ]
  },
  {
   "cell_type": "code",
   "execution_count": null,
   "metadata": {},
   "outputs": [],
   "source": [
    "Design a data structure that supports all following operations in average O(1) time.\n",
    " \n",
    "1. insert(val): Inserts an item val to the set if not already present.\n",
    "2. remove(val): Removes an item val from the set if present.\n",
    "3. getRandom: Returns a random element from current set of elements (it's guaranteed that at least one element exists when this method is called). Each element must have the same probability of being returned."
   ]
  },
  {
   "cell_type": "code",
   "execution_count": null,
   "metadata": {},
   "outputs": [],
   "source": [
    "class RandomizedSet:\n",
    "\n",
    "    def __init__(self):\n",
    "        \"\"\"\n",
    "        Initialize your data structure here.\n",
    "        \"\"\"\n",
    "        \n",
    "\n",
    "    def insert(self, val: int) -> bool:\n",
    "        \"\"\"\n",
    "        Inserts a value to the set. Returns true if the set did not already contain the specified element.\n",
    "        \"\"\"\n",
    "        \n",
    "\n",
    "    def remove(self, val: int) -> bool:\n",
    "        \"\"\"\n",
    "        Removes a value from the set. Returns true if the set contained the specified element.\n",
    "        \"\"\"\n",
    "        \n",
    "\n",
    "    def getRandom(self) -> int:\n",
    "        \"\"\"\n",
    "        Get a random element from the set.\n",
    "        \"\"\"\n",
    "        \n",
    "\n",
    "\n",
    "# Your RandomizedSet object will be instantiated and called as such:\n",
    "# obj = RandomizedSet()\n",
    "# param_1 = obj.insert(val)\n",
    "# param_2 = obj.remove(val)\n",
    "# param_3 = obj.getRandom()"
   ]
  },
  {
   "cell_type": "markdown",
   "metadata": {},
   "source": [
    "# Examples"
   ]
  },
  {
   "cell_type": "code",
   "execution_count": null,
   "metadata": {},
   "outputs": [],
   "source": [
    "Example:\n",
    "// Init an empty set.\n",
    "RandomizedSet randomSet = new RandomizedSet();\n",
    "\n",
    "// Inserts 1 to the set. Returns true as 1 was inserted successfully.\n",
    "randomSet.insert(1);\n",
    "\n",
    "// Returns false as 2 does not exist in the set.\n",
    "randomSet.remove(2);\n",
    "\n",
    "// Inserts 2 to the set, returns true. Set now contains [1,2].\n",
    "randomSet.insert(2);\n",
    "\n",
    "// getRandom should return either 1 or 2 randomly.\n",
    "randomSet.getRandom();\n",
    "\n",
    "// Removes 1 from the set, returns true. Set now contains [2].\n",
    "randomSet.remove(1);\n",
    "\n",
    "// 2 was already in the set, so return false.\n",
    "randomSet.insert(2);\n",
    "\n",
    "// Since 2 is the only number in the set, getRandom always return 2.\n",
    "randomSet.getRandom();"
   ]
  },
  {
   "cell_type": "markdown",
   "metadata": {},
   "source": [
    "# My Algorithms"
   ]
  },
  {
   "cell_type": "code",
   "execution_count": null,
   "metadata": {},
   "outputs": [],
   "source": [
    "class RandomizedSet:\n",
    "    def __init__(self):\n",
    "        self.data = []\n",
    "        self.random=0\n",
    "        self.length=0\n",
    "    def insert(self, val: int) -> bool:\n",
    "        if val in self.data:\n",
    "            return False\n",
    "        self.data.append(val)\n",
    "        self.length+=1\n",
    "        return True\n",
    "        \n",
    "    def remove(self, val: int) -> bool:\n",
    "        if val not in self.data:\n",
    "            return False\n",
    "        self.data.remove(val)\n",
    "        self.length-=1\n",
    "        return True\n",
    "\n",
    "    def getRandom(self) -> int:\n",
    "        return random.choice(self.data)"
   ]
  },
  {
   "cell_type": "code",
   "execution_count": null,
   "metadata": {},
   "outputs": [],
   "source": [
    "# class RandomizedSet:\n",
    "#     def __init__(self):\n",
    "#         self.dataDict = {}\n",
    "#         self.data = []\n",
    "#     def insert(self, val: int) -> bool:\n",
    "#         if val in self.data:\n",
    "#             return False\n",
    "#         self.dataDict[val]=len(self.data)\n",
    "#         self.data.append(val)\n",
    "#         return True\n",
    "        \n",
    "#     def remove(self, val: int) -> bool:\n",
    "#         if val not in self.data:\n",
    "#             return False\n",
    "#         valIdx = self.dataDict[val]\n",
    "#         lastIdx = self.dataDict[self.data[-1]]\n",
    "\n",
    "#         self.data[valIdx], self.data[lastIdx] = self.data[lastIdx], self.data[valIdx]\n",
    "#         self.dataDict[self.data[-1]] = valIdx\n",
    "         \n",
    "#         del self.dataDict[val]\n",
    "#         self.data.pop()\n",
    "#         return True\n",
    "\n",
    "#     def getRandom(self) -> int:\n",
    "#         return choice(self.data)\n",
    "\n",
    "class RandomizedSet:\n",
    "    def __init__(self):\n",
    "        self.dataDict = {}\n",
    "        self.data = []\n",
    "    def insert(self, val: int) -> bool:\n",
    "        if val in self.data:\n",
    "            return False\n",
    "        self.dataDict[val]=len(self.data)\n",
    "        self.data.append(val)\n",
    "        return True\n",
    "        \n",
    "    def remove(self, val: int) -> bool:\n",
    "        if val not in self.data:\n",
    "            return False\n",
    "        lastEle, valIdx = self.data[-1], self.dataDict[val] \n",
    "        self.data[valIdx],  self.dataDict[lastEle]= lastEle, valIdx\n",
    "         \n",
    "        del self.dataDict[val]\n",
    "        self.data.pop()\n",
    "        return True\n",
    "\n",
    "    def getRandom(self) -> int:\n",
    "        return choice(self.data)"
   ]
  },
  {
   "cell_type": "code",
   "execution_count": null,
   "metadata": {},
   "outputs": [],
   "source": [
    "class RandomizedSet:\n",
    "    def __init__(self):\n",
    "        \"\"\"\n",
    "        Initialize your data structure here.\n",
    "        \"\"\"\n",
    "        # self.data = [0]*1000000000\n",
    "        self.data = [0]*9999999999\n",
    "        self.random =0\n",
    "\n",
    "    def insert(self, val: int) -> bool:\n",
    "        \"\"\"\n",
    "        Inserts a value to the set. Returns true if the set did not already contain the specified element.\n",
    "        \"\"\"\n",
    "        if val >=0:\n",
    "            if self.data[val]:\n",
    "                return False\n",
    "            self.data[val]=1\n",
    "            return True\n",
    "        else:\n",
    "            if self.data[-val]:\n",
    "                return False\n",
    "            self.data[-val]=2\n",
    "            return True\n",
    "        \n",
    "    def remove(self, val: int) -> bool:\n",
    "        \"\"\"\n",
    "        Removes a value from the set. Returns true if the set contained the specified element.\n",
    "        \"\"\"\n",
    "        if val >=0:\n",
    "            if not self.data[val]:\n",
    "                return False\n",
    "            self.data[val]=0\n",
    "            return True\n",
    "        else:\n",
    "            if not self.data[-val]:\n",
    "                return False\n",
    "            self.data[-val]=0\n",
    "            return True\n",
    "\n",
    "    def getRandom(self) -> int:\n",
    "        \"\"\"\n",
    "        Get a random element from the set.\n",
    "        \"\"\"\n",
    "        while(True):\n",
    "            if self.data[self.random]:\n",
    "                return self.random if self.data[self.random]==1 else -(self.random)\n",
    "            self.random+=1\n",
    "            self.random%=9999999999\n",
    "\n",
    "\n",
    "# Your RandomizedSet object will be instantiated and called as such:\n",
    "# obj = RandomizedSet()\n",
    "# param_1 = obj.insert(val)\n",
    "# param_2 = obj.remove(val)\n",
    "# param_3 = obj.getRandom()"
   ]
  },
  {
   "cell_type": "markdown",
   "metadata": {},
   "source": [
    "# Alternative algorithms"
   ]
  },
  {
   "cell_type": "code",
   "execution_count": null,
   "metadata": {},
   "outputs": [],
   "source": []
  },
  {
   "cell_type": "code",
   "execution_count": null,
   "metadata": {},
   "outputs": [],
   "source": []
  },
  {
   "cell_type": "markdown",
   "metadata": {},
   "source": [
    "# Sample Input and Test"
   ]
  },
  {
   "cell_type": "code",
   "execution_count": null,
   "metadata": {
    "tags": []
   },
   "outputs": [],
   "source": []
  }
 ],
 "metadata": {
  "kernelspec": {
   "display_name": "Python 3.8.2 64-bit",
   "language": "python",
   "name": "python38264bit579c7998837c475ba0e81c984a932003"
  },
  "language_info": {
   "codemirror_mode": {
    "name": "ipython",
    "version": 3
   },
   "file_extension": ".py",
   "mimetype": "text/x-python",
   "name": "python",
   "nbconvert_exporter": "python",
   "pygments_lexer": "ipython3",
   "version": "3.8.2-final"
  }
 },
 "nbformat": 4,
 "nbformat_minor": 2
}