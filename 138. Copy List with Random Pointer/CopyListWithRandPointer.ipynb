{
 "cells": [
  {
   "cell_type": "markdown",
   "metadata": {},
   "source": [
    "# Problem"
   ]
  },
  {
   "cell_type": "markdown",
   "metadata": {},
   "source": [
    "A linked list is given such that each node contains an additional random pointer which could point to any node in the list or null.\n",
    "Return a deep copy of the list.\n",
    "\n",
    "The Linked List is represented in the input/output as a list of n nodes. Each node is represented as a pair of [val, random_index] where:\n",
    "    val: an integer representing Node.val\n",
    "    random_index: the index of the node (range from 0 to n-1) where random pointer points to, or null if it does not point to any node."
   ]
  },
  {
   "cell_type": "code",
   "execution_count": null,
   "metadata": {},
   "outputs": [],
   "source": [
    "\"\"\"\n",
    "# Definition for a Node.\n",
    "class Node:\n",
    "    def __init__(self, x: int, next: 'Node' = None, random: 'Node' = None):\n",
    "        self.val = int(x)\n",
    "        self.next = next\n",
    "        self.random = random\n",
    "\"\"\"\n",
    "\n",
    "class Solution:\n",
    "    def copyRandomList(self, head: 'Node') -> 'Node':\n",
    "        "
   ]
  },
  {
   "cell_type": "markdown",
   "metadata": {},
   "source": [
    "# Examples"
   ]
  },
  {
   "cell_type": "code",
   "execution_count": null,
   "metadata": {},
   "outputs": [],
   "source": [
    "Example 1:\n",
    "Input: head = [[7,null],[13,0],[11,4],[10,2],[1,0]]\n",
    "Output: [[7,null],[13,0],[11,4],[10,2],[1,0]]\n",
    "\n",
    "Example 2:\n",
    "Input: head = [[1,1],[2,1]]\n",
    "Output: [[1,1],[2,1]]\n",
    "\n",
    "Example 3:\n",
    "Input: head = [[3,null],[3,0],[3,null]]\n",
    "Output: [[3,null],[3,0],[3,null]]\n",
    "\n",
    "Example 4:\n",
    "Input: head = []\n",
    "Output: []\n",
    "Explanation: Given linked list is empty (null pointer), so return null."
   ]
  },
  {
   "cell_type": "code",
   "execution_count": null,
   "metadata": {},
   "outputs": [],
   "source": [
    "class Node:\n",
    "    def __init__(self, x: int, next: 'Node' = None, random: 'Node' = None):\n",
    "        self.val = int(x)\n",
    "        self.next = next\n",
    "        self.random = random"
   ]
  },
  {
   "cell_type": "markdown",
   "metadata": {},
   "source": [
    "# My Algorithm"
   ]
  },
  {
   "cell_type": "code",
   "execution_count": null,
   "metadata": {},
   "outputs": [],
   "source": [
    "def copyRandomList(head: 'Node') -> 'Node':\n",
    "    nodeList = {None:None}\n",
    "    def copyNode(node):\n",
    "        if not node:\n",
    "            return None\n",
    "        newNode = Node(node.val)\n",
    "        nodeList[node]=newNode\n",
    "        newNode.next = copyNode(node.next)\n",
    "        newNode.random =nodeList[node.random]        \n",
    "        return newNode      \n",
    "    return copyNode(head)"
   ]
  },
  {
   "cell_type": "markdown",
   "metadata": {},
   "source": [
    "# Alternative algorithms"
   ]
  },
  {
   "cell_type": "code",
   "execution_count": null,
   "metadata": {},
   "outputs": [],
   "source": [
    "def copyRandomList(head: 'Node') -> 'Node':\n",
    "    cloneNode = {None:None}\n",
    "    node = head\n",
    "    while(node):\n",
    "        cloneNode[node]=Node(node.val, node.next, node.random)\n",
    "        node = node.next\n",
    "\n",
    "    node = cloneNode[head]\n",
    "    while(node):\n",
    "        node.next = cloneNode[node.next]\n",
    "        node.random = cloneNode[node.random]\n",
    "        node = node.next\n",
    "    return cloneNode[head]"
   ]
  },
  {
   "cell_type": "markdown",
   "metadata": {},
   "source": [
    "# Sample Input and Test"
   ]
  },
  {
   "cell_type": "code",
   "execution_count": null,
   "metadata": {},
   "outputs": [],
   "source": [
    "newHead =copyRandomList(None)\n",
    "printRandNode(newHead)\n"
   ]
  },
  {
   "cell_type": "code",
   "execution_count": null,
   "metadata": {},
   "outputs": [],
   "source": [
    "# Example 1:\n",
    "# Input: head = [[7,null],[13,0],[11,4],[10,2],[1,0]]\n",
    "# Output: [[7,null],[13,0],[11,4],[10,2],[1,0]]\n",
    "\n",
    "node5 = Node(1)\n",
    "node4 = Node(10, next=node5)\n",
    "node3 = Node(11, next=node4)\n",
    "node2 = Node(13, next=node3)\n",
    "node1 = Node(7, next=node2)\n",
    "\n",
    "node1.random = None\n",
    "node2.random = node1\n",
    "node3.random = node5\n",
    "node4.random = node3\n",
    "node5.random = node1\n",
    "\n",
    "printRandNode(node1)\n",
    "newHead =copyRandomList(node1)\n",
    "print('\\n Deep Copy')\n",
    "printRandNode(newHead)\n"
   ]
  },
  {
   "cell_type": "markdown",
   "metadata": {},
   "source": [
    "# Print Node"
   ]
  },
  {
   "cell_type": "code",
   "execution_count": null,
   "metadata": {},
   "outputs": [],
   "source": [
    "def printRandNode(head):\n",
    "    while(head):\n",
    "        nextVal = head.val\n",
    "        randomVal  =None\n",
    "        if head.random:\n",
    "            randomVal = head.random.val\n",
    "        print('[', nextVal, ',', randomVal, '] ,', end='')\n",
    "        head= head.next"
   ]
  }
 ],
 "metadata": {
  "kernelspec": {
   "display_name": "Python 3",
   "language": "python",
   "name": "python3"
  },
  "language_info": {
   "codemirror_mode": {
    "name": "ipython",
    "version": 3
   },
   "file_extension": ".py",
   "mimetype": "text/x-python",
   "name": "python",
   "nbconvert_exporter": "python",
   "pygments_lexer": "ipython3",
   "version": "3.8.2-final"
  }
 },
 "nbformat": 4,
 "nbformat_minor": 2
}