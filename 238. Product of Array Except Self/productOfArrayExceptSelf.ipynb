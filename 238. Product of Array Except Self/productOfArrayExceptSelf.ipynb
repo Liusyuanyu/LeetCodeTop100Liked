{
 "cells": [
  {
   "cell_type": "markdown",
   "metadata": {},
   "source": [
    "# Problem"
   ]
  },
  {
   "cell_type": "code",
   "execution_count": null,
   "metadata": {},
   "outputs": [],
   "source": [
    "Given an array nums of n integers where n > 1,  return an array output such that output[i] is equal to the product of all the elements of nums except nums[i].\n",
    "\n",
    "\n",
    "Constraint: \n",
    "It's guaranteed that the product of the elements of any prefix or suffix of the array (including the whole array) fits in a 32 bit integer.\n",
    "\n",
    "Note: \n",
    "Please solve it without division and in O(n).\n",
    "\n",
    "Follow up:\n",
    "Could you solve it with constant space complexity? (The output array does not count as extra space for the purpose of space complexity analysis.)"
   ]
  },
  {
   "cell_type": "code",
   "execution_count": null,
   "metadata": {},
   "outputs": [],
   "source": [
    "class Solution:\n",
    "    def productExceptSelf(self, nums: List[int]) -> List[int]:\n",
    "        "
   ]
  },
  {
   "cell_type": "markdown",
   "metadata": {},
   "source": [
    "# Examples"
   ]
  },
  {
   "cell_type": "code",
   "execution_count": null,
   "metadata": {},
   "outputs": [],
   "source": [
    "Example:\n",
    "Input:  [1,2,3,4]\n",
    "Output: [24,12,8,6]\n"
   ]
  },
  {
   "cell_type": "markdown",
   "metadata": {},
   "source": [
    "# My Algorithms"
   ]
  },
  {
   "cell_type": "code",
   "execution_count": null,
   "metadata": {},
   "outputs": [],
   "source": [
    "def productExceptSelf(nums: [int]) -> [int]:\n",
    "    length = len(nums)\n",
    "    fromRight = [1]* length\n",
    "    fromLeft = [1]* length\n",
    "\n",
    "    for idx in range(1, length):\n",
    "        fromLeft[idx] =fromLeft[idx-1]* nums[idx-1] \n",
    "    for idx in range(length-2, -1, -1):\n",
    "        fromRight[idx] =fromRight[idx+1]* nums[idx+1] \n",
    "\n",
    "    print(fromLeft)\n",
    "\n",
    "\n",
    "    for idx in range(length):\n",
    "        fromRight[idx] *=fromLeft[idx] \n",
    "\n",
    "    return fromRight\n"
   ]
  },
  {
   "cell_type": "markdown",
   "metadata": {},
   "source": [
    "# Alternative algorithms"
   ]
  },
  {
   "cell_type": "code",
   "execution_count": null,
   "metadata": {},
   "outputs": [],
   "source": [
    "def productExceptSelf(nums: [int]) -> [int]:\n",
    "    length = len(nums)\n",
    "    res = [1]* length\n",
    "\n",
    "    for idx in range(1, length):\n",
    "        res[idx] =res[idx-1]* nums[idx-1] \n",
    "    \n",
    "    preNum = 1\n",
    "    for idx in range(length-1, -1, -1):\n",
    "        res[idx] *= preNum\n",
    "        preNum *= nums[idx]\n",
    "\n",
    "    return res\n"
   ]
  },
  {
   "cell_type": "markdown",
   "metadata": {},
   "source": [
    "# Sample Input and Test"
   ]
  },
  {
   "cell_type": "code",
   "execution_count": null,
   "metadata": {
    "tags": []
   },
   "outputs": [],
   "source": [
    "Input =  [1,2,3,4]\n",
    "# Output: [24,12,8,6]\n",
    "productExceptSelf(Input)"
   ]
  },
  {
   "cell_type": "code",
   "execution_count": null,
   "metadata": {
    "tags": []
   },
   "outputs": [],
   "source": [
    "Input =  [2, 3, 4, 5]\n",
    "# Output: [60, 40, 30, 24]\n",
    "productExceptSelf(Input)"
   ]
  },
  {
   "cell_type": "code",
   "execution_count": null,
   "metadata": {
    "tags": []
   },
   "outputs": [],
   "source": [
    "Input =  [2,5]\n",
    "# Output: [0]\n",
    "productExceptSelf(Input)"
   ]
  }
 ],
 "metadata": {
  "kernelspec": {
   "display_name": "Python 3.8.2 64-bit",
   "language": "python",
   "name": "python38264bit579c7998837c475ba0e81c984a932003"
  },
  "language_info": {
   "codemirror_mode": {
    "name": "ipython",
    "version": 3
   },
   "file_extension": ".py",
   "mimetype": "text/x-python",
   "name": "python",
   "nbconvert_exporter": "python",
   "pygments_lexer": "ipython3",
   "version": "3.8.2-final"
  }
 },
 "nbformat": 4,
 "nbformat_minor": 2
}