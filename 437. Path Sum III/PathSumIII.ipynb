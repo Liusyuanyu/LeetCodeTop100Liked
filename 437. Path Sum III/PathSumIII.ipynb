{
 "cells": [
  {
   "cell_type": "markdown",
   "metadata": {},
   "source": [
    "# Problem"
   ]
  },
  {
   "cell_type": "code",
   "execution_count": null,
   "metadata": {},
   "outputs": [],
   "source": [
    "You are given a binary tree in which each node contains an integer value.\n",
    "Find the number of paths that sum to a given value.\n",
    "The path does not need to start or end at the root or a leaf, but it must go downwards (traveling only from parent nodes to child nodes).\n",
    "The tree has no more than 1,000 nodes and the values are in the range -1,000,000 to 1,000,000. "
   ]
  },
  {
   "cell_type": "code",
   "execution_count": null,
   "metadata": {},
   "outputs": [],
   "source": [
    "# Definition for a binary tree node.\n",
    "# class TreeNode:\n",
    "#     def __init__(self, val=0, left=None, right=None):\n",
    "#         self.val = val\n",
    "#         self.left = left\n",
    "#         self.right = right\n",
    "class Solution:\n",
    "    def pathSum(self, root: TreeNode, sum: int) -> int:\n",
    "        "
   ]
  },
  {
   "cell_type": "markdown",
   "metadata": {},
   "source": [
    "# Examples"
   ]
  },
  {
   "cell_type": "code",
   "execution_count": null,
   "metadata": {},
   "outputs": [],
   "source": [
    "root = [10,5,-3,3,2,null,11,3,-2,null,1], sum = 8\n",
    "\n",
    "      10\n",
    "     /  \\\n",
    "    5   -3\n",
    "   / \\    \\\n",
    "  3   2   11\n",
    " / \\   \\\n",
    "3  -2   1\n",
    "\n",
    "Return 3. The paths that sum to 8 are:\n",
    "\n",
    "1.  5 -> 3\n",
    "2.  5 -> 2 -> 1\n",
    "3. -3 -> 11"
   ]
  },
  {
   "cell_type": "code",
   "execution_count": null,
   "metadata": {},
   "outputs": [],
   "source": [
    "class TreeNode:\n",
    "    def __init__(self, val=0, left=None, right=None):\n",
    "        self.val = val\n",
    "        self.left = left\n",
    "        self.right = right\n",
    "        "
   ]
  },
  {
   "cell_type": "markdown",
   "metadata": {},
   "source": [
    "# My Algorithms"
   ]
  },
  {
   "cell_type": "code",
   "execution_count": null,
   "metadata": {},
   "outputs": [],
   "source": [
    "# # def pathSum(root: TreeNode, sum: int) -> int:\n",
    "# #     comb = 0\n",
    "# #     def dfsHelper(node, curSum):\n",
    "# #         if curSum==sum:\n",
    "# #             nonlocal comb\n",
    "# #             comb+=1\n",
    "# #         if not node:\n",
    "# #             return\n",
    "\n",
    "# #         dfsHelper(node.left , curSum+node.val)\n",
    "# #         dfsHelper(node.right, curSum+node.val) \n",
    "# #         dfsHelper(node.left, 0)\n",
    "# #         dfsHelper(node.right, 0) \n",
    "# #     dfsHelper(root , 0) \n",
    "# #     return comb\n",
    "\n",
    "# def pathSum(root: TreeNode, sum: int) -> int:\n",
    "#     comb = 0\n",
    "#     def dfsHelper(node, path):\n",
    "#         nonlocal comb\n",
    "#         if not node:\n",
    "#             if path:\n",
    "#                 curSum = 0\n",
    "#                 start = 0\n",
    "#                 for idx in range(len(path)):\n",
    "#                     curSum+=path[idx]\n",
    "#                     if curSum==sum:\n",
    "#                         comb+=1\n",
    "#                         curSum = 0\n",
    "#                     while(curSum > sum and start <= idx):\n",
    "#                         curSum-=path[start]\n",
    "#                         start+=1\n",
    "#             return\n",
    "#         path.append(node.val)\n",
    "#         dfsHelper(node.left, path)\n",
    "#         dfsHelper(node.right, path)\n",
    "#         path.pop()\n",
    "#     dfsHelper(root, []) \n",
    "#     return comb\n",
    "#     # return comb//2"
   ]
  },
  {
   "cell_type": "code",
   "execution_count": null,
   "metadata": {},
   "outputs": [],
   "source": [
    "# def pathSum(root: TreeNode, sum: int) -> int:\n",
    "#     comb = 0\n",
    "#     def dfsHelper(node, path, curSum):\n",
    "#         if not node:\n",
    "#             return\n",
    "#         curSum+=node.val\n",
    "#         path.append(node.val)\n",
    "#         if curSum>sum:\n",
    "#             while(curSum > sum and path):\n",
    "#                 curSum-=path.pop(0)\n",
    "#         # print('SUM: ', curSum, ' VAL : ', node.val)\n",
    "#         if curSum==sum:\n",
    "#             nonlocal comb\n",
    "#             comb+=1\n",
    "#         # print('Right : ', path)\n",
    "#         dfsHelper(node.left, path, curSum)\n",
    "#         # print('Left : ', path)\n",
    "#         dfsHelper(node.right, path, curSum)\n",
    "#     dfsHelper(root, [], 0) \n",
    "        \n",
    "#     return comb"
   ]
  },
  {
   "cell_type": "code",
   "execution_count": null,
   "metadata": {},
   "outputs": [],
   "source": [
    "def pathSum(root: TreeNode, sum: int) -> int:\n",
    "    if not root:\n",
    "        return 0\n",
    "    def dfsHelper(node, curSum):\n",
    "        if not node:\n",
    "            return 0\n",
    "        count = 0\n",
    "        if curSum+node.val==sum:\n",
    "            count+=1\n",
    "        count+=dfsHelper(node.left, curSum+node.val)\n",
    "        count+=dfsHelper(node.right, curSum+node.val)\n",
    "        return count\n",
    "    return dfsHelper(root, 0) + pathSum(root.left, sum) + pathSum(root.right, sum)\n"
   ]
  },
  {
   "cell_type": "markdown",
   "metadata": {},
   "source": [
    "# Alternative algorithms"
   ]
  },
  {
   "cell_type": "code",
   "execution_count": null,
   "metadata": {},
   "outputs": [],
   "source": [
    "def pathSum(root: TreeNode, sum: int) -> int:\n",
    "    if not root:\n",
    "        return 0\n",
    "    comb = [0]\n",
    "    def dfsHelper(node, curSum, history):\n",
    "        curSum+=node.val \n",
    "        if curSum - sum in history:\n",
    "            comb[0]+=history[curSum - sum]\n",
    "\n",
    "        if curSum not in history:\n",
    "            history[curSum]=0\n",
    "\n",
    "        history[curSum]+=1\n",
    "        if node.left:\n",
    "            dfsHelper(node.left, curSum, history)\n",
    "        if node.right:\n",
    "            dfsHelper(node.right, curSum, history)\n",
    "        history[curSum]-=1\n",
    "\n",
    "        if not history[curSum]:\n",
    "            del history[curSum]\n",
    "\n",
    "    dfsHelper(root, 0, {0:1}) \n",
    "    return comb[0]"
   ]
  },
  {
   "cell_type": "markdown",
   "metadata": {},
   "source": [
    "# Sample Input and Test"
   ]
  },
  {
   "cell_type": "code",
   "execution_count": null,
   "metadata": {
    "tags": []
   },
   "outputs": [],
   "source": [
    "# # Example 2:\n",
    "# Input: [3,4,5,1,3,null,1]\n",
    "\n",
    "#      3\n",
    "#     / \\\n",
    "#    4   4\n",
    "\n",
    "# Output: 2\n",
    "# Explanation: Maximum amount of money the thief can rob = 4 + 5 = 9.\n",
    "\n",
    "root = TreeNode(3)\n",
    "root.left = TreeNode(4)\n",
    "root.right = TreeNode(4)\n",
    "printLevelOrder(root)\n",
    "\n",
    "pathSum(root, 7)\n",
    "\n"
   ]
  },
  {
   "cell_type": "code",
   "execution_count": null,
   "metadata": {
    "tags": []
   },
   "outputs": [],
   "source": [
    "# # Example 2:\n",
    "# Input: [3,4,5,1,3,null,1]\n",
    "\n",
    "#      3\n",
    "#     / \\\n",
    "#    4   5\n",
    "#   / \\   \\ \n",
    "#  1   3   1\n",
    "\n",
    "# Output: 1\n",
    "# Explanation: Maximum amount of money the thief can rob = 4 + 5 = 9.\n",
    "\n",
    "root = TreeNode(3)\n",
    "root.left = TreeNode(4)\n",
    "root.right = TreeNode(5)\n",
    "root.right.right = TreeNode(1)\n",
    "root.left.right = TreeNode(3)\n",
    "root.left.left = TreeNode(1)\n",
    "printLevelOrder(root)\n",
    "\n",
    "pathSum(root, 9)\n",
    "\n"
   ]
  },
  {
   "cell_type": "code",
   "execution_count": null,
   "metadata": {
    "tags": []
   },
   "outputs": [],
   "source": [
    "# root = [10,5,-3,3,2,null,11,3,-2,null,1], sum = 8\n",
    "#       10\n",
    "#      /  \\\n",
    "#     5   -3\n",
    "#    / \\    \\\n",
    "#   3   2   11\n",
    "#  / \\   \\\n",
    "# 3  -2   1\n",
    "\n",
    "# Return 3. The paths that sum to 8 are:\n",
    "\n",
    "# 1.  5 -> 3\n",
    "# 2.  5 -> 2 -> 1\n",
    "# 3. -3 -> 11\n",
    "\n",
    "root = TreeNode(10)\n",
    "root.left = TreeNode(5)\n",
    "root.right = TreeNode(-3)\n",
    "root.right.right = TreeNode(11)\n",
    "root.left.right = TreeNode(2)\n",
    "root.left.right.right = TreeNode(1)\n",
    "root.left.left = TreeNode(3)\n",
    "root.left.left.left = TreeNode(3)\n",
    "root.left.left.right = TreeNode(-2)\n",
    "printLevelOrder(root)\n",
    "\n",
    "pathSum(root, 8)\n",
    "\n"
   ]
  },
  {
   "cell_type": "code",
   "execution_count": null,
   "metadata": {
    "tags": []
   },
   "outputs": [],
   "source": [
    "#          10\n",
    "#         /  \\\n",
    "#        5   -3\n",
    "#       / \\    \\\n",
    "#      2   2   11\n",
    "#     / \\   \\\n",
    "#    3  -2   1\n",
    "#   /\n",
    "#  4\n",
    "# Return 3. The paths that sum to 7 are:\n",
    "\n",
    "root = TreeNode(10)\n",
    "root.left = TreeNode(5)\n",
    "root.right = TreeNode(-3)\n",
    "root.right.right = TreeNode(11)\n",
    "root.left.right = TreeNode(2)\n",
    "root.left.right.right = TreeNode(1)\n",
    "root.left.left = TreeNode(2)\n",
    "root.left.left.left = TreeNode(3)\n",
    "root.left.left.left.left = TreeNode(4)\n",
    "root.left.left.right = TreeNode(-2)\n",
    "printLevelOrder(root)\n",
    "\n",
    "pathSum(root, 7)\n",
    "\n",
    "\n",
    "\n"
   ]
  },
  {
   "cell_type": "markdown",
   "metadata": {},
   "source": [
    "# Print TreeNode"
   ]
  },
  {
   "cell_type": "code",
   "execution_count": null,
   "metadata": {},
   "outputs": [],
   "source": [
    "# Function to  print level order traversal of tree \n",
    "def printLevelOrder(root): \n",
    "    h = height(root) \n",
    "    for i in range(1, h+1): \n",
    "        printGivenLevel(root, i) \n",
    "    print()\n",
    "    \n",
    "  \n",
    "# Print nodes at a given level \n",
    "def printGivenLevel(root , level): \n",
    "    if root is None:\n",
    "        print('Null', end=\" \")\n",
    "        return\n",
    "    if level == 1: \n",
    "        print (\"%d\" %(root.val), end=\" \") \n",
    "    elif level > 1 : \n",
    "        printGivenLevel(root.left , level-1) \n",
    "        printGivenLevel(root.right , level-1) \n",
    "\n",
    "def height(node): \n",
    "    if node is None: \n",
    "        return 0 \n",
    "    else : \n",
    "        # Compute the height of each subtree  \n",
    "        lheight = height(node.left) \n",
    "        rheight = height(node.right) \n",
    "  \n",
    "        #Use the larger one \n",
    "        if lheight > rheight : \n",
    "            return lheight+1\n",
    "        else: \n",
    "            return rheight+1"
   ]
  }
 ],
 "metadata": {
  "kernelspec": {
   "display_name": "Python 3.8.2 64-bit",
   "language": "python",
   "name": "python38264bit579c7998837c475ba0e81c984a932003"
  },
  "language_info": {
   "codemirror_mode": {
    "name": "ipython",
    "version": 3
   },
   "file_extension": ".py",
   "mimetype": "text/x-python",
   "name": "python",
   "nbconvert_exporter": "python",
   "pygments_lexer": "ipython3",
   "version": "3.8.2-final"
  }
 },
 "nbformat": 4,
 "nbformat_minor": 2
}