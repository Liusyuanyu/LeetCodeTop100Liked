{
 "cells": [
  {
   "cell_type": "markdown",
   "metadata": {},
   "source": [
    "# Problem"
   ]
  },
  {
   "cell_type": "markdown",
   "metadata": {},
   "source": [
    "Given a binary tree, determine if it is a valid binary search tree (BST).\n",
    "Assume a BST is defined as follows:\n",
    "The left subtree of a node contains only nodes with keys less than the node's key.\n",
    "The right subtree of a node contains only nodes with keys greater than the node's key.\n",
    "Both the left and right subtrees must also be binary search trees."
   ]
  },
  {
   "cell_type": "code",
   "execution_count": null,
   "metadata": {},
   "outputs": [],
   "source": [
    "# Definition for a binary tree node.\n",
    "# class TreeNode:\n",
    "#     def __init__(self, val=0, left=None, right=None):\n",
    "#         self.val = val\n",
    "#         self.left = left\n",
    "#         self.right = right\n",
    "class Solution:\n",
    "    def isValidBST(self, root: TreeNode) -> bool:\n",
    "        "
   ]
  },
  {
   "cell_type": "markdown",
   "metadata": {},
   "source": [
    "# Examples"
   ]
  },
  {
   "cell_type": "code",
   "execution_count": null,
   "metadata": {},
   "outputs": [],
   "source": [
    "# Example 1:\n",
    "    2\n",
    "   / \\\n",
    "  1   3\n",
    "\n",
    "Input: [2,1,3]\n",
    "Output: true\n",
    "\n",
    "\n",
    "# Example 2:\n",
    "    5\n",
    "   / \\\n",
    "  1   4\n",
    "     / \\\n",
    "    3   6\n",
    "\n",
    "Input: [5,1,4,null,null,3,6]\n",
    "Output: false\n",
    "Explanation: The root node's value is 5 but its right child's value is 4."
   ]
  },
  {
   "cell_type": "code",
   "execution_count": null,
   "metadata": {},
   "outputs": [],
   "source": [
    "class TreeNode:\n",
    "    def __init__(self, val=0, left=None, right=None):\n",
    "        self.val = val\n",
    "        self.left = left\n",
    "        self.right = right\n"
   ]
  },
  {
   "cell_type": "markdown",
   "metadata": {},
   "source": [
    "# My Algorithm"
   ]
  },
  {
   "cell_type": "code",
   "execution_count": null,
   "metadata": {},
   "outputs": [],
   "source": [
    "# def isValidBST(root: TreeNode) -> bool:\n",
    "#     def checkLeftBST(node, headVal):\n",
    "#         if not node:\n",
    "#             return True\n",
    "#         if node.val >= headVal:\n",
    "#             return False\n",
    "#         return checkLeftBST(node.left, node.val) and checkRightBST(node.right, node.val)\n",
    "\n",
    "#     def checkRightBST(node, headVal):\n",
    "#         if not node:\n",
    "#             return True\n",
    "#         if node.val <= headVal:\n",
    "#             return False\n",
    "#         return checkLeftBST(node.left, node.val) and checkRightBST(node.right, node.val)\n",
    "#     if not root:\n",
    "#         return True\n",
    "#     return checkLeftBST(root.left, root.val) and checkRightBST(root.right, root.val)\n",
    "\n",
    "\n",
    "##Wrong answer"
   ]
  },
  {
   "cell_type": "code",
   "execution_count": null,
   "metadata": {},
   "outputs": [],
   "source": [
    "def isValidBST(root: TreeNode) -> bool:\n",
    "    orderList= [-float('inf')]\n",
    "    def inOrderTraversal(node):\n",
    "        if not node:\n",
    "            return True\n",
    "        res = inOrderTraversal(node.left)\n",
    "        if not res or orderList[-1] >= node.val:\n",
    "            return False \n",
    "        orderList.append(node.val)\n",
    "        return inOrderTraversal(node.right)\n",
    "    return inOrderTraversal(root)"
   ]
  },
  {
   "cell_type": "markdown",
   "metadata": {},
   "source": [
    "# Alternative algorithms"
   ]
  },
  {
   "cell_type": "markdown",
   "metadata": {},
   "source": [
    "# Slower but it's weird"
   ]
  },
  {
   "cell_type": "code",
   "execution_count": null,
   "metadata": {},
   "outputs": [],
   "source": [
    "def isValidBST(root: TreeNode) -> bool:\n",
    "    def checkNode(node, minVal, maxVal):\n",
    "        if not node:\n",
    "            return True\n",
    "        if node.val >= maxVal or node.val <=minVal:\n",
    "            return False\n",
    "        return checkNode(node.left, minVal, node.val) and checkNode(node.right, node.val, maxVal)\n",
    "    return checkNode(root, -float('inf'), float('inf'))"
   ]
  },
  {
   "cell_type": "markdown",
   "metadata": {},
   "source": [
    "# Sample Input and Test"
   ]
  },
  {
   "cell_type": "code",
   "execution_count": null,
   "metadata": {},
   "outputs": [],
   "source": [
    "root=TreeNode(2)\n",
    "root.left=TreeNode(1)\n",
    "root.right=TreeNode(3)\n",
    "\n",
    "printLevelOrder(root)\n",
    "isValidBST(root)"
   ]
  },
  {
   "cell_type": "code",
   "execution_count": null,
   "metadata": {},
   "outputs": [],
   "source": [
    "root=TreeNode(5)\n",
    "root.left=TreeNode(1)\n",
    "root.right=TreeNode(4)\n",
    "root.right.left=TreeNode(3)\n",
    "root.right.right=TreeNode(6)\n",
    "\n",
    "printLevelOrder(root)\n",
    "isValidBST(root)\n",
    "# False"
   ]
  },
  {
   "cell_type": "code",
   "execution_count": null,
   "metadata": {},
   "outputs": [],
   "source": [
    "root=TreeNode(2)\n",
    "root.left=TreeNode(2)\n",
    "\n",
    "printLevelOrder(root)\n",
    "isValidBST(root)\n",
    "#False"
   ]
  },
  {
   "cell_type": "code",
   "execution_count": null,
   "metadata": {},
   "outputs": [],
   "source": [
    "# [10,5,15,null,null,6,20]\n",
    "root=TreeNode(10)\n",
    "root.left=TreeNode(5)\n",
    "root.right=TreeNode(15)\n",
    "root.right.left=TreeNode(6)\n",
    "root.right.right=TreeNode(20)\n",
    "\n",
    "printLevelOrder(root)\n",
    "isValidBST(root)\n",
    "#False\n",
    "\n",
    "# # Example 2:\n",
    "#     10\n",
    "#    /  \\\n",
    "#   5    15\n",
    "#       /  \\\n",
    "#      6    20"
   ]
  },
  {
   "cell_type": "markdown",
   "metadata": {},
   "source": [
    "# Print BST"
   ]
  },
  {
   "cell_type": "code",
   "execution_count": null,
   "metadata": {},
   "outputs": [],
   "source": [
    "# Function to  print level order traversal of tree \n",
    "def printLevelOrder(root): \n",
    "    h = height(root) \n",
    "    for i in range(1, h+1): \n",
    "        printGivenLevel(root, i) \n",
    "  \n",
    "# Print nodes at a given level \n",
    "def printGivenLevel(root , level): \n",
    "    if root is None:\n",
    "        print('Null', end=\" \")\n",
    "        return\n",
    "    if level == 1: \n",
    "        print (\"%d\" %(root.val), end=\" \") \n",
    "    elif level > 1 : \n",
    "        printGivenLevel(root.left , level-1) \n",
    "        printGivenLevel(root.right , level-1) \n",
    "\n",
    "def height(node): \n",
    "    if node is None: \n",
    "        return 0 \n",
    "    else : \n",
    "        # Compute the height of each subtree  \n",
    "        lheight = height(node.left) \n",
    "        rheight = height(node.right) \n",
    "  \n",
    "        #Use the larger one \n",
    "        if lheight > rheight : \n",
    "            return lheight+1\n",
    "        else: \n",
    "            return rheight+1"
   ]
  }
 ],
 "metadata": {
  "kernelspec": {
   "display_name": "Python 3",
   "language": "python",
   "name": "python3"
  },
  "language_info": {
   "codemirror_mode": {
    "name": "ipython",
    "version": 3
   },
   "file_extension": ".py",
   "mimetype": "text/x-python",
   "name": "python",
   "nbconvert_exporter": "python",
   "pygments_lexer": "ipython3",
   "version": "3.8.2-final"
  }
 },
 "nbformat": 4,
 "nbformat_minor": 2
}