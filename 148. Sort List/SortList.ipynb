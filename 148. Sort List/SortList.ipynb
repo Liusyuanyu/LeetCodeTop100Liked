{
 "cells": [
  {
   "cell_type": "markdown",
   "metadata": {},
   "source": [
    "# Problem"
   ]
  },
  {
   "cell_type": "code",
   "execution_count": null,
   "metadata": {},
   "outputs": [],
   "source": [
    "Sort a linked list in O(n log n) time using constant space complexity."
   ]
  },
  {
   "cell_type": "code",
   "execution_count": null,
   "metadata": {},
   "outputs": [],
   "source": [
    "# Definition for singly-linked list.\n",
    "# class ListNode:\n",
    "#     def __init__(self, val=0, next=None):\n",
    "#         self.val = val\n",
    "#         self.next = next\n",
    "class Solution:\n",
    "    def sortList(self, head: ListNode) -> ListNode:\n",
    "        "
   ]
  },
  {
   "cell_type": "markdown",
   "metadata": {},
   "source": [
    "# Examples"
   ]
  },
  {
   "cell_type": "code",
   "execution_count": null,
   "metadata": {},
   "outputs": [],
   "source": [
    "Example 1:\n",
    "Input: 4->2->1->3\n",
    "Output: 1->2->3->4\n",
    "\n",
    "Example 2:\n",
    "Input: -1->5->3->4->0\n",
    "Output: -1->0->3->4->5"
   ]
  },
  {
   "cell_type": "code",
   "execution_count": null,
   "metadata": {},
   "outputs": [],
   "source": [
    "class ListNode:\n",
    "    def __init__(self, val=0, next=None):\n",
    "        self.val = val\n",
    "        self.next = next"
   ]
  },
  {
   "cell_type": "markdown",
   "metadata": {},
   "source": [
    "# My Algorithm"
   ]
  },
  {
   "cell_type": "code",
   "execution_count": null,
   "metadata": {},
   "outputs": [],
   "source": [
    "def sortList(head: ListNode) -> ListNode:\n",
    "    def mergeTwoList(leftNode, rightNode):\n",
    "        newHead = ListNode(None)\n",
    "        cursorNode = newHead\n",
    "        while(leftNode and rightNode):\n",
    "            if leftNode.val > rightNode.val:\n",
    "                cursorNode.next = rightNode\n",
    "                cursorNode = rightNode\n",
    "                rightNode = rightNode.next\n",
    "            else:\n",
    "                cursorNode.next = leftNode\n",
    "                cursorNode = leftNode\n",
    "                leftNode = leftNode.next\n",
    "        if leftNode:\n",
    "            cursorNode.next = leftNode\n",
    "        elif rightNode:\n",
    "            cursorNode.next = rightNode\n",
    "        return newHead.next\n",
    "\n",
    "    def sortNodes(node):\n",
    "        if not node or not node.next:\n",
    "            return node\n",
    "        slowNode = node\n",
    "        fastNode =node.next\n",
    "        while(fastNode and fastNode.next):\n",
    "            fastNode = fastNode.next.next\n",
    "            slowNode = slowNode.next\n",
    "        rightHead = slowNode.next\n",
    "        slowNode.next = None\n",
    "        return mergeTwoList(sortNodes(node), sortNodes(rightHead))\n",
    "    return sortNodes(head)"
   ]
  },
  {
   "cell_type": "markdown",
   "metadata": {},
   "source": [
    "# Alternative algorithms"
   ]
  },
  {
   "cell_type": "code",
   "execution_count": null,
   "metadata": {},
   "outputs": [],
   "source": [
    "def sortList(head: ListNode) -> ListNode:\n",
    "    if not head or not head.next:\n",
    "        return head\n",
    "    nodelist = []\n",
    "    while(head):\n",
    "        nodelist.append(head.val)\n",
    "        head = head.next\n",
    "    nodelist.sort()\n",
    "    newHead =ListNode(None)\n",
    "    cursor =newHead\n",
    "    for nodeVal in nodelist:\n",
    "        cursor.next = ListNode(nodeVal) \n",
    "        cursor = cursor.next\n",
    "    cursor.next = None\n",
    "    return newHead.next\n"
   ]
  },
  {
   "cell_type": "code",
   "execution_count": null,
   "metadata": {},
   "outputs": [],
   "source": [
    "def sortList(head: ListNode) -> ListNode:\n",
    "    if not head or not head.next:\n",
    "        return head\n",
    "    nodelist = []\n",
    "    cursor = head\n",
    "    while(cursor):\n",
    "        nodelist.append(cursor.val)\n",
    "        cursor = cursor.next\n",
    "    nodelist.sort()\n",
    "    cursor = head\n",
    "    count=0\n",
    "    while cursor:\n",
    "        cursor.val = nodelist[count] \n",
    "        cursor = cursor.next\n",
    "        count+=1\n",
    "    return head\n"
   ]
  },
  {
   "cell_type": "markdown",
   "metadata": {},
   "source": [
    "# Sample Input and Test"
   ]
  },
  {
   "cell_type": "code",
   "execution_count": null,
   "metadata": {
    "tags": []
   },
   "outputs": [],
   "source": [
    "# Example 1:\n",
    "# Input: 4->2\n",
    "# Output: 4->2\n",
    "\n",
    "head = ListNode(2)\n",
    "head = ListNode(4, head)\n",
    "printListNode(head)\n",
    "\n",
    "sortedNode = sortList(head)\n",
    "printListNode(sortedNode)\n"
   ]
  },
  {
   "cell_type": "code",
   "execution_count": null,
   "metadata": {
    "tags": []
   },
   "outputs": [],
   "source": [
    "# Example 1:\n",
    "# Input: 4->2->1->3\n",
    "# Output: 1->2->3->4\n",
    "\n",
    "head = ListNode(3)\n",
    "head = ListNode(1, head)\n",
    "head = ListNode(2, head)\n",
    "head = ListNode(4, head)\n",
    "printListNode(head)\n",
    "\n",
    "sortedNode = sortList(head)\n",
    "printListNode(sortedNode)\n"
   ]
  },
  {
   "cell_type": "code",
   "execution_count": null,
   "metadata": {
    "tags": []
   },
   "outputs": [],
   "source": [
    "# Example 2:\n",
    "# Input: -1->5->3->4->0\n",
    "# Output: -1->0->3->4->5\n",
    "\n",
    "head = ListNode(0)\n",
    "head = ListNode(4, head)\n",
    "head = ListNode(3, head)\n",
    "head = ListNode(5, head)\n",
    "head = ListNode(-1, head)\n",
    "printListNode(head)\n",
    "\n",
    "sortedNode = sortList(head)\n",
    "printListNode(sortedNode)\n",
    "\n"
   ]
  },
  {
   "cell_type": "code",
   "execution_count": null,
   "metadata": {},
   "outputs": [],
   "source": [
    "sortList([])\n"
   ]
  },
  {
   "cell_type": "markdown",
   "metadata": {},
   "source": [
    "# Print List Node"
   ]
  },
  {
   "cell_type": "code",
   "execution_count": null,
   "metadata": {},
   "outputs": [],
   "source": [
    "def printListNode(node):\n",
    "    if not node:\n",
    "        print('None')\n",
    "    else:\n",
    "        print(node.val, end=' -> ')\n",
    "        printListNode(node.next)\n"
   ]
  }
 ],
 "metadata": {
  "kernelspec": {
   "display_name": "Python 3.8.2 64-bit",
   "language": "python",
   "name": "python38264bit579c7998837c475ba0e81c984a932003"
  },
  "language_info": {
   "codemirror_mode": {
    "name": "ipython",
    "version": 3
   },
   "file_extension": ".py",
   "mimetype": "text/x-python",
   "name": "python",
   "nbconvert_exporter": "python",
   "pygments_lexer": "ipython3",
   "version": "3.8.2-final"
  }
 },
 "nbformat": 4,
 "nbformat_minor": 2
}