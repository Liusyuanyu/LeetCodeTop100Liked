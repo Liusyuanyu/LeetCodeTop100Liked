{
 "cells": [
  {
   "cell_type": "markdown",
   "metadata": {},
   "source": [
    "# Problem"
   ]
  },
  {
   "cell_type": "code",
   "execution_count": null,
   "metadata": {},
   "outputs": [],
   "source": [
    "Given an encoded string, return its decoded string.\n",
    "The encoding rule is: k[encoded_string], where the encoded_string inside the square brackets is being repeated exactly k times. Note that k is guaranteed to be a positive integer.\n",
    "You may assume that the input string is always valid; No extra white spaces, square brackets are well-formed, etc.\n",
    "Furthermore, you may assume that the original data does not contain any digits and that digits are only for those repeat numbers, k. For example, there won't be input like 3a or 2[4]."
   ]
  },
  {
   "cell_type": "code",
   "execution_count": null,
   "metadata": {},
   "outputs": [],
   "source": [
    "class Solution:\n",
    "    def decodeString(self, s: str) -> str:\n",
    "        "
   ]
  },
  {
   "cell_type": "markdown",
   "metadata": {},
   "source": [
    "# Examples"
   ]
  },
  {
   "cell_type": "code",
   "execution_count": null,
   "metadata": {},
   "outputs": [],
   "source": [
    "# Example 1:\n",
    "Input: s = \"3[a]2[bc]\"\n",
    "Output: \"aaabcbc\"\n",
    "\n",
    "# Example 2:\n",
    "Input: s = \"3[a2[c]]\"\n",
    "Output: \"accaccacc\"\n",
    "\n",
    "# Example 3:\n",
    "Input: s = \"2[abc]3[cd]ef\"\n",
    "Output: \"abcabccdcdcdef\"\n",
    "\n",
    "# Example 4:\n",
    "Input: s = \"abc3[cd]xyz\"\n",
    "Output: \"abccdcdcdxyz\""
   ]
  },
  {
   "cell_type": "markdown",
   "metadata": {},
   "source": [
    "# My Algorithms"
   ]
  },
  {
   "cell_type": "code",
   "execution_count": null,
   "metadata": {},
   "outputs": [],
   "source": [
    "def decodeString(s: str) -> str:\n",
    "    alphabet = 'abcdefghijklmnopqrstuvwxyzABCDEFGHIJKLMNOPQRSTUVWXYZ'\n",
    "    curStr=''\n",
    "    idx =0\n",
    "    while(idx < len(s)):\n",
    "        if s[idx] in alphabet:\n",
    "            curStr +=s[idx]\n",
    "            idx+=1\n",
    "        else:\n",
    "            digit = ''\n",
    "            while(s[idx]!='['):\n",
    "                digit+=s[idx]\n",
    "                idx +=1\n",
    "            digit= int(digit)\n",
    "            \n",
    "            opendNum = 1\n",
    "            start = idx+1\n",
    "            while(opendNum!=0):\n",
    "                idx+=1\n",
    "                if s[idx]=='[':\n",
    "                    opendNum+=1\n",
    "                elif s[idx]==']':\n",
    "                    opendNum-=1\n",
    "            curStr +=decodeString(s[start:idx])*digit\n",
    "            idx+=1\n",
    "    return curStr\n"
   ]
  },
  {
   "cell_type": "code",
   "execution_count": null,
   "metadata": {},
   "outputs": [],
   "source": [
    "def decodeString(s: str) -> str:\n",
    "    curStr=''\n",
    "    idx =0\n",
    "    while(idx < len(s)):\n",
    "        if s[idx].isalpha():\n",
    "            curStr +=s[idx]\n",
    "            idx+=1\n",
    "        else:\n",
    "            end = idx+1\n",
    "            while(s[end]!='['):\n",
    "                end +=1\n",
    "            digit= int(s[idx:end])\n",
    "            idx= end\n",
    "            opendNum = 1\n",
    "            start = idx+1\n",
    "            while(opendNum!=0):\n",
    "                idx+=1\n",
    "                if s[idx]=='[':\n",
    "                    opendNum+=1\n",
    "                elif s[idx]==']':\n",
    "                    opendNum-=1\n",
    "            curStr +=decodeString(s[start:idx])*digit\n",
    "            idx+=1\n",
    "    return curStr\n"
   ]
  },
  {
   "cell_type": "markdown",
   "metadata": {},
   "source": [
    "# Alternative algorithms"
   ]
  },
  {
   "cell_type": "code",
   "execution_count": null,
   "metadata": {},
   "outputs": [],
   "source": []
  },
  {
   "cell_type": "markdown",
   "metadata": {},
   "source": [
    "# Sample Input and Test"
   ]
  },
  {
   "cell_type": "code",
   "execution_count": null,
   "metadata": {
    "tags": []
   },
   "outputs": [],
   "source": [
    "# decodeString('3[2[ac]d]')\n",
    "# decodeString('3[2[a]d]')\n",
    "# decodeString('3[2[ac]]')\n",
    "# decodeString('3[a]')\n",
    "\n",
    "decodeString(\"3[a]2[b4[F]c]\")"
   ]
  },
  {
   "cell_type": "code",
   "execution_count": null,
   "metadata": {
    "tags": []
   },
   "outputs": [],
   "source": [
    "s = \"3[a]2[bc]\"\n",
    "# Output: \"aaabcbc\"\n",
    "decodeString(s)\n",
    "\n",
    "s = \"3[a2[c]]\"\n",
    "# Output: \"accaccacc\"\n",
    "decodeString(s)\n",
    "\n",
    "# s = \"2[abc]3[cd]ef\"\n",
    "# Output= \"abcabccdcdcdef\"\n",
    "# print(Output)\n",
    "# decodeString(s)\n",
    "\n",
    "s = \"abc3[cd]xyz\"\n",
    "Output= \"abccdcdcdxyz\"\n",
    "print(Output)\n",
    "decodeString(s)\n",
    "\n"
   ]
  }
 ],
 "metadata": {
  "kernelspec": {
   "display_name": "Python 3.8.2 64-bit",
   "language": "python",
   "name": "python38264bit579c7998837c475ba0e81c984a932003"
  },
  "language_info": {
   "codemirror_mode": {
    "name": "ipython",
    "version": 3
   },
   "file_extension": ".py",
   "mimetype": "text/x-python",
   "name": "python",
   "nbconvert_exporter": "python",
   "pygments_lexer": "ipython3",
   "version": "3.8.2-final"
  }
 },
 "nbformat": 4,
 "nbformat_minor": 2
}