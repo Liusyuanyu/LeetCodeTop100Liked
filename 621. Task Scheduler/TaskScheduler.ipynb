{
 "cells": [
  {
   "cell_type": "markdown",
   "metadata": {},
   "source": [
    "# Problem"
   ]
  },
  {
   "cell_type": "code",
   "execution_count": null,
   "metadata": {},
   "outputs": [],
   "source": [
    "You are given a char array representing tasks CPU need to do. It contains capital letters A to Z where each letter represents a different task. Tasks could be done without the original order of the array. Each task is done in one unit of time. For each unit of time, the CPU could complete either one task or just be idle.\n",
    "However, there is a non-negative integer n that represents the cooldown period between two same tasks (the same letter in the array), that is that there must be at least n units of time between any two same tasks.\n",
    "You need to return the least number of units of times that the CPU will take to finish all the given tasks."
   ]
  },
  {
   "cell_type": "code",
   "execution_count": null,
   "metadata": {},
   "outputs": [],
   "source": [
    "class Solution:\n",
    "    def leastInterval(self, tasks: List[str], n: int) -> int:\n",
    "        "
   ]
  },
  {
   "cell_type": "markdown",
   "metadata": {},
   "source": [
    "# Examples"
   ]
  },
  {
   "cell_type": "code",
   "execution_count": null,
   "metadata": {},
   "outputs": [],
   "source": [
    "# Example 1:\n",
    "Input: tasks = [\"A\",\"A\",\"A\",\"B\",\"B\",\"B\"], n = 2\n",
    "Output: 8\n",
    "Explanation: \n",
    "A -> B -> idle -> A -> B -> idle -> A -> B\n",
    "There is at least 2 units of time between any two same tasks.\n",
    "\n",
    "\n",
    "# Example 2:\n",
    "Input: tasks = [\"A\",\"A\",\"A\",\"B\",\"B\",\"B\"], n = 0\n",
    "Output: 6\n",
    "Explanation: On this case any permutation of size 6 would work since n = 0.\n",
    "[\"A\",\"A\",\"A\",\"B\",\"B\",\"B\"]\n",
    "[\"A\",\"B\",\"A\",\"B\",\"A\",\"B\"]\n",
    "[\"B\",\"B\",\"B\",\"A\",\"A\",\"A\"]\n",
    "...\n",
    "And so on.\n",
    "\n",
    "# Example 3:\n",
    "Input: tasks = [\"A\",\"A\",\"A\",\"A\",\"A\",\"A\",\"B\",\"C\",\"D\",\"E\",\"F\",\"G\"], n = 2\n",
    "Output: 16\n",
    "Explanation: \n",
    "One possible solution is\n",
    "A -> B -> C -> A -> D -> E -> A -> F -> G -> A -> idle -> idle -> A -> idle -> idle -> A"
   ]
  },
  {
   "cell_type": "markdown",
   "metadata": {},
   "source": [
    "# My Algorithms"
   ]
  },
  {
   "cell_type": "code",
   "execution_count": null,
   "metadata": {},
   "outputs": [],
   "source": []
  },
  {
   "cell_type": "markdown",
   "metadata": {},
   "source": [
    "# Alternative algorithms"
   ]
  },
  {
   "cell_type": "code",
   "execution_count": null,
   "metadata": {},
   "outputs": [],
   "source": [
    "from collections import Counter\n",
    "\n",
    "def leastInterval(tasks: [str], n: int) -> int:\n",
    "    counter = Counter(tasks)\n",
    "    maxFreq = counter.most_common(1)[0][1]\n",
    "    logicNum = (maxFreq-1)*(n+1)\n",
    "    sameFreq = 0\n",
    "    for freq in counter.most_common():\n",
    "        if maxFreq==freq[1]:\n",
    "            sameFreq+=1\n",
    "    return max(logicNum+sameFreq, len(tasks))"
   ]
  },
  {
   "cell_type": "code",
   "execution_count": null,
   "metadata": {},
   "outputs": [],
   "source": [
    "from collections import Counter\n",
    "\n",
    "def leastInterval(tasks: [str], n: int) -> int:\n",
    "    counter = Counter(tasks)\n",
    "    maxFreq,sameFreq =0,0\n",
    "    for freq in counter:\n",
    "        if maxFreq<counter[freq]:\n",
    "            maxFreq=counter[freq]\n",
    "            sameFreq=1\n",
    "        elif maxFreq==counter[freq]:\n",
    "            sameFreq+=1\n",
    "    return max((maxFreq-1)*(n+1)+sameFreq, len(tasks))"
   ]
  },
  {
   "cell_type": "markdown",
   "metadata": {},
   "source": [
    "# Sample Input and Test"
   ]
  },
  {
   "cell_type": "code",
   "execution_count": null,
   "metadata": {
    "tags": []
   },
   "outputs": [],
   "source": [
    "tasks = [\"A\",\"A\",\"A\",\"B\",\"B\",\"B\"]\n",
    "n = 2\n",
    "# Output: 8\n",
    "leastInterval(tasks,n)\n"
   ]
  },
  {
   "cell_type": "code",
   "execution_count": null,
   "metadata": {
    "tags": []
   },
   "outputs": [],
   "source": [
    "tasks = [\"A\",\"A\",\"A\",\"B\",\"B\",\"B\"]\n",
    "n = 0\n",
    "# Output: 6\n",
    "leastInterval(tasks,n)\n",
    "\n",
    "\n",
    "# tasks = [\"A\",\"A\",\"A\",\"A\",\"A\",\"A\",\"B\",\"C\",\"D\",\"E\",\"F\",\"G\"]\n",
    "# n = 2\n",
    "# # Output: 16\n",
    "# leastInterval(tasks,n)\n",
    "\n"
   ]
  }
 ],
 "metadata": {
  "kernelspec": {
   "display_name": "Python 3.8.2 64-bit",
   "language": "python",
   "name": "python38264bit579c7998837c475ba0e81c984a932003"
  },
  "language_info": {
   "codemirror_mode": {
    "name": "ipython",
    "version": 3
   },
   "file_extension": ".py",
   "mimetype": "text/x-python",
   "name": "python",
   "nbconvert_exporter": "python",
   "pygments_lexer": "ipython3",
   "version": "3.8.2-final"
  }
 },
 "nbformat": 4,
 "nbformat_minor": 2
}