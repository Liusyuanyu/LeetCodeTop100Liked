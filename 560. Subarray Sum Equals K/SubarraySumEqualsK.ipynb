{
 "cells": [
  {
   "cell_type": "markdown",
   "metadata": {},
   "source": [
    "# Problem"
   ]
  },
  {
   "cell_type": "code",
   "execution_count": null,
   "metadata": {},
   "outputs": [],
   "source": [
    "Given an array of integers and an integer k, you need to find the total number of continuous subarrays whose sum equals to k."
   ]
  },
  {
   "cell_type": "code",
   "execution_count": null,
   "metadata": {},
   "outputs": [],
   "source": [
    "class Solution:\n",
    "    def subarraySum(self, nums: List[int], k: int) -> int:\n",
    "        "
   ]
  },
  {
   "cell_type": "markdown",
   "metadata": {},
   "source": [
    "# Examples"
   ]
  },
  {
   "cell_type": "code",
   "execution_count": null,
   "metadata": {},
   "outputs": [],
   "source": [
    "# Example 1:\n",
    "Input:nums = [1,1,1], k = 2\n",
    "Output: 2"
   ]
  },
  {
   "cell_type": "markdown",
   "metadata": {},
   "source": [
    "# My Algorithms"
   ]
  },
  {
   "cell_type": "code",
   "execution_count": null,
   "metadata": {},
   "outputs": [],
   "source": [
    "###########################\n",
    "###     Wrong Answer    ###\n",
    "###########################\n",
    "\n",
    "def subarraySum(nums: [int], k: int) -> int:\n",
    "    if not nums:\n",
    "        return 0\n",
    "    curSum=0\n",
    "    start = 0\n",
    "    ans=0\n",
    "    for idx in range(len(nums)):\n",
    "        curSum+=nums[idx]\n",
    "        if curSum==k:\n",
    "            ans+=1\n",
    "        elif curSum>k:\n",
    "            while(start < idx and curSum > k):\n",
    "                curSum-=nums[start]\n",
    "                start+=1\n",
    "            if curSum==k:\n",
    "                ans+=1\n",
    "    return ans\n"
   ]
  },
  {
   "cell_type": "code",
   "execution_count": null,
   "metadata": {},
   "outputs": [],
   "source": [
    "################################\n",
    "###     Time Limit Exceed    ###\n",
    "################################\n",
    "\n",
    "def subarraySum(nums: [int], k: int) :\n",
    "    # if not nums:\n",
    "    #     return 0\n",
    "    ans = 0\n",
    "    length = len(nums)\n",
    "    dp=[[0]*length for _ in range(length)]\n",
    "\n",
    "    for start in range(length):\n",
    "        for end in range(start, length):\n",
    "            if start == end:\n",
    "                dp[start][end]=nums[start]\n",
    "            elif start==0:\n",
    "                dp[0][end]=dp[0][end-1]+nums[end]\n",
    "            elif start<end:\n",
    "                dp[start][end]= dp[0][end]-dp[0][start-1]\n",
    "            if dp[start][end]==k:\n",
    "                ans+=1\n",
    "    return ans\n",
    "\n",
    "\n"
   ]
  },
  {
   "cell_type": "code",
   "execution_count": null,
   "metadata": {},
   "outputs": [],
   "source": [
    "################################\n",
    "###     Time Limit Exceed    ###\n",
    "################################\n",
    "\n",
    "def subarraySum(nums: [int], k: int) :\n",
    "    ans = 0\n",
    "    length = len(nums)\n",
    "    scanNum =dict()\n",
    "    ans += nums.count(k)\n",
    "    scanNum[0]=nums[0]\n",
    "    for idx in range(1,length):\n",
    "        scanNum[idx]=nums[idx]+scanNum[idx-1]\n",
    "        if scanNum[idx]==k:\n",
    "            ans+=1\n",
    "\n",
    "    for start in range(1,length):\n",
    "        for end in range(start, length): \n",
    "            if start<end:\n",
    "                if  scanNum[end]-scanNum[start-1]==k:\n",
    "                    ans+=1\n",
    "    return ans\n"
   ]
  },
  {
   "cell_type": "code",
   "execution_count": null,
   "metadata": {},
   "outputs": [],
   "source": [
    "################################\n",
    "###     Time Limit Exceed    ###\n",
    "################################\n",
    "def subarraySum(nums: [int], k: int) :\n",
    "    length = len(nums)\n",
    "    scanNum =dict()\n",
    "    scanNum[0]=nums[0]\n",
    "    if nums[0]==k:\n",
    "        ans = 1\n",
    "    else:\n",
    "        ans=0\n",
    "\n",
    "    for idx in range(1,length):\n",
    "        scanNum[idx]=nums[idx]+scanNum[idx-1]\n",
    "        if scanNum[idx]==k:\n",
    "            ans+=1\n",
    "\n",
    "    for start in range(1,length):\n",
    "        for end in range(start, length): \n",
    "            if start<=end:\n",
    "                if  scanNum[end]-scanNum[start-1]==k:\n",
    "                    ans+=1\n",
    "    return ans\n"
   ]
  },
  {
   "cell_type": "code",
   "execution_count": null,
   "metadata": {},
   "outputs": [],
   "source": [
    "# class Solution:\n",
    "#     def twoSum(self, nums: List[int], target: int) -> List[int]:\n",
    "#         scannedNums = {}\n",
    "#         for ind in range(len(nums)):\n",
    "#             diff = target - nums[ind]\n",
    "#             if diff in scannedNums:\n",
    "#                 return [scannedNums[diff],ind]\n",
    "#             else:\n",
    "#                 scannedNums[nums[ind]]=ind"
   ]
  },
  {
   "cell_type": "markdown",
   "metadata": {},
   "source": [
    "# Alternative algorithms"
   ]
  },
  {
   "cell_type": "code",
   "execution_count": null,
   "metadata": {},
   "outputs": [],
   "source": [
    "def subarraySum(nums: [int], k: int) :\n",
    "    scanNum={0:1}\n",
    "    ans=0\n",
    "    cur_sum = 0\n",
    "    for num in nums:\n",
    "        cur_sum += num\n",
    "        if (cur_sum-k) in scanNum:\n",
    "            ans +=scanNum[cur_sum-k]\n",
    "        if cur_sum in scanNum:\n",
    "            scanNum[cur_sum]+=1\n",
    "        else:\n",
    "            scanNum[cur_sum]=1\n",
    "    return ans\n"
   ]
  },
  {
   "cell_type": "markdown",
   "metadata": {},
   "source": [
    "# Sample Input and Test"
   ]
  },
  {
   "cell_type": "code",
   "execution_count": null,
   "metadata": {
    "tags": []
   },
   "outputs": [],
   "source": [
    "nums = [-1,-1,1]\n",
    "k = 0\n",
    "# Output: 1\n",
    "subarraySum(nums,k)\n"
   ]
  },
  {
   "cell_type": "code",
   "execution_count": null,
   "metadata": {
    "tags": []
   },
   "outputs": [],
   "source": [
    "# nums = [1,1,1]\n",
    "# k = 2\n",
    "# # Output: 2\n",
    "# subarraySum(nums,k)\n",
    "\n",
    "nums = [0]\n",
    "k = 2\n",
    "# Output: 0\n",
    "subarraySum(nums,k)\n",
    "\n",
    "# nums = [1,1,1]\n",
    "# k = 1\n",
    "# # Output: 3\n",
    "# subarraySum(nums,k)\n"
   ]
  },
  {
   "cell_type": "code",
   "execution_count": null,
   "metadata": {
    "tags": []
   },
   "outputs": [],
   "source": [
    "nums = [1,4,3,5]\n",
    "k = 2\n",
    "# Output: 0\n",
    "subarraySum(nums,k)\n",
    "\n",
    "nums = [1, 4, 3, 1, 5]\n",
    "k = 8\n",
    "# Output: 2\n",
    "subarraySum(nums,k)\n"
   ]
  },
  {
   "cell_type": "markdown",
   "metadata": {},
   "source": [
    "# print Matrix"
   ]
  },
  {
   "cell_type": "code",
   "execution_count": null,
   "metadata": {},
   "outputs": [],
   "source": [
    "def printMat(matrix):\n",
    "    for vector in matrix:\n",
    "        print(vector)"
   ]
  }
 ],
 "metadata": {
  "kernelspec": {
   "display_name": "Python 3.8.2 64-bit",
   "language": "python",
   "name": "python38264bit579c7998837c475ba0e81c984a932003"
  },
  "language_info": {
   "codemirror_mode": {
    "name": "ipython",
    "version": 3
   },
   "file_extension": ".py",
   "mimetype": "text/x-python",
   "name": "python",
   "nbconvert_exporter": "python",
   "pygments_lexer": "ipython3",
   "version": "3.8.2-final"
  }
 },
 "nbformat": 4,
 "nbformat_minor": 2
}