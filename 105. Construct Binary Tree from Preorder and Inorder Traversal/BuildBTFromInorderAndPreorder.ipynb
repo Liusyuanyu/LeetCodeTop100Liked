{
 "cells": [
  {
   "cell_type": "markdown",
   "metadata": {},
   "source": [
    "# Problem"
   ]
  },
  {
   "cell_type": "markdown",
   "metadata": {},
   "source": [
    "Given preorder and inorder traversal of a tree, construct the binary tree."
   ]
  },
  {
   "cell_type": "code",
   "execution_count": null,
   "metadata": {},
   "outputs": [],
   "source": [
    "# Definition for a binary tree node.\n",
    "# class TreeNode:\n",
    "#     def __init__(self, val=0, left=None, right=None):\n",
    "#         self.val = val\n",
    "#         self.left = left\n",
    "#         self.right = right\n",
    "class Solution:\n",
    "    def buildTree(self, preorder: List[int], inorder: List[int]) -> TreeNode:\n",
    "        "
   ]
  },
  {
   "cell_type": "markdown",
   "metadata": {},
   "source": [
    "# Examples"
   ]
  },
  {
   "cell_type": "code",
   "execution_count": null,
   "metadata": {},
   "outputs": [],
   "source": [
    "For example, given\n",
    "preorder = [3,9,20,15,7]\n",
    "inorder = [9,3,15,20,7]\n",
    "Return the following binary tree:\n",
    "    3\n",
    "   / \\\n",
    "  9  20\n",
    "    /  \\\n",
    "   15   7\n",
    "\n",
    "\n",
    "# Example:\n",
    "[1,2,3]\n",
    "[3,2,1]\n",
    "\n",
    "output=\n",
    "    1\n",
    "   / \\\n",
    "  2   3\n",
    "\n",
    "# Example:\n",
    "[3, 1, 2,4]\n",
    "[1,2,3,4]\n",
    "\n",
    "# output= [3,1,4,null,2]\n",
    "\n"
   ]
  },
  {
   "cell_type": "code",
   "execution_count": null,
   "metadata": {},
   "outputs": [],
   "source": [
    "class TreeNode:\n",
    "    def __init__(self, val=0, left=None, right=None):\n",
    "        self.val = val\n",
    "        self.left = left\n",
    "        self.right = right\n"
   ]
  },
  {
   "cell_type": "markdown",
   "metadata": {},
   "source": [
    "# My Algorithm"
   ]
  },
  {
   "cell_type": "code",
   "execution_count": null,
   "metadata": {},
   "outputs": [],
   "source": [
    "def buildTree(preorder: [int], inorder: [int]) -> TreeNode:\n",
    "    if not preorder:\n",
    "        return None\n",
    "    if len(preorder)==1:\n",
    "        return TreeNode(preorder[0])\n",
    "    root = TreeNode(preorder[0])\n",
    "    left_len = inorder.index(preorder[0])\n",
    "\n",
    "    root.left  = buildTree(preorder[1:1+left_len],inorder[:left_len])\n",
    "    root.right  = buildTree(preorder[1+left_len:],inorder[left_len+1:])\n",
    "    return root"
   ]
  },
  {
   "cell_type": "markdown",
   "metadata": {},
   "source": [
    "# Alternative algorithms"
   ]
  },
  {
   "cell_type": "code",
   "execution_count": null,
   "metadata": {},
   "outputs": [],
   "source": [
    "def buildTree(preorder: [int], inorder: [int]) -> TreeNode:\n",
    "    if not preorder:\n",
    "        return None\n",
    "    length = len(preorder)\n",
    "    def buildBTHelper(pre_start, pre_end, in_start, in_end):\n",
    "        if pre_end == pre_start:\n",
    "            return None\n",
    "        if pre_end == pre_start+1:\n",
    "            return TreeNode(preorder[pre_start])\n",
    "        root = TreeNode(preorder[pre_start])\n",
    "        left_len = inorder.index(preorder[pre_start])-in_start\n",
    "        root.left  = buildBTHelper(pre_start+1, pre_start+1+left_len, in_start,in_start+left_len)\n",
    "        root.right  = buildBTHelper(pre_start+1+left_len, pre_end,in_start+left_len+1,in_end)\n",
    "        return root\n",
    "    return buildBTHelper(0,length, 0,length)"
   ]
  },
  {
   "cell_type": "code",
   "execution_count": null,
   "metadata": {},
   "outputs": [],
   "source": [
    "def buildTree(preorder: [int], inorder: [int]) -> TreeNode:\n",
    "    if not preorder:\n",
    "        return None\n",
    "\n",
    "    inorder_dict = {}\n",
    "    for idx, val in enumerate(inorder):\n",
    "        inorder_dict[val] = idx\n",
    "        \n",
    "    def buildBTHelper(preIdx, in_left, in_right):\n",
    "        if in_left > in_right:\n",
    "            return None\n",
    "        \n",
    "        nodeVal = preorder[preIdx]\n",
    "        root = TreeNode(nodeVal)\n",
    "        left_len = inorder_dict[nodeVal] - in_left\n",
    "        root.left = buildBTHelper(preIdx + 1, in_left, inorder_dict[nodeVal] - 1)\n",
    "        root.right = buildBTHelper(preIdx + left_len + 1, inorder_dict[nodeVal] + 1, in_right)\n",
    "        return root\n",
    "    return buildBTHelper(0, 0, idx)\n"
   ]
  },
  {
   "cell_type": "code",
   "execution_count": null,
   "metadata": {},
   "outputs": [],
   "source": [
    "def buildTree(preorder: [int], inorder: [int]) -> TreeNode:\n",
    "    inorder_dict = {}\n",
    "    length = len(inorder)\n",
    "    for idx in range(length):\n",
    "        inorder_dict[inorder[idx]] = idx\n",
    "\n",
    "    def buildBTHelper(preIdx, in_left, in_right):\n",
    "        if in_left > in_right:\n",
    "            return None\n",
    "        nodeVal = preorder[preIdx]\n",
    "        root = TreeNode(nodeVal)\n",
    "        left_len = inorder_dict[nodeVal] - in_left\n",
    "        root.left = buildBTHelper(preIdx + 1, in_left, inorder_dict[nodeVal] - 1)\n",
    "        root.right = buildBTHelper(preIdx + left_len + 1, inorder_dict[nodeVal] + 1, in_right)\n",
    "        return root\n",
    "    return buildBTHelper(0, 0, length-1)\n"
   ]
  },
  {
   "cell_type": "code",
   "execution_count": null,
   "metadata": {},
   "outputs": [],
   "source": [
    "preorder = [3,9,20,15,7]\n",
    "inorder = [9,3,15,20,7]\n",
    "#     3\n",
    "#    / \\\n",
    "#   9  20\n",
    "#     /  \\\n",
    "#    15   7\n",
    "root = buildTree(preorder, inorder)\n",
    "printLevelOrder(root)\n"
   ]
  },
  {
   "cell_type": "code",
   "execution_count": null,
   "metadata": {},
   "outputs": [],
   "source": [
    "# preorder = [3,9,20]\n",
    "preorder = [9, 3,20]\n",
    "inorder = [3, 9,20]\n",
    "#     3\n",
    "root = buildTree(preorder, inorder)\n",
    "printLevelOrder(root)\n"
   ]
  },
  {
   "cell_type": "code",
   "execution_count": null,
   "metadata": {},
   "outputs": [],
   "source": [
    "preorder = [3]\n",
    "inorder = [3]\n",
    "#     3\n",
    "root = buildTree(preorder, inorder)\n",
    "printLevelOrder(root)\n"
   ]
  },
  {
   "cell_type": "code",
   "execution_count": null,
   "metadata": {},
   "outputs": [],
   "source": [
    "preorder = [1, 2, 3]\n",
    "inorder = [3, 2, 1]\n",
    "#     1 2 null 3 \n",
    "root = buildTree(preorder, inorder)\n",
    "printLevelOrder(root)\n"
   ]
  },
  {
   "cell_type": "code",
   "execution_count": null,
   "metadata": {},
   "outputs": [],
   "source": [
    "preorder = []\n",
    "inorder = []\n",
    "root = buildTree(preorder, inorder)\n",
    "printLevelOrder(root)\n"
   ]
  },
  {
   "cell_type": "markdown",
   "metadata": {},
   "source": [
    "# Print BST"
   ]
  },
  {
   "cell_type": "code",
   "execution_count": null,
   "metadata": {},
   "outputs": [],
   "source": [
    "preorder = [1, 2, 3]\n",
    "inorder = [1, 2, 3]\n",
    "#  1 null 2 null null 3 \n",
    "root = buildTree(preorder, inorder)\n",
    "printLevelOrder(root)"
   ]
  },
  {
   "cell_type": "code",
   "execution_count": null,
   "metadata": {},
   "outputs": [],
   "source": [
    "preorder = [3, 1, 2,4]\n",
    "inorder = [1,2,3,4]\n",
    "#     [3,1,4,null,2]\n",
    "root = buildTree(preorder, inorder)\n",
    "printLevelOrder(root)\n"
   ]
  },
  {
   "cell_type": "code",
   "execution_count": null,
   "metadata": {},
   "outputs": [],
   "source": [
    "# Function to  print level order traversal of tree \n",
    "def printLevelOrder(root): \n",
    "    h = height(root) \n",
    "    for i in range(1, h+1): \n",
    "        printGivenLevel(root, i) \n",
    "  \n",
    "# Print nodes at a given level \n",
    "def printGivenLevel(root , level): \n",
    "    if root is None:\n",
    "        print('Null', end=\" \")\n",
    "        return\n",
    "    if level == 1: \n",
    "        print (\"%d\" %(root.val), end=\" \") \n",
    "    elif level > 1 : \n",
    "        printGivenLevel(root.left , level-1) \n",
    "        printGivenLevel(root.right , level-1) \n",
    "\n",
    "def height(node): \n",
    "    if node is None: \n",
    "        return 0 \n",
    "    else : \n",
    "        # Compute the height of each subtree  \n",
    "        lheight = height(node.left) \n",
    "        rheight = height(node.right) \n",
    "  \n",
    "        #Use the larger one \n",
    "        if lheight > rheight : \n",
    "            return lheight+1\n",
    "        else: \n",
    "            return rheight+1"
   ]
  }
 ],
 "metadata": {
  "kernelspec": {
   "display_name": "Python 3",
   "language": "python",
   "name": "python3"
  },
  "language_info": {
   "codemirror_mode": {
    "name": "ipython",
    "version": 3
   },
   "file_extension": ".py",
   "mimetype": "text/x-python",
   "name": "python",
   "nbconvert_exporter": "python",
   "pygments_lexer": "ipython3",
   "version": "3.8.2-final"
  }
 },
 "nbformat": 4,
 "nbformat_minor": 2
}