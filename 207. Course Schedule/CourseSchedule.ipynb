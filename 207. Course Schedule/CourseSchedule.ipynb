{
 "cells": [
  {
   "cell_type": "markdown",
   "metadata": {},
   "source": [
    "# Problem"
   ]
  },
  {
   "cell_type": "code",
   "execution_count": null,
   "metadata": {},
   "outputs": [],
   "source": [
    "There are a total of numCourses courses you have to take, labeled from 0 to numCourses-1.\n",
    "Some courses may have prerequisites, for example to take course 0 you have to first take course 1, which is expressed as a pair: [0,1]\n",
    "Given the total number of courses and a list of prerequisite pairs, is it possible for you to finish all courses?"
   ]
  },
  {
   "cell_type": "markdown",
   "metadata": {},
   "source": [
    "### Constraints:"
   ]
  },
  {
   "cell_type": "code",
   "execution_count": null,
   "metadata": {},
   "outputs": [],
   "source": [
    "The input prerequisites is a graph represented by a list of edges, not adjacency matrices. Read more about how a graph is represented.\n",
    "You may assume that there are no duplicate edges in the input prerequisites.\n",
    "1 <= numCourses <= 10^5"
   ]
  },
  {
   "cell_type": "code",
   "execution_count": null,
   "metadata": {},
   "outputs": [],
   "source": [
    "class Solution:\n",
    "    def canFinish(self, numCourses: int, prerequisites: List[List[int]]) -> bool:\n",
    "        "
   ]
  },
  {
   "cell_type": "markdown",
   "metadata": {},
   "source": [
    "# Examples"
   ]
  },
  {
   "cell_type": "code",
   "execution_count": null,
   "metadata": {},
   "outputs": [],
   "source": [
    "Example 1:\n",
    "Input: numCourses = 2, prerequisites = [[1,0]]\n",
    "Output: true\n",
    "Explanation: There are a total of 2 courses to take. \n",
    "             To take course 1 you should have finished course 0. So it is possible.\n",
    "             \n",
    "Example 2:\n",
    "Input: numCourses = 2, prerequisites = [[1,0],[0,1]]\n",
    "Output: false\n",
    "Explanation: There are a total of 2 courses to take. \n",
    "             To take course 1 you should have finished course 0, and to take course 0 you should\n",
    "             also have finished course 1. So it is impossible."
   ]
  },
  {
   "cell_type": "code",
   "execution_count": null,
   "metadata": {},
   "outputs": [],
   "source": [
    "class Solution:\n",
    "    def canFinish(self, numCourses: int, prerequisites: List[List[int]]) -> bool:\n",
    "        "
   ]
  },
  {
   "cell_type": "markdown",
   "metadata": {},
   "source": [
    "# My Algorithm"
   ]
  },
  {
   "cell_type": "code",
   "execution_count": null,
   "metadata": {},
   "outputs": [],
   "source": [
    "def canFinish(numCourses: int, prerequisites: [[int]]) -> bool:\n",
    "    vertexStatus=[None]*numCourses\n",
    "    def dfsCheck(vertex):\n",
    "        if vertexStatus[vertex[1]] is False:\n",
    "            return True\n",
    "        if vertexStatus[vertex[1]]:\n",
    "            return False\n",
    "\n",
    "        vertexStatus[vertex[1]]=True\n",
    "        neighbors =[ver for ver in prerequisites if ver[0]==vertex[1]]         \n",
    "        for ver in neighbors:\n",
    "            if not dfsCheck(ver):\n",
    "                return False\n",
    "        vertexStatus[vertex[1]]=False\n",
    "        return True\n",
    "\n",
    "    for course in range(numCourses):\n",
    "        ownEdge =[edge for edge in prerequisites if edge[1]==course]         \n",
    "        for edge in ownEdge:\n",
    "            if not dfsCheck(edge):\n",
    "                return False\n",
    "    return True\n"
   ]
  },
  {
   "cell_type": "code",
   "execution_count": null,
   "metadata": {},
   "outputs": [],
   "source": [
    "def canFinish(numCourses: int, prerequisites: [[int]]) -> bool:\n",
    "    vertexStatus=[None]*numCourses\n",
    "    neighbors = dict()\n",
    "    def dfsCheck(vertex):\n",
    "        if vertexStatus[vertex[0]] is False:\n",
    "            return True\n",
    "        if vertexStatus[vertex[0]]:\n",
    "            return False\n",
    "\n",
    "        vertexStatus[vertex[0]]=True\n",
    "        for ver in neighbors[vertex[0]]:\n",
    "            if not dfsCheck(ver):\n",
    "                return False\n",
    "        vertexStatus[vertex[0]]=False\n",
    "        return True\n",
    "    \n",
    "    for course in range(numCourses):\n",
    "        neighbors[course]=[]\n",
    "    for requisit in prerequisites:\n",
    "        neighbors[requisit[1]].append(requisit)\n",
    "\n",
    "    for course in range(numCourses):\n",
    "        for edge in neighbors[course]:\n",
    "            vertexStatus[edge[1]]=True\n",
    "            if not dfsCheck(edge):\n",
    "                return False\n",
    "            vertexStatus[edge[1]]=False\n",
    "    return True\n"
   ]
  },
  {
   "cell_type": "markdown",
   "metadata": {},
   "source": [
    "# Alternative algorithms"
   ]
  },
  {
   "cell_type": "code",
   "execution_count": null,
   "metadata": {},
   "outputs": [],
   "source": [
    "def canFinish(numCourses: int, prerequisites: [[int]]) -> bool:\n",
    "    vertexStatus=[None]*numCourses\n",
    "    neighbors= [[] for _ in range(numCourses)]\n",
    "\n",
    "    def dfsCheck(vertex):\n",
    "        if vertexStatus[vertex] is False:\n",
    "            return True\n",
    "        if vertexStatus[vertex]:\n",
    "            return False\n",
    "\n",
    "        vertexStatus[vertex]=True\n",
    "        for ver in neighbors[vertex]:\n",
    "            if not dfsCheck(ver):\n",
    "                return False\n",
    "        vertexStatus[vertex]=False\n",
    "        return True\n",
    "    \n",
    "    for requisit in prerequisites:\n",
    "        neighbors[requisit[1]].append(requisit[0])\n",
    "\n",
    "    for course in range(numCourses):\n",
    "        if not dfsCheck(course):\n",
    "            return False\n",
    "    return True\n"
   ]
  },
  {
   "cell_type": "markdown",
   "metadata": {},
   "source": [
    "# Using Indegree"
   ]
  },
  {
   "cell_type": "code",
   "execution_count": null,
   "metadata": {},
   "outputs": [],
   "source": [
    "def canFinish(numCourses: int, prerequisites: [[int]]) -> bool:\n",
    "    neighbors= [[] for _ in range(numCourses)]\n",
    "    degerees= [0 for _ in range(numCourses)]\n",
    "    counter = 0\n",
    "    for requisit in prerequisites:\n",
    "        neighbors[requisit[1]].append(requisit[0])\n",
    "        degerees[requisit[0]] +=1\n",
    "\n",
    "    zeroQueue = [ver for ver in range(numCourses) if degerees[ver]==0 ] \n",
    "    \n",
    "    while(zeroQueue):\n",
    "        vertex = zeroQueue.pop(0)\n",
    "        counter+=1\n",
    "        for neighbor in neighbors[vertex]:\n",
    "            degerees[neighbor]-=1\n",
    "            if degerees[neighbor]==0:\n",
    "                zeroQueue.append(neighbor)\n",
    "\n",
    "    return counter==numCourses\n"
   ]
  },
  {
   "cell_type": "markdown",
   "metadata": {},
   "source": [
    "# Sample Input and Test"
   ]
  },
  {
   "cell_type": "code",
   "execution_count": null,
   "metadata": {
    "tags": []
   },
   "outputs": [],
   "source": [
    "numCourses = 2\n",
    "prerequisites = [[1,0]]\n",
    "# Output: true\n",
    "canFinish(numCourses, prerequisites)"
   ]
  },
  {
   "cell_type": "code",
   "execution_count": null,
   "metadata": {
    "tags": []
   },
   "outputs": [],
   "source": [
    "numCourses = 2\n",
    "prerequisites = [[1,0],[0,1]]\n",
    "# Output: false\n",
    "canFinish(numCourses, prerequisites)\n",
    "\n"
   ]
  },
  {
   "cell_type": "code",
   "execution_count": null,
   "metadata": {
    "tags": []
   },
   "outputs": [],
   "source": [
    "numCourses = 3\n",
    "prerequisites = [[1,0],[2,0],[0,2]]\n",
    "# Output: false\n",
    "canFinish(numCourses, prerequisites)\n"
   ]
  },
  {
   "cell_type": "code",
   "execution_count": null,
   "metadata": {
    "tags": []
   },
   "outputs": [],
   "source": [
    "numCourses = 3\n",
    "prerequisites = [[0,1],[0,2],[1,2]]\n",
    "# Output: True\n",
    "canFinish(numCourses, prerequisites)\n",
    "\n"
   ]
  }
 ],
 "metadata": {
  "kernelspec": {
   "display_name": "Python 3.8.2 64-bit",
   "language": "python",
   "name": "python38264bit579c7998837c475ba0e81c984a932003"
  },
  "language_info": {
   "codemirror_mode": {
    "name": "ipython",
    "version": 3
   },
   "file_extension": ".py",
   "mimetype": "text/x-python",
   "name": "python",
   "nbconvert_exporter": "python",
   "pygments_lexer": "ipython3",
   "version": "3.8.2-final"
  }
 },
 "nbformat": 4,
 "nbformat_minor": 2
}