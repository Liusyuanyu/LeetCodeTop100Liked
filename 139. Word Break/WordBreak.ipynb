{
 "cells": [
  {
   "cell_type": "markdown",
   "metadata": {},
   "source": [
    "# Problem"
   ]
  },
  {
   "cell_type": "code",
   "execution_count": null,
   "metadata": {},
   "outputs": [],
   "source": [
    "Given a non-empty string s and a dictionary wordDict containing a list of non-empty words, determine if s can be segmented into a space-separated sequence of one or more dictionary words.\n",
    "\n",
    "Note:\n",
    "The same word in the dictionary may be reused multiple times in the segmentation.\n",
    "You may assume the dictionary does not contain duplicate words."
   ]
  },
  {
   "cell_type": "code",
   "execution_count": null,
   "metadata": {},
   "outputs": [],
   "source": [
    "class Solution:\n",
    "    def wordBreak(self, s: str, wordDict: List[str]) -> bool:\n",
    "        "
   ]
  },
  {
   "cell_type": "markdown",
   "metadata": {},
   "source": [
    "# Examples"
   ]
  },
  {
   "cell_type": "code",
   "execution_count": null,
   "metadata": {},
   "outputs": [],
   "source": [
    "Example 1:\n",
    "Input: s = \"leetcode\", wordDict = [\"leet\", \"code\"]\n",
    "Output: true\n",
    "Explanation: Return true because \"leetcode\" can be segmented as \"leet code\".\n",
    "\n",
    "\n",
    "Example 2:\n",
    "Input: s = \"applepenapple\", wordDict = [\"apple\", \"pen\"]\n",
    "Output: true\n",
    "Explanation: Return true because \"applepenapple\" can be segmented as \"apple pen apple\".\n",
    "             Note that you are allowed to reuse a dictionary word.\n",
    "\n",
    "Example 3:\n",
    "Input: s = \"catsandog\", wordDict = [\"cats\", \"dog\", \"sand\", \"and\", \"cat\"]\n",
    "Output: false"
   ]
  },
  {
   "cell_type": "markdown",
   "metadata": {},
   "source": [
    "# My Algorithm"
   ]
  },
  {
   "cell_type": "markdown",
   "metadata": {},
   "source": [
    "# Time limit exceed (Both fail)"
   ]
  },
  {
   "cell_type": "code",
   "execution_count": null,
   "metadata": {},
   "outputs": [],
   "source": [
    "def wordBreak(s: str, wordDict: [str]) -> bool:\n",
    "    words = set(wordDict)\n",
    "    words.add(None)\n",
    "    def wordCheck(word):\n",
    "        if word in words:\n",
    "            return True\n",
    "        for idx in range(len(word)):\n",
    "            if word[:idx] in words and wordCheck(word[idx:]):\n",
    "                return True\n",
    "        return False \n",
    "    return wordCheck(s)"
   ]
  },
  {
   "cell_type": "code",
   "execution_count": null,
   "metadata": {},
   "outputs": [],
   "source": [
    "def wordBreak(s: str, wordDict: [str]) -> bool:\n",
    "    words = set(wordDict)\n",
    "    def wordCheck(word):\n",
    "        if not word:\n",
    "            return True\n",
    "        for idx in range(len(word)):\n",
    "            if wordCheck(word[:idx]) and word[idx:] in words :\n",
    "                return True\n",
    "        return False \n",
    "    return wordCheck(s)"
   ]
  },
  {
   "cell_type": "markdown",
   "metadata": {},
   "source": [
    "# Alternative algorithms"
   ]
  },
  {
   "cell_type": "code",
   "execution_count": null,
   "metadata": {},
   "outputs": [],
   "source": [
    "def wordBreak(s: str, wordDict: [str]) -> bool:\n",
    "    words = set(wordDict)\n",
    "    sols={'':True}\n",
    "    def wordCheck(word):\n",
    "        if word in words:\n",
    "            return True\n",
    "        for idx in range(len(word)):\n",
    "            if word[:idx] in words:\n",
    "                if word[idx:] in sols:\n",
    "                    isMatch = sols[word[idx:]]\n",
    "                else:\n",
    "                    isMatch = wordCheck(word[idx:])\n",
    "                    sols[word[idx:]]=isMatch\n",
    "                if isMatch:\n",
    "                    return True\n",
    "        return False \n",
    "    return wordCheck(s)"
   ]
  },
  {
   "cell_type": "code",
   "execution_count": null,
   "metadata": {},
   "outputs": [],
   "source": [
    "# def wordBreak(s: str, wordDict: [str]) -> bool:\n",
    "#     words = set(wordDict)\n",
    "#     sols={'':True}\n",
    "#     def wordCheck(word):\n",
    "#         if not word:\n",
    "#             return True\n",
    "#         for idx in range(len(word)):\n",
    "#             if word[:idx] in sols:\n",
    "#                 isMatch = sols[word[:idx]]\n",
    "#             else:\n",
    "#                 isMatch = wordCheck(word[:idx])\n",
    "#                 sols[word[:idx]]=isMatch\n",
    "#             if isMatch and word[idx:] in words :\n",
    "#                 return True\n",
    "#         return False \n",
    "#     return wordCheck(s)"
   ]
  },
  {
   "cell_type": "markdown",
   "metadata": {},
   "source": [
    "# Sample Input and Test"
   ]
  },
  {
   "cell_type": "code",
   "execution_count": null,
   "metadata": {},
   "outputs": [],
   "source": [
    "s = \"leetcode\"\n",
    "wordDict = [\"leet\", \"code\"]\n",
    "# Output: true\n",
    "wordBreak(s,wordDict)\n",
    "\n",
    "# s = \"applepenapple\"\n",
    "# wordDict = [\"apple\", \"pen\"]\n",
    "# # Output: true\n",
    "# wordBreak(s,wordDict)\n",
    "\n",
    "# s = \"catsandog\"\n",
    "# wordDict = [\"cats\", \"dog\", \"sand\", \"and\", \"cat\"]\n",
    "# # Output: false\n",
    "# wordBreak(s,wordDict)\n"
   ]
  },
  {
   "cell_type": "code",
   "execution_count": null,
   "metadata": {},
   "outputs": [],
   "source": [
    "s = \"a\"\n",
    "wordDict = [\"leet\", \"code\"]\n",
    "# Output: true\n",
    "wordBreak(s,wordDict)"
   ]
  },
  {
   "cell_type": "code",
   "execution_count": null,
   "metadata": {},
   "outputs": [],
   "source": [
    "s = \"aaaaaaa\"\n",
    "wordDict = [\"aaaa\", \"aaa\"]\n",
    "# Output: false\n",
    "wordBreak(s,wordDict)\n"
   ]
  }
 ],
 "metadata": {
  "kernelspec": {
   "display_name": "Python 3",
   "language": "python",
   "name": "python3"
  },
  "language_info": {
   "codemirror_mode": {
    "name": "ipython",
    "version": 3
   },
   "file_extension": ".py",
   "mimetype": "text/x-python",
   "name": "python",
   "nbconvert_exporter": "python",
   "pygments_lexer": "ipython3",
   "version": "3.8.2-final"
  }
 },
 "nbformat": 4,
 "nbformat_minor": 2
}