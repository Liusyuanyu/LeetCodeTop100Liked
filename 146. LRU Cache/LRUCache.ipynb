{
 "cells": [
  {
   "cell_type": "markdown",
   "metadata": {},
   "source": [
    "# Problem"
   ]
  },
  {
   "cell_type": "code",
   "execution_count": null,
   "metadata": {},
   "outputs": [],
   "source": [
    "Design and implement a data structure for Least Recently Used (LRU) cache. It should support the following operations: get and put.\n",
    "get(key) - Get the value (will always be positive) of the key if the key exists in the cache, otherwise return -1.\n",
    "put(key, value) - Set or insert the value if the key is not already present. When the cache reached its capacity, it should invalidate the least recently used item before inserting a new item.\n",
    "The cache is initialized with a positive capacity.\n",
    "Follow up:\n",
    "Could you do both operations in O(1) time complexity?"
   ]
  },
  {
   "cell_type": "code",
   "execution_count": null,
   "metadata": {},
   "outputs": [],
   "source": [
    "class LRUCache:\n",
    "\n",
    "    def __init__(self, capacity: int):\n",
    "\n",
    "    def get(self, key: int) -> int:\n",
    "\n",
    "    def put(self, key: int, value: int) -> None:\n",
    "\n",
    "# Your LRUCache object will be instantiated and called as such:\n",
    "# obj = LRUCache(capacity)\n",
    "# param_1 = obj.get(key)\n",
    "# obj.put(key,value)"
   ]
  },
  {
   "cell_type": "markdown",
   "metadata": {},
   "source": [
    "# Examples"
   ]
  },
  {
   "cell_type": "code",
   "execution_count": null,
   "metadata": {},
   "outputs": [],
   "source": [
    "Example:\n",
    "LRUCache cache = new LRUCache( 2 /* capacity */ );\n",
    "\n",
    "cache.put(1, 1);\n",
    "cache.put(2, 2);\n",
    "cache.get(1);       // returns 1\n",
    "cache.put(3, 3);    // evicts key 2\n",
    "cache.get(2);       // returns -1 (not found)\n",
    "cache.put(4, 4);    // evicts key 1\n",
    "cache.get(1);       // returns -1 (not found)\n",
    "cache.get(3);       // returns 3\n",
    "cache.get(4);       // returns 4"
   ]
  },
  {
   "cell_type": "code",
   "execution_count": null,
   "metadata": {},
   "outputs": [],
   "source": [
    "Input:\n",
    "[\"LRUCache\",\"put\",\"put\",\"get\",\"put\",\"put\",\"get\"]\n",
    "[[2],[2,1],[2,2],[2],[1,1],[4,1],[2]]\n",
    "\n",
    "Output:\n",
    "[null,null,null,2,null,null,2]\n",
    "Expected:\n",
    "[null,null,null,2,null,null,-1]"
   ]
  },
  {
   "cell_type": "markdown",
   "metadata": {},
   "source": [
    "# My Algorithm"
   ]
  },
  {
   "cell_type": "code",
   "execution_count": null,
   "metadata": {},
   "outputs": [],
   "source": [
    "class LRUCache:\n",
    "    history=[]\n",
    "    LRUdata={}\n",
    "    capacity=0\n",
    "    def __init__(self, capacity: int):\n",
    "        self.capacity = capacity\n",
    "\n",
    "    def get(self, key: int) -> int:\n",
    "        if key in self.LRUdata:\n",
    "            self.history.remove(key)\n",
    "            self.history.insert(0, key)\n",
    "            return self.LRUdata[key]\n",
    "        else:\n",
    "            return -1\n",
    "\n",
    "    def put(self, key: int, value: int) -> None:\n",
    "        self.LRUdata[key]=value\n",
    "        if self.capacity < len(self.LRUdata):\n",
    "            recent_key= self.history.pop()\n",
    "            del self.LRUdata[recent_key]\n",
    "            self.history.insert(0, key)\n",
    "        else:\n",
    "            if key in self.history:\n",
    "                self.history.remove(key)\n",
    "            self.history.insert(0, key)\n"
   ]
  },
  {
   "cell_type": "markdown",
   "metadata": {},
   "source": [
    "# Alternative algorithms"
   ]
  },
  {
   "cell_type": "code",
   "execution_count": null,
   "metadata": {},
   "outputs": [],
   "source": [
    "\n",
    "import collections\n",
    "\n",
    "class LRUCache:\n",
    "    capacity=0\n",
    "    def __init__(self, capacity: int):\n",
    "        self.LRUdata = collections.OrderedDict()\n",
    "        self.capacity = capacity\n",
    "\n",
    "    def get(self, key: int) -> int:\n",
    "        if key in self.LRUdata:\n",
    "            self.LRUdata.move_to_end(key)\n",
    "        return self.LRUdata.get(key, -1)\n",
    "\n",
    "    def put(self, key: int, value: int) -> None:\n",
    "        if key in self.LRUdata:\n",
    "            self.LRUdata.move_to_end(key)\n",
    "        self.LRUdata[key]=value\n",
    "        if self.capacity < len(self.LRUdata):\n",
    "            self.LRUdata.popitem(last=False)"
   ]
  },
  {
   "cell_type": "markdown",
   "metadata": {},
   "source": [
    "# Sample Input and Test"
   ]
  },
  {
   "cell_type": "code",
   "execution_count": null,
   "metadata": {},
   "outputs": [],
   "source": [
    "cache = LRUCache( 2 )\n",
    "cache.put(1, 1)\n",
    "cache.put(2, 2)\n",
    "\n",
    "val= cache.get(1)\n",
    "print(val)\n",
    "# returns 1\n",
    "\n",
    "cache.put(3, 3)\n",
    "# evicts key 2\n",
    "\n",
    "val= cache.get(2)\n",
    "print(val)\n",
    "# returns -1 (not found)\n",
    "\n",
    "cache.put(4, 4)\n",
    "# evicts key 1\n",
    "\n",
    "val= cache.get(1) \n",
    "print(val)\n",
    "# returns -1 (not found)\n",
    "\n",
    "val= cache.get(3)\n",
    "print(val)\n",
    "# returns 3\n",
    "\n",
    "val= cache.get(4)\n",
    "print(val)\n",
    "# returns 4\n",
    "\n",
    "\n",
    "# print(cache.LRUdata)"
   ]
  },
  {
   "cell_type": "code",
   "execution_count": null,
   "metadata": {},
   "outputs": [],
   "source": [
    "# Input:\n",
    "# [\"LRUCache\",\"put\",\"put\",\"get\",\"put\",\"put\",\"get\"]\n",
    "# [[2],[2,1],[2,2],[2],[1,1],[4,1],[2]]\n",
    "\n",
    "# Output:\n",
    "# [null,null,null,2,null,null,2]\n",
    "# Expected:\n",
    "# [null,null,null,2,null,null,-1]\n",
    "\n",
    "\n",
    "cache = LRUCache( 2 )\n",
    "cache.put(2, 1)\n",
    "cache.put(2, 2)\n",
    "# print(cache.LRUdata)\n",
    "# print(cache.history)\n",
    "\n",
    "val= cache.get(2)\n",
    "print(val)\n",
    "# print('LRUdata : ', cache.LRUdata, 'History : ', cache.history)\n",
    "\n",
    "cache.put(1, 1)\n",
    "# print('LRUdata : ', cache.LRUdata, 'History : ', cache.history)\n",
    "cache.put(4, 1)\n",
    "# print('LRUdata : ', cache.LRUdata, 'History : ', cache.history)\n",
    "\n",
    "val= cache.get(2)\n",
    "print(val)\n",
    "\n",
    "# print(cache.LRUdata)"
   ]
  }
 ],
 "metadata": {
  "kernelspec": {
   "display_name": "Python 3.8.2 64-bit",
   "language": "python",
   "name": "python38264bit579c7998837c475ba0e81c984a932003"
  },
  "language_info": {
   "codemirror_mode": {
    "name": "ipython",
    "version": 3
   },
   "file_extension": ".py",
   "mimetype": "text/x-python",
   "name": "python",
   "nbconvert_exporter": "python",
   "pygments_lexer": "ipython3",
   "version": "3.8.2-final"
  }
 },
 "nbformat": 4,
 "nbformat_minor": 2
}