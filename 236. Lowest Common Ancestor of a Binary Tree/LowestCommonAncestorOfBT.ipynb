{
 "cells": [
  {
   "cell_type": "markdown",
   "metadata": {},
   "source": [
    "# Problem"
   ]
  },
  {
   "cell_type": "code",
   "execution_count": null,
   "metadata": {},
   "outputs": [],
   "source": [
    "Given a binary tree, find the lowest common ancestor (LCA) of two given nodes in the tree.\n",
    "According to the definition of LCA on Wikipedia: “The lowest common ancestor is defined between two nodes p and q as the lowest node in T that has both p and q as descendants (where we allow a node to be a descendant of itself).”\n",
    "# Given the following binary tree:  root = [3,5,1,6,2,0,8,null,null,7,4]"
   ]
  },
  {
   "cell_type": "code",
   "execution_count": null,
   "metadata": {},
   "outputs": [],
   "source": [
    "# Definition for a binary tree node.\n",
    "# class TreeNode:\n",
    "#     def __init__(self, x):\n",
    "#         self.val = x\n",
    "#         self.left = None\n",
    "#         self.right = None\n",
    "\n",
    "class Solution:\n",
    "    def lowestCommonAncestor(self, root: 'TreeNode', p: 'TreeNode', q: 'TreeNode') -> 'TreeNode':\n",
    "        "
   ]
  },
  {
   "cell_type": "markdown",
   "metadata": {},
   "source": [
    "# Examples"
   ]
  },
  {
   "cell_type": "code",
   "execution_count": null,
   "metadata": {},
   "outputs": [],
   "source": [
    "Example 1:\n",
    "Input: root = [3,5,1,6,2,0,8,null,null,7,4], p = 5, q = 1\n",
    "Output: 3\n",
    "Explanation: The LCA of nodes 5 and 1 is 3.\n",
    "\n",
    "\n",
    "\n",
    "Example 2:\n",
    "Input: root = [3,5,1,6,2,0,8,null,null,7,4], p = 5, q = 4\n",
    "Output: 5\n",
    "Explanation: The LCA of nodes 5 and 4 is 5, since a node can be a descendant of itself according to the LCA definition."
   ]
  },
  {
   "cell_type": "code",
   "execution_count": null,
   "metadata": {},
   "outputs": [],
   "source": [
    "class TreeNode:\n",
    "    def __init__(self, x):\n",
    "        self.val = x\n",
    "        self.left = None\n",
    "        self.right = None"
   ]
  },
  {
   "cell_type": "markdown",
   "metadata": {},
   "source": [
    "# My Algorithms"
   ]
  },
  {
   "cell_type": "code",
   "execution_count": null,
   "metadata": {},
   "outputs": [],
   "source": [
    "def lowestCommonAncestor( root: 'TreeNode', p: 'TreeNode', q: 'TreeNode') -> 'TreeNode':\n",
    "    def dfsTrace(node):\n",
    "        if not node:\n",
    "            return None\n",
    "        if node is p or node is q:\n",
    "            return node\n",
    "        right = dfsTrace(node.right)\n",
    "        left = dfsTrace(node.left)\n",
    "\n",
    "        if not left and not right:\n",
    "            return None\n",
    "        elif left and right:\n",
    "            return node\n",
    "        elif not left and right:\n",
    "            return right\n",
    "        else:\n",
    "            return left\n",
    "    return dfsTrace(root) "
   ]
  },
  {
   "cell_type": "markdown",
   "metadata": {},
   "source": [
    "# Alternative algorithms"
   ]
  },
  {
   "cell_type": "code",
   "execution_count": null,
   "metadata": {},
   "outputs": [],
   "source": [
    "def lowestCommonAncestor( root: 'TreeNode', p: 'TreeNode', q: 'TreeNode') -> 'TreeNode':\n",
    "    def dfsTrace(node):\n",
    "        if not node:\n",
    "            return None\n",
    "        if node == p or node == q:\n",
    "            return node\n",
    "        right = dfsTrace(node.right)\n",
    "        left = dfsTrace(node.left)\n",
    "\n",
    "        if left and right:\n",
    "            return node\n",
    "        elif right:\n",
    "            return right\n",
    "        else:\n",
    "            return left\n",
    "        return None\n",
    "\n",
    "    return dfsTrace(root) "
   ]
  },
  {
   "cell_type": "markdown",
   "metadata": {},
   "source": [
    "# Sample Input and Test"
   ]
  },
  {
   "cell_type": "code",
   "execution_count": null,
   "metadata": {
    "tags": []
   },
   "outputs": [],
   "source": [
    "root=TreeNode(3)\n",
    "root.right=TreeNode(1)\n",
    "root.left=TreeNode(5)\n",
    "\n",
    "root.right.right=TreeNode(8)\n",
    "root.right.left=TreeNode(0)\n",
    "\n",
    "root.left.right=TreeNode(2)\n",
    "root.left.left=TreeNode(6)\n",
    "\n",
    "root.left.right.right=TreeNode(4)\n",
    "root.left.right.left=TreeNode(7)\n",
    "\n",
    "printLevelOrder(root)\n",
    "\n",
    "\n",
    "ancestor = lowestCommonAncestor(root, root.left.right.right, root.left)\n",
    "\n",
    "print('\\n result')\n",
    "print(ancestor.val)\n",
    "# printLevelOrder(ancestor)\n"
   ]
  },
  {
   "cell_type": "code",
   "execution_count": null,
   "metadata": {
    "tags": []
   },
   "outputs": [],
   "source": [
    "root=TreeNode(3)\n",
    "root.right=TreeNode(1)\n",
    "root.left=TreeNode(5)\n",
    "\n",
    "root.right.right=TreeNode(8)\n",
    "root.right.left=TreeNode(0)\n",
    "\n",
    "root.left.right=TreeNode(2)\n",
    "root.left.left=TreeNode(6)\n",
    "\n",
    "root.left.right.right=TreeNode(4)\n",
    "root.left.right.left=TreeNode(7)\n",
    "\n",
    "printLevelOrder(root)\n",
    "\n",
    "\n",
    "ancestor = lowestCommonAncestor(root, root.left, root.right)\n",
    "\n",
    "print('\\n result')\n",
    "print(ancestor.val)\n",
    "# printLevelOrder(ancestor)\n"
   ]
  },
  {
   "cell_type": "markdown",
   "metadata": {},
   "source": [
    "# Print Tree"
   ]
  },
  {
   "cell_type": "code",
   "execution_count": null,
   "metadata": {},
   "outputs": [],
   "source": [
    "# Function to  print level order traversal of tree \n",
    "def printLevelOrder(root): \n",
    "    h = height(root) \n",
    "    for i in range(1, h+1): \n",
    "        printGivenLevel(root, i) \n",
    "  \n",
    "# Print nodes at a given level \n",
    "def printGivenLevel(root , level): \n",
    "    if root is None:\n",
    "        print('Null', end=\" \")\n",
    "        return\n",
    "    if level == 1: \n",
    "        print (\"%d\" %(root.val), end=\" \") \n",
    "    elif level > 1 : \n",
    "        printGivenLevel(root.left , level-1) \n",
    "        printGivenLevel(root.right , level-1) \n",
    "\n",
    "def height(node): \n",
    "    if node is None: \n",
    "        return 0 \n",
    "    else : \n",
    "        # Compute the height of each subtree  \n",
    "        lheight = height(node.left) \n",
    "        rheight = height(node.right) \n",
    "  \n",
    "        #Use the larger one \n",
    "        if lheight > rheight : \n",
    "            return lheight+1\n",
    "        else: \n",
    "            return rheight+1"
   ]
  }
 ],
 "metadata": {
  "kernelspec": {
   "display_name": "Python 3.8.2 64-bit",
   "language": "python",
   "name": "python38264bit579c7998837c475ba0e81c984a932003"
  },
  "language_info": {
   "codemirror_mode": {
    "name": "ipython",
    "version": 3
   },
   "file_extension": ".py",
   "mimetype": "text/x-python",
   "name": "python",
   "nbconvert_exporter": "python",
   "pygments_lexer": "ipython3",
   "version": "3.8.2-final"
  }
 },
 "nbformat": 4,
 "nbformat_minor": 2
}