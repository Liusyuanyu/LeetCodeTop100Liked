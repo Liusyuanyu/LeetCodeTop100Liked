{
 "cells": [
  {
   "cell_type": "markdown",
   "metadata": {},
   "source": [
    "# Problem"
   ]
  },
  {
   "cell_type": "code",
   "execution_count": null,
   "metadata": {},
   "outputs": [],
   "source": [
    "The thief has found himself a new place for his thievery again. There is only one entrance to this area, called the \"root.\" Besides the root, each house has one and only one parent house. After a tour, the smart thief realized that \"all houses in this place forms a binary tree\". It will automatically contact the police if two directly-linked houses were broken into on the same night.\n",
    "Determine the maximum amount of money the thief can rob tonight without alerting the police."
   ]
  },
  {
   "cell_type": "code",
   "execution_count": null,
   "metadata": {},
   "outputs": [],
   "source": [
    "# Definition for a binary tree node.\n",
    "# class TreeNode:\n",
    "#     def __init__(self, val=0, left=None, right=None):\n",
    "#         self.val = val\n",
    "#         self.left = left\n",
    "#         self.right = right\n",
    "class Solution:\n",
    "    def rob(self, root: TreeNode) -> int:\n",
    "        "
   ]
  },
  {
   "cell_type": "markdown",
   "metadata": {},
   "source": [
    "# Examples"
   ]
  },
  {
   "cell_type": "code",
   "execution_count": null,
   "metadata": {},
   "outputs": [],
   "source": [
    "# Example 1:\n",
    "Input: [3,2,3,null,3,null,1]\n",
    "\n",
    "     3\n",
    "    / \\\n",
    "   2   3\n",
    "    \\   \\ \n",
    "     3   1\n",
    "\n",
    "Output: 7 \n",
    "Explanation: Maximum amount of money the thief can rob = 3 + 3 + 1 = 7.\n",
    "\n",
    "\n",
    "# Example 2:\n",
    "Input: [3,4,5,1,3,null,1]\n",
    "\n",
    "     3\n",
    "    / \\\n",
    "   4   5\n",
    "  / \\   \\ \n",
    " 1   3   1\n",
    "\n",
    "Output: 9\n",
    "Explanation: Maximum amount of money the thief can rob = 4 + 5 = 9."
   ]
  },
  {
   "cell_type": "code",
   "execution_count": null,
   "metadata": {},
   "outputs": [],
   "source": [
    "class TreeNode:\n",
    "    def __init__(self, val=0, left=None, right=None):\n",
    "        self.val = val\n",
    "        self.left = left\n",
    "        self.right = right"
   ]
  },
  {
   "cell_type": "markdown",
   "metadata": {},
   "source": [
    "# My Algorithms"
   ]
  },
  {
   "cell_type": "code",
   "execution_count": null,
   "metadata": {},
   "outputs": [],
   "source": [
    "#######################\n",
    "# Time Limit Exceeded #\n",
    "#######################\n",
    "def rob( root: TreeNode) -> int:\n",
    "    def dfsHelper(node, selected):\n",
    "        if not node:\n",
    "            return 0\n",
    "        selectedValue =0 \n",
    "        nonSelectedValue =0 \n",
    "        if selected:\n",
    "            left = dfsHelper(node.left, False)\n",
    "            right = dfsHelper(node.right, False)\n",
    "            nonSelectedValue = left + right\n",
    "        else:\n",
    "            left = dfsHelper(node.left, True)\n",
    "            right = dfsHelper(node.right, True)\n",
    "            selectedValue = left + right+node.val\n",
    "\n",
    "            left = dfsHelper(node.left, False)\n",
    "            right = dfsHelper(node.right, False)\n",
    "            nonSelectedValue = left + right\n",
    "\n",
    "        return max(selectedValue, nonSelectedValue)\n",
    "    \n",
    "    return dfsHelper(root, False)\n",
    "\n",
    "    "
   ]
  },
  {
   "cell_type": "markdown",
   "metadata": {},
   "source": [
    "# Alternative algorithms"
   ]
  },
  {
   "cell_type": "code",
   "execution_count": null,
   "metadata": {},
   "outputs": [],
   "source": [
    "def rob( root: TreeNode) -> int:\n",
    "    def dfsHelper(node):\n",
    "        if not node:\n",
    "            return 0, 0 , 0\n",
    "        right, rightLeft, rightRight  = dfsHelper(node.right)\n",
    "        left, leftLeft, leftRight  = dfsHelper(node.left)\n",
    "        return max(node.val + rightRight + rightLeft + leftLeft + leftRight, right+left), left, right\n",
    "    return dfsHelper(root)[0]\n",
    "\n",
    "    "
   ]
  },
  {
   "cell_type": "code",
   "execution_count": null,
   "metadata": {},
   "outputs": [],
   "source": [
    "def rob( root: TreeNode) -> int:\n",
    "    def dfsHelper(node):\n",
    "        if not node:\n",
    "            return 0, 0\n",
    "        leftRob, leftNotRob  = dfsHelper(node.left)\n",
    "        rightRob, rightNotRob  = dfsHelper(node.right)\n",
    "\n",
    "        return node.val+leftNotRob+rightNotRob, max(leftRob, leftNotRob)+max(rightRob, rightNotRob)\n",
    "    return max(dfsHelper(root))\n"
   ]
  },
  {
   "cell_type": "markdown",
   "metadata": {},
   "source": [
    "# Sample Input and Test"
   ]
  },
  {
   "cell_type": "code",
   "execution_count": null,
   "metadata": {
    "tags": []
   },
   "outputs": [],
   "source": [
    "# Input: [3,2,3,null,3,null,1]\n",
    "#      3\n",
    "#     / \\\n",
    "#    2   3\n",
    "#     \\   \\ \n",
    "#      3   1\n",
    "# Output: 7 \n",
    "# Explanation: Maximum amount of money the thief can rob = 3 + 3 + 1 = 7.\n",
    "\n",
    "root = TreeNode(3)\n",
    "root.left = TreeNode(2)\n",
    "root.right = TreeNode(3)\n",
    "root.right.right = TreeNode(1)\n",
    "root.left.right = TreeNode(3)\n",
    "printLevelOrder(root)\n",
    "\n",
    "rob(root)"
   ]
  },
  {
   "cell_type": "code",
   "execution_count": null,
   "metadata": {
    "tags": []
   },
   "outputs": [],
   "source": [
    "# # Example 2:\n",
    "# Input: [3,4,5,1,3,null,1]\n",
    "\n",
    "#      3\n",
    "#     / \\\n",
    "#    4   5\n",
    "#   / \\   \\ \n",
    "#  1   3   1\n",
    "\n",
    "# Output: 9\n",
    "# Explanation: Maximum amount of money the thief can rob = 4 + 5 = 9.\n",
    "\n",
    "root = TreeNode(3)\n",
    "root.left = TreeNode(4)\n",
    "root.right = TreeNode(5)\n",
    "root.right.right = TreeNode(1)\n",
    "root.left.right = TreeNode(3)\n",
    "root.left.left = TreeNode(1)\n",
    "printLevelOrder(root)\n",
    "\n",
    "rob(root)\n",
    "\n"
   ]
  },
  {
   "cell_type": "code",
   "execution_count": null,
   "metadata": {
    "tags": []
   },
   "outputs": [],
   "source": [
    "# Input: [3 Null 1 Null Null 2 Null Null Null 9 ]\n",
    "\n",
    "#      3\n",
    "#       \\\n",
    "#        1\n",
    "#         \\ \n",
    "#          2\n",
    "#           \\\n",
    "#            9\n",
    "# Output: 12\n",
    "# Explanation: Maximum amount of money the thief can rob = 4 + 5 = 9.\n",
    "\n",
    "root = TreeNode(3)\n",
    "root.right = TreeNode(1)\n",
    "root.right.right = TreeNode(2)\n",
    "root.right.right.right = TreeNode(9)\n",
    "printLevelOrder(root)\n",
    "\n",
    "rob(root)\n",
    "\n"
   ]
  },
  {
   "cell_type": "markdown",
   "metadata": {},
   "source": [
    "# Print TreeNode"
   ]
  },
  {
   "cell_type": "code",
   "execution_count": null,
   "metadata": {},
   "outputs": [],
   "source": [
    "# Function to  print level order traversal of tree \n",
    "def printLevelOrder(root): \n",
    "    h = height(root) \n",
    "    for i in range(1, h+1): \n",
    "        printGivenLevel(root, i) \n",
    "    print()\n",
    "    \n",
    "  \n",
    "# Print nodes at a given level \n",
    "def printGivenLevel(root , level): \n",
    "    if root is None:\n",
    "        print('Null', end=\" \")\n",
    "        return\n",
    "    if level == 1: \n",
    "        print (\"%d\" %(root.val), end=\" \") \n",
    "    elif level > 1 : \n",
    "        printGivenLevel(root.left , level-1) \n",
    "        printGivenLevel(root.right , level-1) \n",
    "\n",
    "def height(node): \n",
    "    if node is None: \n",
    "        return 0 \n",
    "    else : \n",
    "        # Compute the height of each subtree  \n",
    "        lheight = height(node.left) \n",
    "        rheight = height(node.right) \n",
    "  \n",
    "        #Use the larger one \n",
    "        if lheight > rheight : \n",
    "            return lheight+1\n",
    "        else: \n",
    "            return rheight+1"
   ]
  }
 ],
 "metadata": {
  "kernelspec": {
   "display_name": "Python 3.8.2 64-bit",
   "language": "python",
   "name": "python38264bit579c7998837c475ba0e81c984a932003"
  },
  "language_info": {
   "codemirror_mode": {
    "name": "ipython",
    "version": 3
   },
   "file_extension": ".py",
   "mimetype": "text/x-python",
   "name": "python",
   "nbconvert_exporter": "python",
   "pygments_lexer": "ipython3",
   "version": "3.8.2-final"
  }
 },
 "nbformat": 4,
 "nbformat_minor": 2
}