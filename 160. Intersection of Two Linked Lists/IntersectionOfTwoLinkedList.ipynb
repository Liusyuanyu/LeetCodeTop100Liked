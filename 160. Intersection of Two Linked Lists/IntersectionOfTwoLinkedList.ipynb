{
 "cells": [
  {
   "cell_type": "markdown",
   "metadata": {},
   "source": [
    "# Problem"
   ]
  },
  {
   "cell_type": "code",
   "execution_count": null,
   "metadata": {},
   "outputs": [],
   "source": [
    "Write a program to find the node at which the intersection of two singly linked lists begins."
   ]
  },
  {
   "cell_type": "code",
   "execution_count": null,
   "metadata": {},
   "outputs": [],
   "source": [
    "# Definition for singly-linked list.\n",
    "# class ListNode:\n",
    "#     def __init__(self, x):\n",
    "#         self.val = x\n",
    "#         self.next = None\n",
    "\n",
    "class Solution:\n",
    "    def getIntersectionNode(self, headA: ListNode, headB: ListNode) -> ListNode:\n",
    "        "
   ]
  },
  {
   "cell_type": "markdown",
   "metadata": {},
   "source": [
    "# Examples"
   ]
  },
  {
   "cell_type": "code",
   "execution_count": null,
   "metadata": {},
   "outputs": [],
   "source": [
    "Input: intersectVal = 8, listA = [4,1,8,4,5], listB = [5,0,1,8,4,5], skipA = 2, skipB = 3\n",
    "Output: Reference of the node with value = 8\n",
    "Input Explanation: The intersected node's value is 8 (note that this must not be 0 if the two lists intersect). From the head of A, it reads as [4,1,8,4,5]. From the head of B, it reads as [5,0,1,8,4,5]. There are 2 nodes before the intersected node in A; There are 3 nodes before the intersected node in B.\n",
    "\n",
    "\n",
    "Input: intersectVal = 2, listA = [0,9,1,2,4], listB = [3,2,4], skipA = 3, skipB = 1\n",
    "Output: Reference of the node with value = 2\n",
    "Input Explanation: The intersected node's value is 2 (note that this must not be 0 if the two lists intersect). From the head of A, it reads as [0,9,1,2,4]. From the head of B, it reads as [3,2,4]. There are 3 nodes before the intersected node in A; There are 1 node before the intersected node in B.\n",
    "\n",
    "\n",
    "\n",
    "Input: intersectVal = 0, listA = [2,6,4], listB = [1,5], skipA = 3, skipB = 2\n",
    "Output: null\n",
    "Input Explanation: From the head of A, it reads as [2,6,4]. From the head of B, it reads as [1,5]. Since the two lists do not intersect, intersectVal must be 0, while skipA and skipB can be arbitrary values.\n",
    "Explanation: The two lists do not intersect, so return null.\n"
   ]
  },
  {
   "cell_type": "code",
   "execution_count": null,
   "metadata": {},
   "outputs": [],
   "source": [
    "class ListNode:\n",
    "    def __init__(self, x, next=None):\n",
    "        self.val = x\n",
    "        self.next = next\n",
    "        "
   ]
  },
  {
   "cell_type": "markdown",
   "metadata": {},
   "source": [
    "# My Algorithms"
   ]
  },
  {
   "cell_type": "code",
   "execution_count": null,
   "metadata": {},
   "outputs": [],
   "source": [
    "def getIntersectionNode(headA: ListNode, headB: ListNode) -> ListNode:\n",
    "    history=set()\n",
    "    while(headA):\n",
    "        history.add(headA)\n",
    "        headA = headA.next\n",
    "    while(headB):\n",
    "        if headB in history:\n",
    "            # return headB.val\n",
    "            return headB\n",
    "        headB = headB.next\n",
    "    return None"
   ]
  },
  {
   "cell_type": "markdown",
   "metadata": {},
   "source": [
    "# Alternative algorithms"
   ]
  },
  {
   "cell_type": "code",
   "execution_count": null,
   "metadata": {},
   "outputs": [],
   "source": [
    "def getIntersectionNode(headA: ListNode, headB: ListNode) -> ListNode:\n",
    "    if not headA or not headB:\n",
    "        return None\n",
    "    ptrA = headA\n",
    "    ptrB = headB\n",
    "    \n",
    "    while(ptrA != ptrB):\n",
    "        if not ptrA:\n",
    "            ptrA=headB\n",
    "        else:\n",
    "            ptrA=ptrA.next\n",
    "        if not ptrB:\n",
    "            ptrB=headA\n",
    "        else:\n",
    "            ptrB=ptrB.next\n",
    "\n",
    "    return ptrB"
   ]
  },
  {
   "cell_type": "markdown",
   "metadata": {},
   "source": [
    "# Sample Input and Test"
   ]
  },
  {
   "cell_type": "code",
   "execution_count": null,
   "metadata": {
    "tags": []
   },
   "outputs": [],
   "source": [
    "# Input: intersectVal = 8, listA = [4,1,8,4,5], listB = [5,0,1,8,4,5], skipA = 2, skipB = 3\n",
    "\n",
    "listA = ListNode(5)\n",
    "listA = ListNode(4, listA)\n",
    "listA = ListNode(8, listA)\n",
    "intersect=listA\n",
    "listA = ListNode(1, listA)\n",
    "listA = ListNode(4, listA)\n",
    "\n",
    "print('List A : ')\n",
    "printListNode(listA)\n",
    "\n",
    "listB = ListNode(1, intersect)\n",
    "listB = ListNode(0, listB)\n",
    "listB = ListNode(5, listB)\n",
    "\n",
    "print('\\nList B : ')\n",
    "printListNode(listB)\n",
    "\n",
    "getIntersectionNode(listA,listB)\n"
   ]
  },
  {
   "cell_type": "code",
   "execution_count": null,
   "metadata": {
    "tags": []
   },
   "outputs": [],
   "source": [
    "# Input: intersectVal = 2, listA = [0,9,1,2,4], listB = [3,2,4], skipA = 3, skipB = 1\n",
    "\n",
    "listA = ListNode(4)\n",
    "listA = ListNode(2, listA)\n",
    "intersect=listA\n",
    "listA = ListNode(1, listA)\n",
    "listA = ListNode(9, listA)\n",
    "listA = ListNode(0, listA)\n",
    "\n",
    "print('List A :')\n",
    "printListNode(listA)\n",
    "\n",
    "listB = ListNode(3, intersect)\n",
    "print('\\nList B :')\n",
    "printListNode(listB)\n",
    "\n",
    "getIntersectionNode(listA,listB)"
   ]
  },
  {
   "cell_type": "code",
   "execution_count": null,
   "metadata": {
    "tags": []
   },
   "outputs": [],
   "source": [
    "listA = ListNode(4)\n",
    "listA = ListNode(2, listA)\n",
    "listA = ListNode(6, listA)\n",
    "\n",
    "print('List A :')\n",
    "printListNode(listA)\n",
    "\n",
    "listB = ListNode(5)\n",
    "listB = ListNode(1, listB)\n",
    "print('\\nList B :')\n",
    "printListNode(listB)\n",
    "\n",
    "getIntersectionNode(listA,listB)\n",
    "\n",
    "# Input: intersectVal = 0, listA = [2,6,4], listB = [1,5], skipA = 3, skipB = 2\n"
   ]
  },
  {
   "cell_type": "markdown",
   "metadata": {},
   "source": [
    "# Print List Node"
   ]
  },
  {
   "cell_type": "code",
   "execution_count": null,
   "metadata": {},
   "outputs": [],
   "source": [
    "def printListNode(node):\n",
    "    while(node):\n",
    "        print(node.val, end='')\n",
    "        node = node.next\n",
    "        if node:\n",
    "            print(' -> ', end='')\n",
    "    print()\n",
    "    "
   ]
  }
 ],
 "metadata": {
  "kernelspec": {
   "display_name": "Python 3.8.2 64-bit",
   "language": "python",
   "name": "python38264bit579c7998837c475ba0e81c984a932003"
  },
  "language_info": {
   "codemirror_mode": {
    "name": "ipython",
    "version": 3
   },
   "file_extension": ".py",
   "mimetype": "text/x-python",
   "name": "python",
   "nbconvert_exporter": "python",
   "pygments_lexer": "ipython3",
   "version": "3.8.2-final"
  }
 },
 "nbformat": 4,
 "nbformat_minor": 2
}