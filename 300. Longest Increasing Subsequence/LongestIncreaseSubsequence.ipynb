{
 "cells": [
  {
   "cell_type": "markdown",
   "metadata": {},
   "source": [
    "# Problem"
   ]
  },
  {
   "cell_type": "code",
   "execution_count": null,
   "metadata": {},
   "outputs": [],
   "source": [
    "Given an unsorted array of integers, find the length of longest increasing subsequence."
   ]
  },
  {
   "cell_type": "code",
   "execution_count": null,
   "metadata": {},
   "outputs": [],
   "source": [
    "class Solution:\n",
    "    def lengthOfLIS(self, nums: List[int]) -> int:\n",
    "        "
   ]
  },
  {
   "cell_type": "markdown",
   "metadata": {},
   "source": [
    "# Examples"
   ]
  },
  {
   "cell_type": "code",
   "execution_count": null,
   "metadata": {},
   "outputs": [],
   "source": [
    "Example:\n",
    "Input: [10,9,2,5,3,7,101,18]\n",
    "Output: 4 \n",
    "Explanation: The longest increasing subsequence is [2,3,7,101], therefore the length is 4. \n",
    "\n",
    "\n",
    "# Note: \n",
    "There may be more than one LIS combination, it is only necessary for you to return the length.\n",
    "Your algorithm should run in O(n2) complexity.\n",
    "\n",
    "# Follow up: \n",
    "Could you improve it to O(n log n) time complexity?"
   ]
  },
  {
   "cell_type": "markdown",
   "metadata": {},
   "source": [
    "# My Algorithms"
   ]
  },
  {
   "cell_type": "code",
   "execution_count": null,
   "metadata": {},
   "outputs": [],
   "source": [
    "# def lengthOfLIS( nums: [int]) -> int:\n",
    "#     if not nums:\n",
    "#         return 0\n",
    "#     length = len(nums)\n",
    "#     dp= [1]*length\n",
    "#     for idx in range(1, length):\n",
    "#         longest=0\n",
    "#         for preIdx in range(idx-1, -1 , -1):\n",
    "#             if nums[idx] > nums[preIdx]:\n",
    "#                 longest = max (longest, dp[preIdx])\n",
    "#             dp[idx] = longest+1\n",
    "            \n",
    "#     return max(dp)\n",
    "\n",
    "\n",
    "def lengthOfLIS( nums: [int]) -> int:\n",
    "    if not nums:\n",
    "        return 0\n",
    "    length = len(nums)\n",
    "    dp= [1]*length\n",
    "    maxLen = 1\n",
    "    for idx in range(1, length):\n",
    "        longest=0\n",
    "        for preIdx in range(idx-1, -1 , -1):\n",
    "            if nums[idx] > nums[preIdx]:\n",
    "                longest = max (longest, dp[preIdx])\n",
    "            dp[idx] = longest+1\n",
    "        maxLen =max(maxLen, longest+1) \n",
    "    return maxLen\n"
   ]
  },
  {
   "cell_type": "markdown",
   "metadata": {},
   "source": [
    "# Alternative algorithms"
   ]
  },
  {
   "cell_type": "code",
   "execution_count": null,
   "metadata": {},
   "outputs": [],
   "source": [
    "def lengthOfLIS( nums: [int]) -> int:\n",
    "    if not nums:\n",
    "        return 0\n",
    "    length = len(nums)\n",
    "    dp= [nums[0]]\n",
    "    maxLen = 1\n",
    "    for idx in range(1, length):\n",
    "        if dp[-1] < nums[idx]:\n",
    "            dp.append(nums[idx])\n",
    "            maxLen+=1\n",
    "        else:\n",
    "            left, right = 0, len(dp)-1\n",
    "            while(left < right):\n",
    "                mid = (left+right)//2\n",
    "                if dp[mid]< nums[idx]:\n",
    "                    left = mid+1\n",
    "                else:\n",
    "                    right = mid\n",
    "            dp[left]=nums[idx]\n",
    "        # print('DP : ', dp)\n",
    "    return maxLen\n"
   ]
  },
  {
   "cell_type": "markdown",
   "metadata": {},
   "source": [
    "# Sample Input and Test"
   ]
  },
  {
   "cell_type": "code",
   "execution_count": null,
   "metadata": {
    "tags": []
   },
   "outputs": [],
   "source": [
    "Input= [10,9,2,5,3,7,101,18]\n",
    "lengthOfLIS(Input)\n",
    "# 4\n",
    "\n",
    "# Input= [1,3,6,7,9,4,10,5,6]\n",
    "# lengthOfLIS(Input)\n",
    "# # 6 : 1, 3, 6, 7, 9, 10"
   ]
  },
  {
   "cell_type": "code",
   "execution_count": null,
   "metadata": {
    "tags": []
   },
   "outputs": [],
   "source": [
    "# Input= [1,2,3,1,3,4,6]\n",
    "# Input= [5,6,7,1,2,3,4]\n",
    "# Input= [5,6,7,1,2]\n",
    "Input= [5,6,9,7,8]\n",
    "# Output: 3\n",
    "lengthOfLIS(Input)"
   ]
  },
  {
   "cell_type": "code",
   "execution_count": null,
   "metadata": {
    "tags": []
   },
   "outputs": [],
   "source": [
    "# Input= [3,1,3,4,2]\n",
    "# # Output: 3\n",
    "# lengthOfLIS(Input)\n",
    "\n",
    "# Input= [3]\n",
    "# # Output: 1\n",
    "# lengthOfLIS(Input)\n",
    "\n",
    "# Input= []\n",
    "# # Output: 0\n",
    "# lengthOfLIS(Input)\n",
    "\n",
    "# Input= [0]\n",
    "# # Output: 1\n",
    "# lengthOfLIS(Input)\n"
   ]
  }
 ],
 "metadata": {
  "kernelspec": {
   "display_name": "Python 3.8.2 64-bit",
   "language": "python",
   "name": "python38264bit579c7998837c475ba0e81c984a932003"
  },
  "language_info": {
   "codemirror_mode": {
    "name": "ipython",
    "version": 3
   },
   "file_extension": ".py",
   "mimetype": "text/x-python",
   "name": "python",
   "nbconvert_exporter": "python",
   "pygments_lexer": "ipython3",
   "version": "3.8.2-final"
  }
 },
 "nbformat": 4,
 "nbformat_minor": 2
}