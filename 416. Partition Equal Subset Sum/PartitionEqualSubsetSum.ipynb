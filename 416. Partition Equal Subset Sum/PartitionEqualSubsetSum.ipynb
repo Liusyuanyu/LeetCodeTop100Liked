{
 "cells": [
  {
   "cell_type": "markdown",
   "metadata": {},
   "source": [
    "# Problem"
   ]
  },
  {
   "cell_type": "code",
   "execution_count": null,
   "metadata": {},
   "outputs": [],
   "source": [
    "Given a non-empty array containing only positive integers, find if the array can be partitioned into two subsets such that the sum of elements in both subsets is equal.\n",
    "\n",
    "Note:\n",
    "Each of the array element will not exceed 100.\n",
    "The array size will not exceed 200."
   ]
  },
  {
   "cell_type": "code",
   "execution_count": null,
   "metadata": {},
   "outputs": [],
   "source": [
    "class Solution:\n",
    "    def canPartition(self, nums: List[int]) -> bool:\n",
    "        "
   ]
  },
  {
   "cell_type": "markdown",
   "metadata": {},
   "source": [
    "# Examples"
   ]
  },
  {
   "cell_type": "code",
   "execution_count": null,
   "metadata": {},
   "outputs": [],
   "source": [
    "# Example 1:\n",
    "Input: [1, 5, 11, 5]\n",
    "Output: true\n",
    "Explanation: The array can be partitioned as [1, 5, 5] and [11].\n",
    " \n",
    "\n",
    "# Example 2:\n",
    "Input: [1, 2, 3, 5]\n",
    "Output: false\n",
    "Explanation: The array cannot be partitioned into equal sum subsets."
   ]
  },
  {
   "cell_type": "markdown",
   "metadata": {},
   "source": [
    "# My Algorithms"
   ]
  },
  {
   "cell_type": "code",
   "execution_count": null,
   "metadata": {},
   "outputs": [],
   "source": [
    "###################################\n",
    "###     Time Limit Exceeded     ###\n",
    "###################################\n",
    "\n",
    "\n",
    "# def canPartition(nums: [int]) -> bool:\n",
    "#     allSum =sum(nums)\n",
    "#     if allSum%2:\n",
    "#         return False\n",
    "#     half = allSum//2 \n",
    "\n",
    "#     def findHelper(numList, target):\n",
    "#         if not numList:\n",
    "#             return False\n",
    "#         if target in numList:\n",
    "#             return True\n",
    "        \n",
    "#         for idx in range(len(numList)):\n",
    "#             rest = target - numList[idx]\n",
    "#             if rest > 0:\n",
    "#                 if findHelper(numList[:idx]+numList[idx+1:] , rest):\n",
    "#                     return True\n",
    "#         return False\n",
    "#     return findHelper(nums, half)"
   ]
  },
  {
   "cell_type": "code",
   "execution_count": null,
   "metadata": {},
   "outputs": [],
   "source": [
    "from collections import Counter\n",
    "\n",
    "def canPartition(nums: [int]) -> bool:\n",
    "    allSum =sum(nums)\n",
    "    if allSum%2:\n",
    "        return False\n",
    "    half = allSum//2 \n",
    "    data = dict(Counter(nums))\n",
    "\n",
    "    def findHelper(counter, target):\n",
    "        if target in counter and counter[target]>0:\n",
    "            return True\n",
    "        for num in counter:\n",
    "            if not counter[num]:\n",
    "                continue\n",
    "            rest = target - num\n",
    "            if rest > 0:\n",
    "                counter[num]-=1\n",
    "                if findHelper(counter , rest):\n",
    "                    return True\n",
    "                counter[num]+=1\n",
    "        return False\n",
    "    return findHelper(data, half)"
   ]
  },
  {
   "cell_type": "markdown",
   "metadata": {},
   "source": [
    "# Alternative algorithms"
   ]
  },
  {
   "cell_type": "code",
   "execution_count": null,
   "metadata": {},
   "outputs": [],
   "source": [
    "def canPartition(nums: [int]) -> bool:\n",
    "    allSum =sum(nums)\n",
    "    if allSum%2:\n",
    "        return False\n",
    "    half = allSum//2 \n",
    "    buckets=[0,0]\n",
    "    nums.sort(reverse=True)\n",
    "    length = len(nums)\n",
    "\n",
    "    def findHelper(idx):\n",
    "        if idx == length:\n",
    "            return True\n",
    "\n",
    "        for bucketNum in range(2):\n",
    "            buckets[bucketNum] += nums[idx]\n",
    "            if buckets[bucketNum] <= half and findHelper(idx+1):\n",
    "                return True\n",
    "            buckets[bucketNum] -= nums[idx]\n",
    "            if buckets[bucketNum]==0:\n",
    "                return False             \n",
    "        return False\n",
    "    return findHelper(0)"
   ]
  },
  {
   "cell_type": "markdown",
   "metadata": {},
   "source": [
    "# Sample Input and Test"
   ]
  },
  {
   "cell_type": "code",
   "execution_count": null,
   "metadata": {
    "tags": []
   },
   "outputs": [],
   "source": [
    "Input= [1, 5, 11, 5]\n",
    "# Output: true\n",
    "# Explanation: The array can be partitioned as [1, 5, 5] and [11].\n",
    " \n",
    "canPartition(Input)\n"
   ]
  },
  {
   "cell_type": "code",
   "execution_count": null,
   "metadata": {
    "tags": []
   },
   "outputs": [],
   "source": [
    "# from collections import Counter\n",
    "Input= [1,1,1,1,1,1,1,1,1,1,1,1,1,1,1,1,1,1,1,1,1,1,1,1,1,1,1,1,1,1,1,1,1,1,1,1,1,1,1,1,1,1,1,1,1,1,1,1,1,1,1,1,1,1,1,1,1,1,1,1,1,1,1,1,1,1,1,1,1,1,1,1,1,1,1,1,1,1,1,1,1,1,1,1,1,1,1,1,1,1,1,1,1,1,1,1,1,1,100]\n",
    "\n",
    "# Output: false\n",
    "canPartition(Input)\n",
    "\n",
    "# res = dict(Counter(Input))\n"
   ]
  },
  {
   "cell_type": "code",
   "execution_count": null,
   "metadata": {
    "tags": []
   },
   "outputs": [],
   "source": [
    "# Input= [1, 2, 5]\n",
    "# # Output: False\n",
    "# canPartition(Input)\n",
    "\n",
    "\n",
    "Input= [4,2,8]\n",
    "# Input= [4,2,6]\n",
    "# Input= [1, 2, 5]\n",
    "# Output: False\n",
    "canPartition(Input)\n"
   ]
  },
  {
   "cell_type": "code",
   "execution_count": null,
   "metadata": {},
   "outputs": [],
   "source": [
    "# Example 2:\n",
    "Input= [1, 2, 3, 5]\n",
    "# Output: false\n",
    "# Explanation: The array cannot be partitioned into equal sum subsets.\n",
    "\n",
    "canPartition(Input)\n"
   ]
  }
 ],
 "metadata": {
  "kernelspec": {
   "display_name": "Python 3.8.2 64-bit",
   "language": "python",
   "name": "python38264bit579c7998837c475ba0e81c984a932003"
  },
  "language_info": {
   "codemirror_mode": {
    "name": "ipython",
    "version": 3
   },
   "file_extension": ".py",
   "mimetype": "text/x-python",
   "name": "python",
   "nbconvert_exporter": "python",
   "pygments_lexer": "ipython3",
   "version": "3.8.2-final"
  }
 },
 "nbformat": 4,
 "nbformat_minor": 2
}