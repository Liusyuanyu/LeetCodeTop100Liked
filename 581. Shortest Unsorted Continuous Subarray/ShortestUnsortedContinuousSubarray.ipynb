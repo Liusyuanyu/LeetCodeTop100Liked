{
 "cells": [
  {
   "cell_type": "markdown",
   "metadata": {},
   "source": [
    "# Problem"
   ]
  },
  {
   "cell_type": "code",
   "execution_count": null,
   "metadata": {},
   "outputs": [],
   "source": [
    "Given an integer array, you need to find one continuous subarray that if you only sort this subarray in ascending order, then the whole array will be sorted in ascending order, too. \n",
    "You need to find the shortest such subarray and output its length."
   ]
  },
  {
   "cell_type": "code",
   "execution_count": null,
   "metadata": {},
   "outputs": [],
   "source": [
    "class Solution:\n",
    "    def findUnsortedSubarray(self, nums: List[int]) -> int:\n",
    "        "
   ]
  },
  {
   "cell_type": "markdown",
   "metadata": {},
   "source": [
    "# Examples"
   ]
  },
  {
   "cell_type": "code",
   "execution_count": null,
   "metadata": {},
   "outputs": [],
   "source": [
    "# Example 1:\n",
    "Input: [2, 6, 4, 8, 10, 9, 15]\n",
    "Output: 5\n",
    "Explanation: You need to sort [6, 4, 8, 10, 9] in ascending order to make the whole array sorted in ascending order."
   ]
  },
  {
   "cell_type": "markdown",
   "metadata": {},
   "source": [
    "# My Algorithms"
   ]
  },
  {
   "cell_type": "code",
   "execution_count": null,
   "metadata": {},
   "outputs": [],
   "source": [
    "def findUnsortedSubarray(nums: [int]) -> int:\n",
    "    subArray = nums\n",
    "    length = len(nums)\n",
    "    while(subArray):\n",
    "        if min(subArray)==subArray[0]:\n",
    "            length -=1\n",
    "            subArray.pop(0)\n",
    "        elif max(subArray)==subArray[-1]:\n",
    "            length -=1\n",
    "            subArray.pop()\n",
    "        else:\n",
    "            return length\n",
    "    return length"
   ]
  },
  {
   "cell_type": "markdown",
   "metadata": {},
   "source": [
    "# Alternative algorithms"
   ]
  },
  {
   "cell_type": "code",
   "execution_count": null,
   "metadata": {},
   "outputs": [],
   "source": [
    "def findUnsortedSubarray(nums: [int]) -> int:\n",
    "    length = len(nums)\n",
    "    sortedNums = sorted(nums)\n",
    "    start = 0\n",
    "    end = 0\n",
    "    if sortedNums==nums:\n",
    "        return 0\n",
    "    for idx in range(length):\n",
    "        if nums[idx]!=sortedNums[idx]:\n",
    "            start=idx-1\n",
    "            break\n",
    "    for idx in range(length-1,-1,-1):\n",
    "        if nums[idx]!=sortedNums[idx]:\n",
    "            end=idx\n",
    "            break\n",
    "    return end-start"
   ]
  },
  {
   "cell_type": "code",
   "execution_count": null,
   "metadata": {},
   "outputs": [],
   "source": [
    "def findUnsortedSubarray(nums: [int]) -> int:\n",
    "    sortNums = sorted(nums)\n",
    "    low = 0\n",
    "    high = -1\n",
    "    for idx in range(len(nums)):\n",
    "        if nums[idx] != sortNums[idx]:\n",
    "            low = idx\n",
    "            break\n",
    "            \n",
    "    for idx in reversed(range(len(nums))):\n",
    "        if nums[idx] != sortNums[idx]:\n",
    "            high = idx\n",
    "            break\n",
    "    return high - low + 1"
   ]
  },
  {
   "cell_type": "markdown",
   "metadata": {},
   "source": [
    "# Sample Input and Test"
   ]
  },
  {
   "cell_type": "code",
   "execution_count": null,
   "metadata": {
    "tags": []
   },
   "outputs": [],
   "source": [
    "Input=[2, 6, 4, 8, 10, 9, 15]\n",
    "# Output: 5\n",
    "findUnsortedSubarray(Input)"
   ]
  },
  {
   "cell_type": "code",
   "execution_count": null,
   "metadata": {
    "tags": []
   },
   "outputs": [],
   "source": [
    "Input = [1,4,3,5]\n",
    "# Output: 2\n",
    "findUnsortedSubarray(Input)"
   ]
  },
  {
   "cell_type": "code",
   "execution_count": null,
   "metadata": {
    "tags": []
   },
   "outputs": [],
   "source": [
    "Input = [1]\n",
    "# Output: 0\n",
    "findUnsortedSubarray(Input)"
   ]
  },
  {
   "cell_type": "code",
   "execution_count": null,
   "metadata": {
    "tags": []
   },
   "outputs": [],
   "source": [
    "Input= [1,3,2,3,3]\n",
    "# Output: 2\n",
    "findUnsortedSubarray(Input)"
   ]
  },
  {
   "cell_type": "code",
   "execution_count": null,
   "metadata": {
    "tags": []
   },
   "outputs": [],
   "source": [
    "Input= [1,2,3,4]\n",
    "# Output: 0\n",
    "findUnsortedSubarray(Input)"
   ]
  },
  {
   "cell_type": "code",
   "execution_count": null,
   "metadata": {
    "tags": []
   },
   "outputs": [],
   "source": [
    "Input= [2,1]\n",
    "# Output: 2\n",
    "findUnsortedSubarray(Input)\n",
    "\n",
    "\n",
    "# Input= [1,3,2,2,2]\n",
    "# # Output: 4\n",
    "# findUnsortedSubarray(Input)"
   ]
  }
 ],
 "metadata": {
  "kernelspec": {
   "display_name": "Python 3.8.2 64-bit",
   "language": "python",
   "name": "python38264bit579c7998837c475ba0e81c984a932003"
  },
  "language_info": {
   "codemirror_mode": {
    "name": "ipython",
    "version": 3
   },
   "file_extension": ".py",
   "mimetype": "text/x-python",
   "name": "python",
   "nbconvert_exporter": "python",
   "pygments_lexer": "ipython3",
   "version": "3.8.2-final"
  }
 },
 "nbformat": 4,
 "nbformat_minor": 2
}