{
 "cells": [
  {
   "cell_type": "markdown",
   "metadata": {},
   "source": [
    "# Problem"
   ]
  },
  {
   "cell_type": "code",
   "execution_count": null,
   "metadata": {},
   "outputs": [],
   "source": [
    "Write an efficient algorithm that searches for a value in an m x n matrix. This matrix has the following properties:\n",
    "Integers in each row are sorted in ascending from left to right.\n",
    "Integers in each column are sorted in ascending from top to bottom."
   ]
  },
  {
   "cell_type": "code",
   "execution_count": null,
   "metadata": {},
   "outputs": [],
   "source": [
    "class Solution:\n",
    "    def searchMatrix(self, matrix, target):\n",
    "        \"\"\"\n",
    "        :type matrix: List[List[int]]\n",
    "        :type target: int\n",
    "        :rtype: bool\n",
    "        \"\"\"\n",
    "        "
   ]
  },
  {
   "cell_type": "markdown",
   "metadata": {},
   "source": [
    "# Examples"
   ]
  },
  {
   "cell_type": "code",
   "execution_count": null,
   "metadata": {},
   "outputs": [],
   "source": [
    "Consider the following matrix:\n",
    "[\n",
    "  [1,   4,  7, 11, 15],\n",
    "  [2,   5,  8, 12, 19],\n",
    "  [3,   6,  9, 16, 22],\n",
    "  [10, 13, 14, 17, 24],\n",
    "  [18, 21, 23, 26, 30]\n",
    "]\n",
    "Given target = 5, return true.\n",
    "Given target = 20, return false."
   ]
  },
  {
   "cell_type": "markdown",
   "metadata": {},
   "source": [
    "# My Algorithms"
   ]
  },
  {
   "cell_type": "code",
   "execution_count": null,
   "metadata": {},
   "outputs": [],
   "source": [
    "\n",
    "def searchMatrix(matrix, target):\n",
    "    if not matrix:\n",
    "        return False\n",
    "    rows = len(matrix)\n",
    "    cols = len(matrix[0])\n",
    "    \n",
    "    def searchHelper(aRow):\n",
    "        start, end = 0, cols-1\n",
    "        while(start <= end):\n",
    "            mid = ( start + end )//2\n",
    "            if aRow[mid]==target:\n",
    "                return True\n",
    "            elif aRow[mid] < target:\n",
    "                start = mid+1\n",
    "            else:\n",
    "                end = mid-1\n",
    "        return False        \n",
    "\n",
    "    for arow in matrix:\n",
    "        res = searchHelper(arow)\n",
    "        if res: return res\n",
    "    return False\n"
   ]
  },
  {
   "cell_type": "markdown",
   "metadata": {},
   "source": [
    "# Alternative algorithms"
   ]
  },
  {
   "cell_type": "code",
   "execution_count": null,
   "metadata": {},
   "outputs": [],
   "source": [
    "\n",
    "def searchMatrix(matrix, target):\n",
    "    if not matrix:\n",
    "        return False\n",
    "    rows = len(matrix)\n",
    "    cols = len(matrix[0])\n",
    "    row, col = 0, cols-1\n",
    "\n",
    "    while(row < rows and col >=0):\n",
    "        if matrix[row][col]==target:\n",
    "            return True\n",
    "        elif matrix[row][col]>target:\n",
    "            col -=1\n",
    "        else:\n",
    "            row +=1\n",
    "    return False\n"
   ]
  },
  {
   "cell_type": "markdown",
   "metadata": {},
   "source": [
    "# Sample Input and Test"
   ]
  },
  {
   "cell_type": "code",
   "execution_count": null,
   "metadata": {
    "tags": []
   },
   "outputs": [],
   "source": [
    "matrix= [   \\\n",
    "  [1,   4,  7, 11, 15], \\\n",
    "  [2,   5,  8, 12, 19], \\\n",
    "  [3,   6,  9, 16, 22], \\\n",
    "  [10, 13, 14, 17, 24], \\\n",
    "  [18, 21, 23, 26, 30]  \\\n",
    "]\n",
    "\n",
    "searchMatrix(matrix, 5)\n",
    "# Given target = 5, return true.\n",
    "\n",
    "# searchMatrix(matrix, 20)\n",
    "# # Given target = 20, return false.\n"
   ]
  },
  {
   "cell_type": "code",
   "execution_count": null,
   "metadata": {
    "tags": []
   },
   "outputs": [],
   "source": [
    "matrix= [   \\\n",
    "  [1,   4,  7, 11, 15], \\\n",
    "  [2,   5,  8, 12, 19], \\\n",
    "  [3,   6,  9, 16, 22], \\\n",
    "  [10, 13, 14, 17, 24], \\\n",
    "  [18, 21, 23, 26, 30]  \\\n",
    "]\n",
    "\n",
    "# searchMatrix(matrix, 30)\n",
    "searchMatrix(matrix, 26)\n"
   ]
  },
  {
   "cell_type": "code",
   "execution_count": null,
   "metadata": {
    "tags": []
   },
   "outputs": [],
   "source": [
    "matrix= [  [1, 2 ,3 ,26]]\n",
    "\n",
    "# searchMatrix(matrix, 30)\n",
    "searchMatrix(matrix, 26)\n"
   ]
  }
 ],
 "metadata": {
  "kernelspec": {
   "display_name": "Python 3.8.2 64-bit",
   "language": "python",
   "name": "python38264bit579c7998837c475ba0e81c984a932003"
  },
  "language_info": {
   "codemirror_mode": {
    "name": "ipython",
    "version": 3
   },
   "file_extension": ".py",
   "mimetype": "text/x-python",
   "name": "python",
   "nbconvert_exporter": "python",
   "pygments_lexer": "ipython3",
   "version": "3.8.2-final"
  }
 },
 "nbformat": 4,
 "nbformat_minor": 2
}