{
 "cells": [
  {
   "cell_type": "markdown",
   "metadata": {},
   "source": [
    "# Problem"
   ]
  },
  {
   "cell_type": "code",
   "execution_count": null,
   "metadata": {},
   "outputs": [],
   "source": [
    "You are given a list of non-negative integers, a1, a2, ..., an, and a target, S. Now you have 2 symbols + and -. For each integer, you should choose one from + and - as its new symbol.\n",
    "Find out how many ways to assign symbols to make sum of integers equal to target S.\n",
    "\n",
    "# Constraints:\n",
    "The length of the given array is positive and will not exceed 20.\n",
    "The sum of elements in the given array will not exceed 1000.\n",
    "Your output answer is guaranteed to be fitted in a 32-bit integer."
   ]
  },
  {
   "cell_type": "code",
   "execution_count": null,
   "metadata": {},
   "outputs": [],
   "source": [
    "class Solution:\n",
    "    def findTargetSumWays(self, nums: List[int], S: int) -> int:\n",
    "        "
   ]
  },
  {
   "cell_type": "markdown",
   "metadata": {},
   "source": [
    "# Examples"
   ]
  },
  {
   "cell_type": "code",
   "execution_count": null,
   "metadata": {},
   "outputs": [],
   "source": [
    "Example 1:\n",
    "Input: nums is [1, 1, 1, 1, 1], S is 3. \n",
    "Output: 5\n",
    "Explanation: \n",
    "\n",
    "-1+1+1+1+1 = 3\n",
    "+1-1+1+1+1 = 3\n",
    "+1+1-1+1+1 = 3\n",
    "+1+1+1-1+1 = 3\n",
    "+1+1+1+1-1 = 3\n",
    "\n",
    "There are 5 ways to assign symbols to make the sum of nums be target 3."
   ]
  },
  {
   "cell_type": "markdown",
   "metadata": {},
   "source": [
    "# My Algorithms"
   ]
  },
  {
   "cell_type": "code",
   "execution_count": null,
   "metadata": {},
   "outputs": [],
   "source": [
    "'''\n",
    "###################################\n",
    "###     Ime Limit Exceeded      ###\n",
    "###################################\n",
    "'''\n",
    "def findTargetSumWays(nums: [int], S: int) -> int: \n",
    "    ans = 0\n",
    "    def findHelper(numList, target):\n",
    "        if not numList:\n",
    "            if target==S:\n",
    "                nonlocal ans\n",
    "                ans+=1\n",
    "                return\n",
    "            return\n",
    "\n",
    "        num = numList.pop(0)\n",
    "        findHelper(numList, target-num)\n",
    "        findHelper(numList, target+num)\n",
    "        numList.insert(0, num)\n",
    "    findHelper(nums, 0)    \n",
    "    return ans"
   ]
  },
  {
   "cell_type": "code",
   "execution_count": null,
   "metadata": {},
   "outputs": [],
   "source": [
    "'''\n",
    "###################################\n",
    "###     Ime Limit Exceeded      ###\n",
    "###################################\n",
    "'''\n",
    "def findTargetSumWays(nums: [int], S: int) -> int: \n",
    "    ans = 0\n",
    "    length = len(nums)\n",
    "    def findHelper(idx, target):\n",
    "        if idx==length:\n",
    "            if target==S:\n",
    "                nonlocal ans\n",
    "                ans+=1\n",
    "                return\n",
    "            return\n",
    "\n",
    "        findHelper(idx+1, target-nums[idx])\n",
    "        findHelper(idx+1, target+nums[idx])\n",
    "    findHelper(0, 0)    \n",
    "    return ans"
   ]
  },
  {
   "cell_type": "markdown",
   "metadata": {},
   "source": [
    "# Alternative algorithms"
   ]
  },
  {
   "cell_type": "code",
   "execution_count": null,
   "metadata": {},
   "outputs": [],
   "source": [
    "def findTargetSumWays(nums: [int], S: int) -> int: \n",
    "    if not nums:\n",
    "        return 0\n",
    "    valRange = sum(nums)\n",
    "    if valRange < S:\n",
    "        return 0\n",
    "    numSize = len(nums)\n",
    "    dp = [[0]*(valRange*2+1) for _ in range(numSize+1)]\n",
    "    dp[0][valRange]=1\n",
    "\n",
    "    for idx in range(numSize):\n",
    "        for val in range(nums[idx], valRange*2+1-nums[idx]):\n",
    "            if dp[idx][val]:\n",
    "                dp[idx+1][val-nums[idx]] +=dp[idx][val]\n",
    "                dp[idx+1][val+nums[idx]] +=dp[idx][val]\n",
    "    return dp[numSize][valRange+S]"
   ]
  },
  {
   "cell_type": "code",
   "execution_count": null,
   "metadata": {},
   "outputs": [],
   "source": [
    "def findTargetSumWays(nums: [int], S: int) -> int: \n",
    "    if not nums:\n",
    "        return 0\n",
    "    valRange = sum(nums)\n",
    "    if valRange < S:\n",
    "        return 0\n",
    "    numSize = len(nums)\n",
    "    dp = [0]*(valRange+1)\n",
    "    dp[0]=1\n",
    "\n",
    "    for idx in range(numSize):\n",
    "        for val in range(nums[idx], valRange*2+1-nums[idx]):\n",
    "            if dp[idx][val]:\n",
    "                dp[idx+1][val-nums[idx]] +=dp[idx][val]\n",
    "                dp[idx+1][val+nums[idx]] +=dp[idx][val]\n",
    "    # printMatrix(dp)\n",
    "    return dp[numSize][valRange+S]"
   ]
  },
  {
   "cell_type": "code",
   "execution_count": null,
   "metadata": {},
   "outputs": [],
   "source": [
    "# Best way\n",
    "'''\n",
    "楼上的答案很妙，是转成subset sum problem作的。\n",
    "set = {a,b,c,d} 如果 a+b -c-d = S,那么split positive and negative 就有a+b = S + c + d,\n",
    "就有 a+b+c+d = S + 2(c + d), if total = a+b+c+d, then c+d = (total - S)/2 where total - S should be even, then we just need to find the number of subsets with target sum = (total - S) / 2.\n",
    "\n",
    "https://xiaoguan.gitbooks.io/leetcode/LeetCode/494-target-sum-medium.html\n",
    "'''"
   ]
  },
  {
   "cell_type": "code",
   "execution_count": null,
   "metadata": {},
   "outputs": [],
   "source": [
    "def findTargetSumWays(nums: [int], S: int) -> int: \n",
    "    valRange = sum(nums)\n",
    "    if valRange < S or (valRange+S)%2:\n",
    "        return 0\n",
    "    numSize = len(nums)\n",
    "    target = (valRange+S)//2\n",
    "    dp = [0]*(target+1)\n",
    "    dp[0]=1\n",
    "\n",
    "    for idx in range(numSize):\n",
    "        for val in range(target, nums[idx]-1, -1):\n",
    "            dp[val]+= dp[val - nums[idx]]\n",
    "    return dp[target]"
   ]
  },
  {
   "cell_type": "markdown",
   "metadata": {},
   "source": [
    "# Sample Input and Test"
   ]
  },
  {
   "cell_type": "code",
   "execution_count": null,
   "metadata": {
    "tags": []
   },
   "outputs": [],
   "source": [
    "nums = [1, 1, 1, 1, 1]\n",
    "S = 3\n",
    "# Return 5\n",
    "findTargetSumWays(nums, S) \n"
   ]
  },
  {
   "cell_type": "code",
   "execution_count": null,
   "metadata": {
    "tags": []
   },
   "outputs": [],
   "source": [
    "# nums = [1, 2, 2]\n",
    "# S = 3\n",
    "# # Return 1\n",
    "# findTargetSumWays(nums, S) \n",
    "\n",
    "nums = [1]\n",
    "S = 3\n",
    "# Return 1\n",
    "findTargetSumWays(nums, S) \n"
   ]
  },
  {
   "cell_type": "code",
   "execution_count": null,
   "metadata": {
    "tags": []
   },
   "outputs": [],
   "source": [
    "nums=[7,46,36,49,5,34,25,39,41,38,49,47,17,11,1,41,7,16,23,13]\n",
    "S = 3\n",
    "# Return 5756\n",
    "findTargetSumWays(nums, S) \n"
   ]
  },
  {
   "cell_type": "code",
   "execution_count": null,
   "metadata": {
    "tags": []
   },
   "outputs": [],
   "source": [
    "nums=[0,38,42,31,13,10,11,12,44,16,38,17,22,28,9,27,20,35,34,39]\n",
    "S = 2\n",
    "# Return 6666\n",
    "findTargetSumWays(nums, S) \n"
   ]
  },
  {
   "cell_type": "markdown",
   "metadata": {},
   "source": [
    "# Print matrix"
   ]
  },
  {
   "cell_type": "code",
   "execution_count": null,
   "metadata": {},
   "outputs": [],
   "source": [
    "def printMatrix(matrix):\n",
    "    for nums in matrix:\n",
    "        print(nums)"
   ]
  },
  {
   "cell_type": "markdown",
   "metadata": {},
   "source": [
    "# Reference Parition subset sum"
   ]
  },
  {
   "cell_type": "code",
   "execution_count": null,
   "metadata": {
    "tags": []
   },
   "outputs": [],
   "source": [
    "\n",
    "def canPartition(nums: [int]) -> bool:\n",
    "    allSum =sum(nums)\n",
    "    if allSum%2:\n",
    "        return False\n",
    "    half = allSum//2 \n",
    "    dp = [0]*(half+1)\n",
    "    dp[0]=1\n",
    "    for num in nums:\n",
    "        for val in range(half, num-1, -1):\n",
    "            if dp[val - num]:\n",
    "                dp[val]=1\n",
    "\n",
    "    print([x for x in range(half+1)])\n",
    "    print(dp)\n",
    "    return dp[half]==1\n",
    "\n",
    "# Input= [4,2,8]\n",
    "# Input= [4,2,6]\n",
    "Input= [1, 2, 3]\n",
    "canPartition(Input)\n"
   ]
  }
 ],
 "metadata": {
  "kernelspec": {
   "display_name": "Python 3.8.2 64-bit",
   "language": "python",
   "name": "python38264bit579c7998837c475ba0e81c984a932003"
  },
  "language_info": {
   "codemirror_mode": {
    "name": "ipython",
    "version": 3
   },
   "file_extension": ".py",
   "mimetype": "text/x-python",
   "name": "python",
   "nbconvert_exporter": "python",
   "pygments_lexer": "ipython3",
   "version": "3.8.2-final"
  }
 },
 "nbformat": 4,
 "nbformat_minor": 2
}