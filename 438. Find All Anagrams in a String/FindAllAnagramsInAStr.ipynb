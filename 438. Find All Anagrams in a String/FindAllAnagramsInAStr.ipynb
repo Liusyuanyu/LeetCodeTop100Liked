{
 "cells": [
  {
   "cell_type": "markdown",
   "metadata": {},
   "source": [
    "# Problem"
   ]
  },
  {
   "cell_type": "code",
   "execution_count": null,
   "metadata": {},
   "outputs": [],
   "source": [
    "Given a string s and a non-empty string p, find all the start indices of p's anagrams in s.\n",
    "Strings consists of lowercase English letters only and the length of both strings s and p will not be larger than 20,100.\n",
    "The order of output does not matter."
   ]
  },
  {
   "cell_type": "code",
   "execution_count": null,
   "metadata": {},
   "outputs": [],
   "source": [
    "class Solution:\n",
    "    def findAnagrams(self, s: str, p: str) -> List[int]:\n",
    "        "
   ]
  },
  {
   "cell_type": "markdown",
   "metadata": {},
   "source": [
    "# Examples"
   ]
  },
  {
   "cell_type": "code",
   "execution_count": null,
   "metadata": {},
   "outputs": [],
   "source": [
    "# Example 1: \n",
    "Input:\n",
    "s: \"cbaebabacd\" p: \"abc\"\n",
    "Output:\n",
    "[0, 6]\n",
    "\n",
    "Explanation:\n",
    "The substring with start index = 0 is \"cba\", which is an anagram of \"abc\".\n",
    "The substring with start index = 6 is \"bac\", which is an anagram of \"abc\".\n",
    "\n",
    "\n",
    "# Example 2: \n",
    "Input:\n",
    "s: \"abab\" p: \"ab\"\n",
    "Output:\n",
    "[0, 1, 2]\n",
    "\n",
    "Explanation:\n",
    "The substring with start index = 0 is \"ab\", which is an anagram of \"ab\".\n",
    "The substring with start index = 1 is \"ba\", which is an anagram of \"ab\".\n",
    "The substring with start index = 2 is \"ab\", which is an anagram of \"ab\"."
   ]
  },
  {
   "cell_type": "markdown",
   "metadata": {},
   "source": [
    "# My Algorithms"
   ]
  },
  {
   "cell_type": "code",
   "execution_count": null,
   "metadata": {},
   "outputs": [],
   "source": [
    "from collections import Counter\n",
    "###################################\n",
    "###     Time Limit Exceeded     ###\n",
    "###################################\n",
    "\n",
    "def findAnagrams(s: str, p: str) -> [int]:\n",
    "    content = Counter(p)\n",
    "    plength = len(p)\n",
    "    slength = len(s)\n",
    "    ans = []\n",
    "    for start in range(slength-plength+1):\n",
    "        if Counter(s[start:start+plength])==content:\n",
    "            ans+=[start]\n",
    "    return ans"
   ]
  },
  {
   "cell_type": "code",
   "execution_count": null,
   "metadata": {},
   "outputs": [],
   "source": [
    "def findAnagrams(s: str, p: str) -> [int]:\n",
    "    alphabets= [char for char in 'abcdefghijklmnopqrstuvwxyz']\n",
    "    pHash= dict.fromkeys(alphabets,0)\n",
    "    sHash= dict.fromkeys(alphabets,0)\n",
    "    ans = []\n",
    "    plength = len(p)\n",
    "    slength = len(s)\n",
    "\n",
    "    startIdx = 0\n",
    "    for char in p:\n",
    "        pHash[char]+=1\n",
    "    for char in s[:plength]:\n",
    "        sHash[char]+=1\n",
    "\n",
    "    if pHash == sHash:\n",
    "        ans +=[0]\n",
    "    for idx in range(plength,slength):\n",
    "        sHash[s[startIdx]]-=1\n",
    "        startIdx += 1 \n",
    "        sHash[s[idx]]+=1\n",
    "        if pHash == sHash:\n",
    "            ans +=[startIdx]\n",
    "    return ans"
   ]
  },
  {
   "cell_type": "markdown",
   "metadata": {},
   "source": [
    "# Alternative algorithms"
   ]
  },
  {
   "cell_type": "code",
   "execution_count": null,
   "metadata": {},
   "outputs": [],
   "source": []
  },
  {
   "cell_type": "markdown",
   "metadata": {},
   "source": [
    "# Sample Input and Test"
   ]
  },
  {
   "cell_type": "code",
   "execution_count": null,
   "metadata": {
    "tags": []
   },
   "outputs": [],
   "source": [
    "s=\"abab\"\n",
    "p= \"ab\"\n",
    "# Output:[0, 1, 2]\n",
    "findAnagrams(s,p)\n"
   ]
  },
  {
   "cell_type": "code",
   "execution_count": null,
   "metadata": {
    "tags": []
   },
   "outputs": [],
   "source": [
    "s= \"cbaebabacd\"\n",
    "p= \"abc\"\n",
    "# Return [0, 6]\n",
    "findAnagrams(s,p)\n"
   ]
  },
  {
   "cell_type": "markdown",
   "metadata": {},
   "source": [
    "# printDict"
   ]
  },
  {
   "cell_type": "code",
   "execution_count": null,
   "metadata": {},
   "outputs": [],
   "source": [
    "def printDict(content):\n",
    "    for key in content:\n",
    "        if content[key]:\n",
    "            print(key, ' : ', content[key])"
   ]
  }
 ],
 "metadata": {
  "kernelspec": {
   "display_name": "Python 3.8.2 64-bit",
   "language": "python",
   "name": "python38264bit579c7998837c475ba0e81c984a932003"
  },
  "language_info": {
   "codemirror_mode": {
    "name": "ipython",
    "version": 3
   },
   "file_extension": ".py",
   "mimetype": "text/x-python",
   "name": "python",
   "nbconvert_exporter": "python",
   "pygments_lexer": "ipython3",
   "version": "3.8.2-final"
  }
 },
 "nbformat": 4,
 "nbformat_minor": 2
}