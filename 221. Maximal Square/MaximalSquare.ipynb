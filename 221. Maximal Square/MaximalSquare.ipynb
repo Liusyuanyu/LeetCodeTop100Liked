{
 "cells": [
  {
   "cell_type": "markdown",
   "metadata": {},
   "source": [
    "# Problem"
   ]
  },
  {
   "cell_type": "code",
   "execution_count": null,
   "metadata": {},
   "outputs": [],
   "source": [
    "Given a 2D binary matrix filled with 0's and 1's, find the largest square containing only 1's and return its area."
   ]
  },
  {
   "cell_type": "code",
   "execution_count": null,
   "metadata": {},
   "outputs": [],
   "source": [
    "class Solution:\n",
    "    def maximalSquare(self, matrix: List[List[str]]) -> int:\n",
    "        "
   ]
  },
  {
   "cell_type": "code",
   "execution_count": null,
   "metadata": {},
   "outputs": [],
   "source": [
    "Input: \n",
    "1 0 1 0 0\n",
    "1 0 1 1 1\n",
    "1 1 1 1 1\n",
    "1 0 0 1 0\n",
    "\n",
    "Output: 4"
   ]
  },
  {
   "cell_type": "markdown",
   "metadata": {},
   "source": [
    "# My Algorithms"
   ]
  },
  {
   "cell_type": "code",
   "execution_count": null,
   "metadata": {},
   "outputs": [],
   "source": [
    "def maximalSquare( matrix: [[str]]) -> int:\n",
    "    if not matrix:\n",
    "        return 0\n",
    "    maxWidth = [0]\n",
    "    rows = len(matrix)\n",
    "    cols = len(matrix[0])\n",
    "    def dfsTrace(row, col, width):\n",
    "        offset = width -1\n",
    "        if row+offset >= rows or col+offset>= cols:\n",
    "            return\n",
    "        for rowIdx in range(width):\n",
    "            if matrix[row+rowIdx][col+offset]=='0':\n",
    "                square = False\n",
    "                return\n",
    "        for colIdx in range(width):\n",
    "            if matrix[row+offset][col+colIdx]=='0':\n",
    "                square = False\n",
    "                return\n",
    "        for rowIdx in range(width):\n",
    "            matrix[row+rowIdx][col+offset]='0'\n",
    "        for colIdx in range(width):\n",
    "            matrix[row+offset][col+colIdx]='0'\n",
    "        maxWidth[0] = max(maxWidth[0], width)\n",
    "        dfsTrace(row, col, width+1)\n",
    "\n",
    "    for rIdx in range(rows):\n",
    "        for cIdx in range(cols):\n",
    "            if matrix[rIdx][cIdx]=='1':\n",
    "                dfsTrace(rIdx, cIdx, 1)\n",
    "    return maxWidth[0]**2"
   ]
  },
  {
   "cell_type": "markdown",
   "metadata": {},
   "source": [
    "# Alternative algorithms"
   ]
  },
  {
   "cell_type": "code",
   "execution_count": null,
   "metadata": {},
   "outputs": [],
   "source": [
    "def maximalSquare( matrix: [[str]]) -> int:\n",
    "    if not matrix:\n",
    "        return 0\n",
    "    maxWidth = [0]\n",
    "    rows = len(matrix)\n",
    "    cols = len(matrix[0])\n",
    "    def dfsTrace(row, col, width):\n",
    "        offset = width -1\n",
    "        if row+offset >= rows or col+offset>= cols:\n",
    "            return\n",
    "        for rowIdx in range(width):\n",
    "            if matrix[row+rowIdx][col+offset]=='0':\n",
    "                square = False\n",
    "                return\n",
    "        for colIdx in range(width):\n",
    "            if matrix[row+offset][col+colIdx]=='0':\n",
    "                square = False\n",
    "                return\n",
    "        maxWidth[0] = max(maxWidth[0], width)\n",
    "        dfsTrace(row, col, width+1)\n",
    "\n",
    "    for rIdx in range(rows):\n",
    "        for cIdx in range(cols):\n",
    "            if matrix[rIdx][cIdx]=='1':\n",
    "                dfsTrace(rIdx, cIdx, 1)\n",
    "    return maxWidth[0]**2"
   ]
  },
  {
   "cell_type": "code",
   "execution_count": null,
   "metadata": {},
   "outputs": [],
   "source": [
    "# def maximalSquare( matrix: [[str]]) -> int:\n",
    "#     if not matrix:\n",
    "#         return 0\n",
    "    \n",
    "#     rows = len(matrix)\n",
    "#     cols = len(matrix[0])\n",
    "    \n",
    "#     dp = [[0] * cols for row in range(0, rows)]\n",
    "#     maxx = 1\n",
    "\n",
    "#     if rows == 1:\n",
    "#         for item in matrix[0]:\n",
    "#             if item == '1':\n",
    "#                 return 1\n",
    "#         return 0\n",
    "\n",
    "#     if cols == 1:\n",
    "#         for row in range(0, rows):\n",
    "#             if matrix[row][0] == '1':\n",
    "#                 return 1\n",
    "#         return 0\n",
    "    \n",
    "#     dp[0] = list(map(int, matrix[0]))\n",
    "    \n",
    "#     for row in range(0, rows):\n",
    "#         dp[row][0] = int(matrix[row][0])\n",
    "\n",
    "#     for row in range(1, rows):\n",
    "#         for col in range(1, cols):\n",
    "#             if matrix[row][col] == '1':\n",
    "#                 dp[row][col] = min(dp[row][col - 1], dp[row - 1][col - 1], dp[row - 1][col]) + 1\n",
    "#                 # maxx = max(dp[row][col], maxx)\n",
    "    \n",
    "#     maxx = max(map(max, dp))\n",
    "    \n",
    "#     return maxx * maxx"
   ]
  },
  {
   "cell_type": "markdown",
   "metadata": {},
   "source": [
    "# Sample Input and Test"
   ]
  },
  {
   "cell_type": "code",
   "execution_count": null,
   "metadata": {},
   "outputs": [],
   "source": [
    "def maximalSquare( matrix: [[str]]) -> int:\n",
    "    if not matrix:\n",
    "        return 0\n",
    "    rows = len(matrix)\n",
    "    cols = len(matrix[0])\n",
    "\n",
    "    dp = [[0] * cols for row in range(rows)]\n",
    "    dp[0] = list(map(int, matrix[0]))\n",
    "\n",
    "    for rowIdx in range(rows):\n",
    "        if matrix[rowIdx][0]=='1':\n",
    "            dp[rowIdx][0]=1\n",
    "\n",
    "    for rIdx in range(1, rows):\n",
    "        for cIdx in range(1, cols):\n",
    "            if matrix[rIdx][cIdx]=='1':\n",
    "                dp[rIdx][cIdx]=min(dp[rIdx-1][cIdx], dp[rIdx][cIdx-1], dp[rIdx-1][cIdx-1])+1\n",
    "\n",
    "    maxWidth = max(map(max, dp))\n",
    "    \n",
    "    return maxWidth**2"
   ]
  },
  {
   "cell_type": "code",
   "execution_count": null,
   "metadata": {
    "tags": []
   },
   "outputs": [],
   "source": [
    "\n",
    "input = [['1','0','1','0','0'],['1','0','1','1','0'],['1','1','1','1','1'],['1','0','0','1','0']]\n",
    "# output = 4\n",
    "printMatrix(input)\n",
    "maximalSquare(input)\n",
    "\n",
    "# Input: \n",
    "# 1 0 1 0 0\n",
    "# 1 0 1 1 1\n",
    "# 1 1 1 1 1\n",
    "# 1 0 0 1 0\n"
   ]
  },
  {
   "cell_type": "code",
   "execution_count": null,
   "metadata": {
    "tags": []
   },
   "outputs": [],
   "source": [
    "\n",
    "input = [['1','0','1','0','0'],['1','1','1','1','0'],['1','1','1','1','1'],['1','1','1','1','0']]\n",
    "# output = 9\n",
    "printMatrix(input)\n",
    "maximalSquare(input)\n",
    "\n"
   ]
  },
  {
   "cell_type": "code",
   "execution_count": null,
   "metadata": {
    "tags": []
   },
   "outputs": [],
   "source": [
    "input = [['1']]\n",
    "# output = 1\n",
    "printMatrix(input)\n",
    "maximalSquare(input)\n",
    "\n",
    "\n",
    "# input = [['0']]\n",
    "# # output = 0\n",
    "# printMatrix(input)\n",
    "# maximalSquare(input)\n",
    "\n",
    "# input = [['1','0','1','0','0'],['1','1','1','1','0'],['1','1','1','1','1']]\n",
    "# # output = 1\n",
    "# printMatrix(input)\n",
    "# maximalSquare(input)\n",
    "# Input: \n",
    "# 1 0 1 0 0\n",
    "# 1 0 1 1 1\n",
    "# 1 1 1 1 1\n"
   ]
  },
  {
   "cell_type": "markdown",
   "metadata": {},
   "source": [
    "# Print Matrix"
   ]
  },
  {
   "cell_type": "code",
   "execution_count": null,
   "metadata": {
    "tags": []
   },
   "outputs": [],
   "source": [
    "input = [[\"0\",\"0\",\"0\",\"1\"],[\"1\",\"1\",\"0\",\"1\"],[\"1\",\"1\",\"1\",\"1\"],[\"0\",\"1\",\"1\",\"1\"],[\"0\",\"1\",\"1\",\"1\"]]\n",
    "# output = 9\n",
    "printMatrix(input)\n",
    "maximalSquare(input)\n",
    "# Input: \n",
    "# 0 0 0 1\n",
    "# 1 1 0 1\n",
    "# 1 1 1 1\n",
    "# 0 1 1 1\n",
    "# 0 1 1 1"
   ]
  },
  {
   "cell_type": "code",
   "execution_count": null,
   "metadata": {
    "tags": []
   },
   "outputs": [],
   "source": [
    "input = [[]]\n",
    "# output = 0\n",
    "printMatrix(input)\n",
    "maximalSquare(input)\n"
   ]
  },
  {
   "cell_type": "code",
   "execution_count": null,
   "metadata": {},
   "outputs": [],
   "source": [
    "def printMatrix(mat):\n",
    "    for row in mat:\n",
    "        print(row)"
   ]
  }
 ],
 "metadata": {
  "kernelspec": {
   "display_name": "Python 3.8.2 64-bit",
   "language": "python",
   "name": "python38264bit579c7998837c475ba0e81c984a932003"
  },
  "language_info": {
   "codemirror_mode": {
    "name": "ipython",
    "version": 3
   },
   "file_extension": ".py",
   "mimetype": "text/x-python",
   "name": "python",
   "nbconvert_exporter": "python",
   "pygments_lexer": "ipython3",
   "version": "3.8.2-final"
  }
 },
 "nbformat": 4,
 "nbformat_minor": 2
}